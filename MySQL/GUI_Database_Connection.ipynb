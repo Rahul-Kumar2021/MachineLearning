{
 "cells": [
  {
   "cell_type": "code",
   "execution_count": 1,
   "id": "984979d5-d018-417b-872e-596c84eb0855",
   "metadata": {},
   "outputs": [],
   "source": [
    "from tkinter import *\n",
    "win=Tk()\n",
    "win.geometry(\"600x300\")\n",
    "win.configure(bg='yellow')\n",
    "\n",
    "def search():\n",
    "    import pymysql\n",
    "    conobj = pymysql.connect(user=\"root\",password=\"root\",database=\"9to10\")\n",
    "    curobj = conobj.cursor()\n",
    "    empid = int(e1.get())\n",
    "    curobj.execute(\"select * from emp where empid=%s\",(empid,))\n",
    "    row = curobj.fetchone()\n",
    "    res=Label(win,font=('arial',15),bg='yellow')\n",
    "    res.place(x=100,y=100)\n",
    "    if(row==None):\n",
    "        res.configure(text=\"empid does not exist\",fg='red')\n",
    "    else:\n",
    "        res.configure(text=row,fg='green')\n",
    "\n",
    "    conobj.close()\n",
    "l1 =Label(win,text=\"empid\",font=('arial',15),bg='yellow')\n",
    "l1.place(x=100,y=10)\n",
    "\n",
    "e1 =Entry(win,font=('arial',20),bd=5)\n",
    "e1.place(x=100,y=40)\n",
    "\n",
    "b=Button(win,font=('arial',15),bd=5,text=\"search\",command=search)\n",
    "b.place(x=400,y=40)\n",
    "\n",
    "win.mainloop()\n"
   ]
  },
  {
   "cell_type": "code",
   "execution_count": null,
   "id": "5c2b4433-7485-4d18-a678-f010ac278839",
   "metadata": {},
   "outputs": [],
   "source": []
  }
 ],
 "metadata": {
  "kernelspec": {
   "display_name": "Python 3 (ipykernel)",
   "language": "python",
   "name": "python3"
  },
  "language_info": {
   "codemirror_mode": {
    "name": "ipython",
    "version": 3
   },
   "file_extension": ".py",
   "mimetype": "text/x-python",
   "name": "python",
   "nbconvert_exporter": "python",
   "pygments_lexer": "ipython3",
   "version": "3.9.13"
  }
 },
 "nbformat": 4,
 "nbformat_minor": 5
}
