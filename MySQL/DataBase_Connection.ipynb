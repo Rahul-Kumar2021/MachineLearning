{
 "cells": [
  {
   "cell_type": "code",
   "execution_count": 14,
   "id": "9f7ab1c6-6fa6-4b1d-b67d-ac2c7966527a",
   "metadata": {},
   "outputs": [
    {
     "name": "stdout",
     "output_type": "stream",
     "text": [
      "Requirement already satisfied: pymysql in c:\\users\\hp\\anaconda3\\lib\\site-packages (1.1.0)\n"
     ]
    }
   ],
   "source": [
    "# Install pymysql Module\n",
    "#!pip install pymysql"
   ]
  },
  {
   "cell_type": "code",
   "execution_count": 4,
   "id": "6a1f899d-56ce-40f0-a4e5-50fafd6b6e83",
   "metadata": {},
   "outputs": [
    {
     "name": "stdout",
     "output_type": "stream",
     "text": [
      "<pymysql.connections.Connection object at 0x000001BC1F6F8A90>\n",
      "<pymysql.cursors.Cursor object at 0x000001BC1F81FF70>\n",
      "quries excuted\n"
     ]
    }
   ],
   "source": [
    "# step 1 import db specific driver module\n",
    "import pymysql\n",
    "\n",
    "# step 2 create connection object\n",
    "conobj= pymysql.connect(host=\"localhost\",port=3306,user=\"root\",password=\"root\",database=\"9to10\")\n",
    "print(conobj)\n",
    "\n",
    "\n",
    "# step 3 create cursor object: it responsible to execute sql queries\n",
    "curobj= conobj.cursor()\n",
    "print(curobj)\n",
    "\n",
    "#step 4 Excute queries on curobj\n",
    "curobj.execute(\"insert into emp values(100,'rps',1000,'hr')\")\n",
    "curobj.execute(\"update emp set empsal=empsal+1\")\n",
    "curobj.execute(\"delete from emp where empid=600\")\n",
    "\n",
    "# step 5 commit the connection\n",
    "conobj.commit()\n",
    "\n",
    "conobj.close()\n",
    "print(\"quries excuted\")"
   ]
  },
  {
   "cell_type": "code",
   "execution_count": 5,
   "id": "47d1781f-0c0c-4332-aa1b-fca0fb6d9993",
   "metadata": {},
   "outputs": [
    {
     "name": "stdout",
     "output_type": "stream",
     "text": [
      "<pymysql.connections.Connection object at 0x000001BC1F6F8E20>\n"
     ]
    },
    {
     "name": "stdin",
     "output_type": "stream",
     "text": [
      "Enter empid 2000\n",
      "Enter name dnjdnw\n",
      "Enter emsal 23343\n",
      "Enter emdept dwdd\n"
     ]
    },
    {
     "ename": "IntegrityError",
     "evalue": "(1062, \"Duplicate entry '2000' for key 'emp.PRIMARY'\")",
     "output_type": "error",
     "traceback": [
      "\u001b[1;31m---------------------------------------------------------------------------\u001b[0m",
      "\u001b[1;31mIntegrityError\u001b[0m                            Traceback (most recent call last)",
      "\u001b[1;32m~\\AppData\\Local\\Temp\\ipykernel_10236\\3757069299.py\u001b[0m in \u001b[0;36m<module>\u001b[1;34m\u001b[0m\n\u001b[0;32m      7\u001b[0m \u001b[0mesal\u001b[0m \u001b[1;33m=\u001b[0m\u001b[0mfloat\u001b[0m\u001b[1;33m(\u001b[0m\u001b[0minput\u001b[0m\u001b[1;33m(\u001b[0m\u001b[1;34m\"Enter emsal\"\u001b[0m\u001b[1;33m)\u001b[0m\u001b[1;33m)\u001b[0m\u001b[1;33m\u001b[0m\u001b[1;33m\u001b[0m\u001b[0m\n\u001b[0;32m      8\u001b[0m \u001b[0med\u001b[0m \u001b[1;33m=\u001b[0m\u001b[0minput\u001b[0m\u001b[1;33m(\u001b[0m\u001b[1;34m\"Enter emdept\"\u001b[0m\u001b[1;33m)\u001b[0m\u001b[1;33m\u001b[0m\u001b[1;33m\u001b[0m\u001b[0m\n\u001b[1;32m----> 9\u001b[1;33m \u001b[0mcurobj\u001b[0m\u001b[1;33m.\u001b[0m\u001b[0mexecute\u001b[0m\u001b[1;33m(\u001b[0m\u001b[1;34m\"insert into emp values(%s,%s,%s,%s)\"\u001b[0m\u001b[1;33m,\u001b[0m\u001b[1;33m(\u001b[0m\u001b[0meid\u001b[0m\u001b[1;33m,\u001b[0m\u001b[0men\u001b[0m\u001b[1;33m,\u001b[0m\u001b[0mesal\u001b[0m\u001b[1;33m,\u001b[0m\u001b[0med\u001b[0m\u001b[1;33m)\u001b[0m\u001b[1;33m)\u001b[0m\u001b[1;33m\u001b[0m\u001b[1;33m\u001b[0m\u001b[0m\n\u001b[0m\u001b[0;32m     10\u001b[0m \u001b[0mconobj\u001b[0m\u001b[1;33m.\u001b[0m\u001b[0mcommit\u001b[0m\u001b[1;33m(\u001b[0m\u001b[1;33m)\u001b[0m\u001b[1;33m\u001b[0m\u001b[1;33m\u001b[0m\u001b[0m\n\u001b[0;32m     11\u001b[0m \u001b[0mconobj\u001b[0m\u001b[1;33m.\u001b[0m\u001b[0mclose\u001b[0m\u001b[1;33m(\u001b[0m\u001b[1;33m)\u001b[0m\u001b[1;33m\u001b[0m\u001b[1;33m\u001b[0m\u001b[0m\n",
      "\u001b[1;32m~\\anaconda3\\lib\\site-packages\\pymysql\\cursors.py\u001b[0m in \u001b[0;36mexecute\u001b[1;34m(self, query, args)\u001b[0m\n\u001b[0;32m    151\u001b[0m         \u001b[0mquery\u001b[0m \u001b[1;33m=\u001b[0m \u001b[0mself\u001b[0m\u001b[1;33m.\u001b[0m\u001b[0mmogrify\u001b[0m\u001b[1;33m(\u001b[0m\u001b[0mquery\u001b[0m\u001b[1;33m,\u001b[0m \u001b[0margs\u001b[0m\u001b[1;33m)\u001b[0m\u001b[1;33m\u001b[0m\u001b[1;33m\u001b[0m\u001b[0m\n\u001b[0;32m    152\u001b[0m \u001b[1;33m\u001b[0m\u001b[0m\n\u001b[1;32m--> 153\u001b[1;33m         \u001b[0mresult\u001b[0m \u001b[1;33m=\u001b[0m \u001b[0mself\u001b[0m\u001b[1;33m.\u001b[0m\u001b[0m_query\u001b[0m\u001b[1;33m(\u001b[0m\u001b[0mquery\u001b[0m\u001b[1;33m)\u001b[0m\u001b[1;33m\u001b[0m\u001b[1;33m\u001b[0m\u001b[0m\n\u001b[0m\u001b[0;32m    154\u001b[0m         \u001b[0mself\u001b[0m\u001b[1;33m.\u001b[0m\u001b[0m_executed\u001b[0m \u001b[1;33m=\u001b[0m \u001b[0mquery\u001b[0m\u001b[1;33m\u001b[0m\u001b[1;33m\u001b[0m\u001b[0m\n\u001b[0;32m    155\u001b[0m         \u001b[1;32mreturn\u001b[0m \u001b[0mresult\u001b[0m\u001b[1;33m\u001b[0m\u001b[1;33m\u001b[0m\u001b[0m\n",
      "\u001b[1;32m~\\anaconda3\\lib\\site-packages\\pymysql\\cursors.py\u001b[0m in \u001b[0;36m_query\u001b[1;34m(self, q)\u001b[0m\n\u001b[0;32m    320\u001b[0m         \u001b[0mconn\u001b[0m \u001b[1;33m=\u001b[0m \u001b[0mself\u001b[0m\u001b[1;33m.\u001b[0m\u001b[0m_get_db\u001b[0m\u001b[1;33m(\u001b[0m\u001b[1;33m)\u001b[0m\u001b[1;33m\u001b[0m\u001b[1;33m\u001b[0m\u001b[0m\n\u001b[0;32m    321\u001b[0m         \u001b[0mself\u001b[0m\u001b[1;33m.\u001b[0m\u001b[0m_clear_result\u001b[0m\u001b[1;33m(\u001b[0m\u001b[1;33m)\u001b[0m\u001b[1;33m\u001b[0m\u001b[1;33m\u001b[0m\u001b[0m\n\u001b[1;32m--> 322\u001b[1;33m         \u001b[0mconn\u001b[0m\u001b[1;33m.\u001b[0m\u001b[0mquery\u001b[0m\u001b[1;33m(\u001b[0m\u001b[0mq\u001b[0m\u001b[1;33m)\u001b[0m\u001b[1;33m\u001b[0m\u001b[1;33m\u001b[0m\u001b[0m\n\u001b[0m\u001b[0;32m    323\u001b[0m         \u001b[0mself\u001b[0m\u001b[1;33m.\u001b[0m\u001b[0m_do_get_result\u001b[0m\u001b[1;33m(\u001b[0m\u001b[1;33m)\u001b[0m\u001b[1;33m\u001b[0m\u001b[1;33m\u001b[0m\u001b[0m\n\u001b[0;32m    324\u001b[0m         \u001b[1;32mreturn\u001b[0m \u001b[0mself\u001b[0m\u001b[1;33m.\u001b[0m\u001b[0mrowcount\u001b[0m\u001b[1;33m\u001b[0m\u001b[1;33m\u001b[0m\u001b[0m\n",
      "\u001b[1;32m~\\anaconda3\\lib\\site-packages\\pymysql\\connections.py\u001b[0m in \u001b[0;36mquery\u001b[1;34m(self, sql, unbuffered)\u001b[0m\n\u001b[0;32m    556\u001b[0m             \u001b[0msql\u001b[0m \u001b[1;33m=\u001b[0m \u001b[0msql\u001b[0m\u001b[1;33m.\u001b[0m\u001b[0mencode\u001b[0m\u001b[1;33m(\u001b[0m\u001b[0mself\u001b[0m\u001b[1;33m.\u001b[0m\u001b[0mencoding\u001b[0m\u001b[1;33m,\u001b[0m \u001b[1;34m\"surrogateescape\"\u001b[0m\u001b[1;33m)\u001b[0m\u001b[1;33m\u001b[0m\u001b[1;33m\u001b[0m\u001b[0m\n\u001b[0;32m    557\u001b[0m         \u001b[0mself\u001b[0m\u001b[1;33m.\u001b[0m\u001b[0m_execute_command\u001b[0m\u001b[1;33m(\u001b[0m\u001b[0mCOMMAND\u001b[0m\u001b[1;33m.\u001b[0m\u001b[0mCOM_QUERY\u001b[0m\u001b[1;33m,\u001b[0m \u001b[0msql\u001b[0m\u001b[1;33m)\u001b[0m\u001b[1;33m\u001b[0m\u001b[1;33m\u001b[0m\u001b[0m\n\u001b[1;32m--> 558\u001b[1;33m         \u001b[0mself\u001b[0m\u001b[1;33m.\u001b[0m\u001b[0m_affected_rows\u001b[0m \u001b[1;33m=\u001b[0m \u001b[0mself\u001b[0m\u001b[1;33m.\u001b[0m\u001b[0m_read_query_result\u001b[0m\u001b[1;33m(\u001b[0m\u001b[0munbuffered\u001b[0m\u001b[1;33m=\u001b[0m\u001b[0munbuffered\u001b[0m\u001b[1;33m)\u001b[0m\u001b[1;33m\u001b[0m\u001b[1;33m\u001b[0m\u001b[0m\n\u001b[0m\u001b[0;32m    559\u001b[0m         \u001b[1;32mreturn\u001b[0m \u001b[0mself\u001b[0m\u001b[1;33m.\u001b[0m\u001b[0m_affected_rows\u001b[0m\u001b[1;33m\u001b[0m\u001b[1;33m\u001b[0m\u001b[0m\n\u001b[0;32m    560\u001b[0m \u001b[1;33m\u001b[0m\u001b[0m\n",
      "\u001b[1;32m~\\anaconda3\\lib\\site-packages\\pymysql\\connections.py\u001b[0m in \u001b[0;36m_read_query_result\u001b[1;34m(self, unbuffered)\u001b[0m\n\u001b[0;32m    820\u001b[0m         \u001b[1;32melse\u001b[0m\u001b[1;33m:\u001b[0m\u001b[1;33m\u001b[0m\u001b[1;33m\u001b[0m\u001b[0m\n\u001b[0;32m    821\u001b[0m             \u001b[0mresult\u001b[0m \u001b[1;33m=\u001b[0m \u001b[0mMySQLResult\u001b[0m\u001b[1;33m(\u001b[0m\u001b[0mself\u001b[0m\u001b[1;33m)\u001b[0m\u001b[1;33m\u001b[0m\u001b[1;33m\u001b[0m\u001b[0m\n\u001b[1;32m--> 822\u001b[1;33m             \u001b[0mresult\u001b[0m\u001b[1;33m.\u001b[0m\u001b[0mread\u001b[0m\u001b[1;33m(\u001b[0m\u001b[1;33m)\u001b[0m\u001b[1;33m\u001b[0m\u001b[1;33m\u001b[0m\u001b[0m\n\u001b[0m\u001b[0;32m    823\u001b[0m         \u001b[0mself\u001b[0m\u001b[1;33m.\u001b[0m\u001b[0m_result\u001b[0m \u001b[1;33m=\u001b[0m \u001b[0mresult\u001b[0m\u001b[1;33m\u001b[0m\u001b[1;33m\u001b[0m\u001b[0m\n\u001b[0;32m    824\u001b[0m         \u001b[1;32mif\u001b[0m \u001b[0mresult\u001b[0m\u001b[1;33m.\u001b[0m\u001b[0mserver_status\u001b[0m \u001b[1;32mis\u001b[0m \u001b[1;32mnot\u001b[0m \u001b[1;32mNone\u001b[0m\u001b[1;33m:\u001b[0m\u001b[1;33m\u001b[0m\u001b[1;33m\u001b[0m\u001b[0m\n",
      "\u001b[1;32m~\\anaconda3\\lib\\site-packages\\pymysql\\connections.py\u001b[0m in \u001b[0;36mread\u001b[1;34m(self)\u001b[0m\n\u001b[0;32m   1198\u001b[0m     \u001b[1;32mdef\u001b[0m \u001b[0mread\u001b[0m\u001b[1;33m(\u001b[0m\u001b[0mself\u001b[0m\u001b[1;33m)\u001b[0m\u001b[1;33m:\u001b[0m\u001b[1;33m\u001b[0m\u001b[1;33m\u001b[0m\u001b[0m\n\u001b[0;32m   1199\u001b[0m         \u001b[1;32mtry\u001b[0m\u001b[1;33m:\u001b[0m\u001b[1;33m\u001b[0m\u001b[1;33m\u001b[0m\u001b[0m\n\u001b[1;32m-> 1200\u001b[1;33m             \u001b[0mfirst_packet\u001b[0m \u001b[1;33m=\u001b[0m \u001b[0mself\u001b[0m\u001b[1;33m.\u001b[0m\u001b[0mconnection\u001b[0m\u001b[1;33m.\u001b[0m\u001b[0m_read_packet\u001b[0m\u001b[1;33m(\u001b[0m\u001b[1;33m)\u001b[0m\u001b[1;33m\u001b[0m\u001b[1;33m\u001b[0m\u001b[0m\n\u001b[0m\u001b[0;32m   1201\u001b[0m \u001b[1;33m\u001b[0m\u001b[0m\n\u001b[0;32m   1202\u001b[0m             \u001b[1;32mif\u001b[0m \u001b[0mfirst_packet\u001b[0m\u001b[1;33m.\u001b[0m\u001b[0mis_ok_packet\u001b[0m\u001b[1;33m(\u001b[0m\u001b[1;33m)\u001b[0m\u001b[1;33m:\u001b[0m\u001b[1;33m\u001b[0m\u001b[1;33m\u001b[0m\u001b[0m\n",
      "\u001b[1;32m~\\anaconda3\\lib\\site-packages\\pymysql\\connections.py\u001b[0m in \u001b[0;36m_read_packet\u001b[1;34m(self, packet_type)\u001b[0m\n\u001b[0;32m    770\u001b[0m             \u001b[1;32mif\u001b[0m \u001b[0mself\u001b[0m\u001b[1;33m.\u001b[0m\u001b[0m_result\u001b[0m \u001b[1;32mis\u001b[0m \u001b[1;32mnot\u001b[0m \u001b[1;32mNone\u001b[0m \u001b[1;32mand\u001b[0m \u001b[0mself\u001b[0m\u001b[1;33m.\u001b[0m\u001b[0m_result\u001b[0m\u001b[1;33m.\u001b[0m\u001b[0munbuffered_active\u001b[0m \u001b[1;32mis\u001b[0m \u001b[1;32mTrue\u001b[0m\u001b[1;33m:\u001b[0m\u001b[1;33m\u001b[0m\u001b[1;33m\u001b[0m\u001b[0m\n\u001b[0;32m    771\u001b[0m                 \u001b[0mself\u001b[0m\u001b[1;33m.\u001b[0m\u001b[0m_result\u001b[0m\u001b[1;33m.\u001b[0m\u001b[0munbuffered_active\u001b[0m \u001b[1;33m=\u001b[0m \u001b[1;32mFalse\u001b[0m\u001b[1;33m\u001b[0m\u001b[1;33m\u001b[0m\u001b[0m\n\u001b[1;32m--> 772\u001b[1;33m             \u001b[0mpacket\u001b[0m\u001b[1;33m.\u001b[0m\u001b[0mraise_for_error\u001b[0m\u001b[1;33m(\u001b[0m\u001b[1;33m)\u001b[0m\u001b[1;33m\u001b[0m\u001b[1;33m\u001b[0m\u001b[0m\n\u001b[0m\u001b[0;32m    773\u001b[0m         \u001b[1;32mreturn\u001b[0m \u001b[0mpacket\u001b[0m\u001b[1;33m\u001b[0m\u001b[1;33m\u001b[0m\u001b[0m\n\u001b[0;32m    774\u001b[0m \u001b[1;33m\u001b[0m\u001b[0m\n",
      "\u001b[1;32m~\\anaconda3\\lib\\site-packages\\pymysql\\protocol.py\u001b[0m in \u001b[0;36mraise_for_error\u001b[1;34m(self)\u001b[0m\n\u001b[0;32m    219\u001b[0m         \u001b[1;32mif\u001b[0m \u001b[0mDEBUG\u001b[0m\u001b[1;33m:\u001b[0m\u001b[1;33m\u001b[0m\u001b[1;33m\u001b[0m\u001b[0m\n\u001b[0;32m    220\u001b[0m             \u001b[0mprint\u001b[0m\u001b[1;33m(\u001b[0m\u001b[1;34m\"errno =\"\u001b[0m\u001b[1;33m,\u001b[0m \u001b[0merrno\u001b[0m\u001b[1;33m)\u001b[0m\u001b[1;33m\u001b[0m\u001b[1;33m\u001b[0m\u001b[0m\n\u001b[1;32m--> 221\u001b[1;33m         \u001b[0merr\u001b[0m\u001b[1;33m.\u001b[0m\u001b[0mraise_mysql_exception\u001b[0m\u001b[1;33m(\u001b[0m\u001b[0mself\u001b[0m\u001b[1;33m.\u001b[0m\u001b[0m_data\u001b[0m\u001b[1;33m)\u001b[0m\u001b[1;33m\u001b[0m\u001b[1;33m\u001b[0m\u001b[0m\n\u001b[0m\u001b[0;32m    222\u001b[0m \u001b[1;33m\u001b[0m\u001b[0m\n\u001b[0;32m    223\u001b[0m     \u001b[1;32mdef\u001b[0m \u001b[0mdump\u001b[0m\u001b[1;33m(\u001b[0m\u001b[0mself\u001b[0m\u001b[1;33m)\u001b[0m\u001b[1;33m:\u001b[0m\u001b[1;33m\u001b[0m\u001b[1;33m\u001b[0m\u001b[0m\n",
      "\u001b[1;32m~\\anaconda3\\lib\\site-packages\\pymysql\\err.py\u001b[0m in \u001b[0;36mraise_mysql_exception\u001b[1;34m(data)\u001b[0m\n\u001b[0;32m    141\u001b[0m     \u001b[1;32mif\u001b[0m \u001b[0merrorclass\u001b[0m \u001b[1;32mis\u001b[0m \u001b[1;32mNone\u001b[0m\u001b[1;33m:\u001b[0m\u001b[1;33m\u001b[0m\u001b[1;33m\u001b[0m\u001b[0m\n\u001b[0;32m    142\u001b[0m         \u001b[0merrorclass\u001b[0m \u001b[1;33m=\u001b[0m \u001b[0mInternalError\u001b[0m \u001b[1;32mif\u001b[0m \u001b[0merrno\u001b[0m \u001b[1;33m<\u001b[0m \u001b[1;36m1000\u001b[0m \u001b[1;32melse\u001b[0m \u001b[0mOperationalError\u001b[0m\u001b[1;33m\u001b[0m\u001b[1;33m\u001b[0m\u001b[0m\n\u001b[1;32m--> 143\u001b[1;33m     \u001b[1;32mraise\u001b[0m \u001b[0merrorclass\u001b[0m\u001b[1;33m(\u001b[0m\u001b[0merrno\u001b[0m\u001b[1;33m,\u001b[0m \u001b[0merrval\u001b[0m\u001b[1;33m)\u001b[0m\u001b[1;33m\u001b[0m\u001b[1;33m\u001b[0m\u001b[0m\n\u001b[0m",
      "\u001b[1;31mIntegrityError\u001b[0m: (1062, \"Duplicate entry '2000' for key 'emp.PRIMARY'\")"
     ]
    }
   ],
   "source": [
    "import pymysql\n",
    "conobj= pymysql.connect(user=\"root\",password=\"root\",database=\"9to10\")\n",
    "print(conobj)\n",
    "curobj= conobj.cursor()\n",
    "eid =int(input(\"Enter empid\"))\n",
    "en =input(\"Enter name\")\n",
    "esal =float(input(\"Enter emsal\"))\n",
    "ed =input(\"Enter emdept\")\n",
    "curobj.execute(\"insert into emp values(%s,%s,%s,%s)\",(eid,en,esal,ed))\n",
    "conobj.commit()\n",
    "conobj.close()"
   ]
  },
  {
   "cell_type": "code",
   "execution_count": 6,
   "id": "ee53ab68-18d8-4a2f-b981-b452a57d89f0",
   "metadata": {},
   "outputs": [
    {
     "name": "stdin",
     "output_type": "stream",
     "text": [
      "Enter empid 2000\n",
      "Enter name dss\n",
      "Enter emsal 213123\n",
      "Enter emdept sdfw\n"
     ]
    },
    {
     "name": "stdout",
     "output_type": "stream",
     "text": [
      "(1062, \"Duplicate entry '2000' for key 'emp.PRIMARY'\")\n"
     ]
    }
   ],
   "source": [
    "import pymysql\n",
    "try:\n",
    "    conobj= pymysql.connect(user=\"root\",password=\"root\",database=\"9to10\")\n",
    "    curobj= conobj.cursor()\n",
    "    eid =int(input(\"Enter empid\"))\n",
    "    en =input(\"Enter name\")\n",
    "    esal =float(input(\"Enter emsal\"))\n",
    "    ed =input(\"Enter emdept\")\n",
    "    \n",
    "    curobj.execute(\"insert into emp values(%s,%s,%s,%s)\",(eid,en,esal,ed))\n",
    "    conobj.commit()\n",
    "    print(\"recod\")\n",
    "    \n",
    "except Exception as e:\n",
    "    print(e)\n",
    "conobj.close()"
   ]
  },
  {
   "cell_type": "code",
   "execution_count": 13,
   "id": "94868266-4605-405f-b4c9-5bf93b523abe",
   "metadata": {},
   "outputs": [
    {
     "name": "stdout",
     "output_type": "stream",
     "text": [
      "(100, 'rps', 1001.0, 'hr')\n",
      "((101, 'rps', 1003.0, 'hr'), (103, 'pintu', 14003.0, 'hr2'), (104, 'sachin', 15003.0, 'hr3'))\n",
      "((105, 'pk', 16503.0, 'hr'), (106, 'pant', 17003.0, 'hr6'), (201, 'chintu', 18503.0, 'coding'), (202, 'rka', 19003.0, 'coding'), (203, 'surya', 17003.0, 'accounts'), (500, 'surya', 17003.0, 'accounts'), (501, 'shikhar', 18503.0, 'cricket'), (2000, 'kohali', 10001.0, 'cricket'), (2001, 'sanjay', 6002.0, 'hr'), (2003, 'rohit', 40001.0, 'cricket'))\n"
     ]
    }
   ],
   "source": [
    "import pymysql\n",
    "conobj = pymysql.connect(user=\"root\",password=\"root\",database=\"9to10\")\n",
    "curobj = conobj.cursor()\n",
    "curobj.execute(\"select * from emp\")\n",
    "row =curobj.fetchone()\n",
    "print(row)\n",
    "\n",
    "rows = curobj.fetchmany(3)\n",
    "print(rows)\n",
    "\n",
    "rows = curobj.fetchall()\n",
    "print(rows)\n",
    "\n",
    "conobj.close()"
   ]
  },
  {
   "cell_type": "code",
   "execution_count": 14,
   "id": "2c129de7-da7c-49dc-9df2-a1c870260150",
   "metadata": {},
   "outputs": [
    {
     "name": "stdout",
     "output_type": "stream",
     "text": [
      "((100, 'rps', 1001.0, 'hr'), (101, 'rps', 1003.0, 'hr'), (103, 'pintu', 14003.0, 'hr2'), (104, 'sachin', 15003.0, 'hr3'), (105, 'pk', 16503.0, 'hr'), (106, 'pant', 17003.0, 'hr6'), (201, 'chintu', 18503.0, 'coding'), (202, 'rka', 19003.0, 'coding'), (203, 'surya', 17003.0, 'accounts'), (500, 'surya', 17003.0, 'accounts'), (501, 'shikhar', 18503.0, 'cricket'), (2000, 'kohali', 10001.0, 'cricket'), (2001, 'sanjay', 6002.0, 'hr'), (2003, 'rohit', 40001.0, 'cricket'))\n"
     ]
    }
   ],
   "source": [
    "import pymysql\n",
    "conobj = pymysql.connect(user=\"root\",password=\"root\",database=\"9to10\")\n",
    "curobj = conobj.cursor()\n",
    "curobj.execute(\"select * from emp\")\n",
    "\n",
    "rows = curobj.fetchall()\n",
    "print(rows)\n",
    "\n",
    "conobj.close()"
   ]
  },
  {
   "cell_type": "code",
   "execution_count": 15,
   "id": "eca1251f-a76e-4170-942a-6f3647b5e253",
   "metadata": {},
   "outputs": [
    {
     "name": "stdout",
     "output_type": "stream",
     "text": [
      "(100, 'rps', 1001.0, 'hr')\n",
      "(101, 'rps', 1003.0, 'hr')\n",
      "(103, 'pintu', 14003.0, 'hr2')\n",
      "(104, 'sachin', 15003.0, 'hr3')\n",
      "(105, 'pk', 16503.0, 'hr')\n",
      "(106, 'pant', 17003.0, 'hr6')\n",
      "(201, 'chintu', 18503.0, 'coding')\n",
      "(202, 'rka', 19003.0, 'coding')\n",
      "(203, 'surya', 17003.0, 'accounts')\n",
      "(500, 'surya', 17003.0, 'accounts')\n",
      "(501, 'shikhar', 18503.0, 'cricket')\n",
      "(2000, 'kohali', 10001.0, 'cricket')\n",
      "(2001, 'sanjay', 6002.0, 'hr')\n",
      "(2003, 'rohit', 40001.0, 'cricket')\n"
     ]
    }
   ],
   "source": [
    "import pymysql\n",
    "conobj = pymysql.connect(user=\"root\",password=\"root\",database=\"9to10\")\n",
    "curobj = conobj.cursor()\n",
    "curobj.execute(\"select * from emp\")\n",
    "\n",
    "rows = curobj.fetchall()\n",
    "for row in rows:\n",
    "    print(row)\n",
    "\n",
    "conobj.close()"
   ]
  },
  {
   "cell_type": "code",
   "execution_count": 16,
   "id": "6708ede4-641c-474d-bd62-2f033a79c91f",
   "metadata": {},
   "outputs": [
    {
     "name": "stdout",
     "output_type": "stream",
     "text": [
      "(100, 'rps', 1001.0, 'hr')\n",
      "(101, 'rps', 1003.0, 'hr')\n",
      "(103, 'pintu', 14003.0, 'hr2')\n",
      "(104, 'sachin', 15003.0, 'hr3')\n",
      "(105, 'pk', 16503.0, 'hr')\n",
      "(106, 'pant', 17003.0, 'hr6')\n",
      "(201, 'chintu', 18503.0, 'coding')\n",
      "(202, 'rka', 19003.0, 'coding')\n",
      "(203, 'surya', 17003.0, 'accounts')\n",
      "(500, 'surya', 17003.0, 'accounts')\n",
      "(501, 'shikhar', 18503.0, 'cricket')\n",
      "(2000, 'kohali', 10001.0, 'cricket')\n",
      "(2001, 'sanjay', 6002.0, 'hr')\n",
      "(2003, 'rohit', 40001.0, 'cricket')\n"
     ]
    }
   ],
   "source": [
    "import pymysql\n",
    "conobj = pymysql.connect(user=\"root\",password=\"root\",database=\"9to10\")\n",
    "curobj = conobj.cursor()\n",
    "curobj.execute(\"select * from emp\")\n",
    "\n",
    "for row in curobj:\n",
    "    print(row)\n",
    "\n",
    "conobj.close()"
   ]
  },
  {
   "cell_type": "code",
   "execution_count": 21,
   "id": "24469a11-cc4b-4346-88d0-f780990107b5",
   "metadata": {},
   "outputs": [
    {
     "name": "stdout",
     "output_type": "stream",
     "text": [
      "-------------------------------\n",
      "Empid\tEmpname\tEmpsal\tDept\n",
      "-------------------------------\n",
      "100\trps\t1001.0\thr\n",
      "101\trps\t1003.0\thr\n",
      "103\tpintu\t14003.0\thr2\n",
      "104\tsachin\t15003.0\thr3\n",
      "105\tpk\t16503.0\thr\n",
      "106\tpant\t17003.0\thr6\n",
      "201\tchintu\t18503.0\tcoding\n",
      "202\trka\t19003.0\tcoding\n",
      "203\tsurya\t17003.0\taccounts\n",
      "500\tsurya\t17003.0\taccounts\n",
      "501\tshikhar\t18503.0\tcricket\n",
      "2000\tkohali\t10001.0\tcricket\n",
      "2001\tsanjay\t6002.0\thr\n",
      "2003\trohit\t40001.0\tcricket\n"
     ]
    }
   ],
   "source": [
    "import pymysql\n",
    "conobj = pymysql.connect(user=\"root\",password=\"root\",database=\"9to10\")\n",
    "curobj = conobj.cursor()\n",
    "curobj.execute(\"select * from emp\")\n",
    "\n",
    "\n",
    "print(\"-------------------------------\")\n",
    "print(\"Empid\\tEmpname\\tEmpsal\\tDept\")\n",
    "print(\"-------------------------------\")\n",
    "for row in curobj:\n",
    "    print(f\"{row[0]}\\t{row[1]}\\t{row[2]}\\t{row[3]}\")\n",
    "\n",
    "conobj.close()"
   ]
  },
  {
   "cell_type": "code",
   "execution_count": 23,
   "id": "40d54235-f743-4631-971f-d1e58c38b039",
   "metadata": {},
   "outputs": [
    {
     "name": "stdout",
     "output_type": "stream",
     "text": [
      "(101, 'rps', 1003.0, 'hr')\n"
     ]
    }
   ],
   "source": [
    "import pymysql\n",
    "conobj = pymysql.connect(user=\"root\",password=\"root\",database=\"9to10\")\n",
    "curobj = conobj.cursor()\n",
    "curobj.execute(\"select * from emp where empid=101\")\n",
    "row = curobj.fetchone()\n",
    "print(row)\n",
    "\n",
    "conobj.close()"
   ]
  },
  {
   "cell_type": "code",
   "execution_count": 24,
   "id": "91ac4a4f-96a5-4fae-a169-6fd68ae3be5d",
   "metadata": {},
   "outputs": [
    {
     "name": "stdout",
     "output_type": "stream",
     "text": [
      "None\n"
     ]
    }
   ],
   "source": [
    "import pymysql\n",
    "conobj = pymysql.connect(user=\"root\",password=\"root\",database=\"9to10\")\n",
    "curobj = conobj.cursor()\n",
    "curobj.execute(\"select * from emp where empid=1091\")\n",
    "row = curobj.fetchone()\n",
    "print(row)\n",
    "\n",
    "conobj.close()"
   ]
  },
  {
   "cell_type": "code",
   "execution_count": 27,
   "id": "d7aa0dd7-8318-4015-b26f-a1262508e024",
   "metadata": {},
   "outputs": [
    {
     "name": "stdin",
     "output_type": "stream",
     "text": [
      "Enter empid 102\n"
     ]
    },
    {
     "name": "stdout",
     "output_type": "stream",
     "text": [
      "empid does not exist\n"
     ]
    }
   ],
   "source": [
    "import pymysql\n",
    "conobj = pymysql.connect(user=\"root\",password=\"root\",database=\"9to10\")\n",
    "curobj = conobj.cursor()\n",
    "empid = int(input(\"Enter empid\"))\n",
    "curobj.execute(\"select * from emp where empid=%s\",(empid))\n",
    "row = curobj.fetchone()\n",
    "if(row==None):\n",
    "    print(\"empid does not exist\")\n",
    "else:\n",
    "    print(row)\n",
    "\n",
    "conobj.close()"
   ]
  },
  {
   "cell_type": "code",
   "execution_count": 38,
   "id": "cb0e198b-3c2a-478b-96ff-8ffdb33bc20f",
   "metadata": {},
   "outputs": [],
   "source": [
    "from tkinter import *\n",
    "win=Tk()\n",
    "win.geometry(\"600x300\")\n",
    "win.configure(bg='yellow')\n",
    "\n",
    "def search():\n",
    "    import pymysql\n",
    "    conobj = pymysql.connect(user=\"root\",password=\"root\",database=\"9to10\")\n",
    "    curobj = conobj.cursor()\n",
    "    empid = int(e1.get())\n",
    "    curobj.execute(\"select * from emp where empid=%s\",(empid,))\n",
    "    row = curobj.fetchone()\n",
    "    res=Label(win,font=('arial',15),bg='yellow')\n",
    "    res.place(x=100,y=100)\n",
    "    if(row==None):\n",
    "        res.configure(text=\"empid does not exist\",fg='red')\n",
    "    else:\n",
    "        res.configure(text=row,fg='green')\n",
    "\n",
    "    conobj.close()\n",
    "l1 =Label(win,text=\"empid\",font=('arial',15),bg='yellow')\n",
    "l1.place(x=100,y=10)\n",
    "\n",
    "e1 =Entry(win,font=('arial',20),bd=5)\n",
    "e1.place(x=100,y=40)\n",
    "\n",
    "b=Button(win,font=('arial',15),bd=5,text=\"search\",command=search)\n",
    "b.place(x=400,y=40)\n",
    "\n",
    "win.mainloop()\n"
   ]
  },
  {
   "cell_type": "markdown",
   "id": "e4af18ac-fb78-4d54-9272-c3097e697d2f",
   "metadata": {},
   "source": [
    "# SQLite\n",
    "- It is file based database that supports sql queries\n",
    "- It requires zero configure.\n",
    "- Drive of SQLite is also bundled with python\n",
    "- It was initially developed for mobile devices but now it is also available for laptop/desktop."
   ]
  },
  {
   "cell_type": "code",
   "execution_count": 40,
   "id": "44de4a83-2a44-442b-8a24-0dfd3825581e",
   "metadata": {},
   "outputs": [
    {
     "name": "stdout",
     "output_type": "stream",
     "text": [
      "table create\n"
     ]
    }
   ],
   "source": [
    "import sqlite3\n",
    "conobj =sqlite3.connect(database=\"G:/mydb.sqlite\")\n",
    "curobj =conobj.cursor()\n",
    "curobj.execute(\"create table emp(empid int primary key,empsal float,empname text)\")\n",
    "conobj.commit()\n",
    "conobj.close()\n",
    "print(\"table create\")"
   ]
  },
  {
   "cell_type": "code",
   "execution_count": null,
   "id": "d68e5584-7558-49fe-8eb0-7125dd880238",
   "metadata": {},
   "outputs": [],
   "source": []
  }
 ],
 "metadata": {
  "kernelspec": {
   "display_name": "Python 3 (ipykernel)",
   "language": "python",
   "name": "python3"
  },
  "language_info": {
   "codemirror_mode": {
    "name": "ipython",
    "version": 3
   },
   "file_extension": ".py",
   "mimetype": "text/x-python",
   "name": "python",
   "nbconvert_exporter": "python",
   "pygments_lexer": "ipython3",
   "version": "3.9.13"
  }
 },
 "nbformat": 4,
 "nbformat_minor": 5
}
