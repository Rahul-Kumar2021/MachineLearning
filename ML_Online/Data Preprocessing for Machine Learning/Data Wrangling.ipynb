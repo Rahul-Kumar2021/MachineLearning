{
 "cells": [
  {
   "cell_type": "markdown",
   "id": "3689d7ea-b4d0-40e1-b495-237fa698073c",
   "metadata": {},
   "source": [
    "**Wrangling/Data Cleansing/Data munging**\n",
    "- A dispute or argument,typically one that is long and complicated.\n",
    "- it is also know as  **data munging**\n",
    "- it is a process of transforming raw to data to usable format.\n",
    "- it also includes data cleaning & manipulation."
   ]
  },
  {
   "cell_type": "markdown",
   "id": "1c24f60c-446c-4089-9fc0-78cc6a4188e5",
   "metadata": {},
   "source": [
    "**Process of Data wrangling**\n",
    "- **Discovering** (We identify the data in discovering)\n",
    "- **Data Cleaning** (Value missing,substitute,delete)\n",
    "- **Data Validate**\n",
    "- **Structuring**"
   ]
  },
  {
   "cell_type": "markdown",
   "id": "9bd8be34-d59c-4362-a42f-2b003e527784",
   "metadata": {},
   "source": [
    "**EDA(Exploratory Data Analysis)**\n",
    "- Generate questions about your data\n",
    "- Search for answers\n",
    "- Refine your questions and generate new questions"
   ]
  },
  {
   "cell_type": "markdown",
   "id": "0a597dcc-8e57-4b6f-85b7-5e0eb8b9b4c8",
   "metadata": {},
   "source": [
    "**ETL(Extract Tranfrom Load) and ELT(Extract Load Transfrom)**\n",
    "- Structured Data(**ETL**)\n",
    "- Semi or Unstructured Data(**ELT**)"
   ]
  },
  {
   "cell_type": "markdown",
   "id": "e624ee34-b0f2-46eb-84ba-88d33302db42",
   "metadata": {},
   "source": [
    "**What is exactly handling missing values?**\n",
    "- Impute\n",
    "- Substitute\n",
    "- Delete"
   ]
  },
  {
   "cell_type": "markdown",
   "id": "726eb50b-00a8-43d6-bfb1-6ed34eb51f47",
   "metadata": {},
   "source": [
    "**Feature Engineering**\n",
    "- Feature 1\n",
    "- Feature 2\n",
    "- Feature 3\n",
    "- Feature 4\n",
    "- remove the  feature 4 then analysis"
   ]
  },
  {
   "cell_type": "markdown",
   "id": "40e10715-65a2-4e70-950f-4e82f53e814c",
   "metadata": {},
   "source": [
    "**Data Anyalysis Lifecycle**\n",
    "- Discover the questions \n",
    "- Acquire the data\n",
    "- Clean the data\n",
    "- Explore the data\n",
    "- Feature Engineering\n",
    "- Predictive Modeling\n",
    "- Data Visualisation"
   ]
  },
  {
   "cell_type": "code",
   "execution_count": null,
   "id": "b957f5e9-98ca-40e0-9527-439e32870b2e",
   "metadata": {},
   "outputs": [],
   "source": []
  }
 ],
 "metadata": {
  "kernelspec": {
   "display_name": "Python 3 (ipykernel)",
   "language": "python",
   "name": "python3"
  },
  "language_info": {
   "codemirror_mode": {
    "name": "ipython",
    "version": 3
   },
   "file_extension": ".py",
   "mimetype": "text/x-python",
   "name": "python",
   "nbconvert_exporter": "python",
   "pygments_lexer": "ipython3",
   "version": "3.9.13"
  }
 },
 "nbformat": 4,
 "nbformat_minor": 5
}
