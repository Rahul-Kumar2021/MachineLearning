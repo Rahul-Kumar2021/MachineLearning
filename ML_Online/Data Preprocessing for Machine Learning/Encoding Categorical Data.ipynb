{
 "cells": [
  {
   "cell_type": "markdown",
   "id": "eaa19ce1-cf87-4e6e-b9e2-ea6d7edd86c3",
   "metadata": {},
   "source": [
    "# Categorical Data\n",
    "**Types of Categorical Data**\n",
    "- **Nominal Data**(Nominal data is used to lable variables without providing any quantitative value.**Ex- Female and Male (Not sum not sub)**)\n",
    "- **Ordinal Data**(Ordinal data has values following a natural order(**1.-Strongly 2. Neutral 3. Strongly Disagree**))"
   ]
  },
  {
   "cell_type": "markdown",
   "id": "0ca83afb-e9ff-47cb-9d73-e56423fd340f",
   "metadata": {},
   "source": [
    "# Techniques to Encode Categorical Data\n",
    "- 1. One Hot Encoding\n",
    "- 2. Label Encoding\n",
    "- 3. Ordinal Encoding"
   ]
  },
  {
   "cell_type": "markdown",
   "id": "8067cb1d-0bc4-41e4-961b-7706e25d4ca7",
   "metadata": {},
   "source": [
    "# 1. One Hot Encoding\n",
    "- For each level of a categorical feature, we create a new variable(**Categorical -- Red and Yellow**)\n",
    "- Each category is mapped with a binary variable containing either 0(**Not Avilable**) or 1(**Avilable**)."
   ]
  },
  {
   "cell_type": "code",
   "execution_count": 10,
   "id": "d75319dc-42bb-4750-88f6-9fab52660833",
   "metadata": {},
   "outputs": [],
   "source": [
    "ohe = preprocessing.OneHotEncoder()"
   ]
  },
  {
   "cell_type": "code",
   "execution_count": 11,
   "id": "67235bca-6e54-4cae-8546-5be38e49a106",
   "metadata": {},
   "outputs": [
    {
     "data": {
      "text/plain": [
       "OneHotEncoder()"
      ]
     },
     "execution_count": 11,
     "metadata": {},
     "output_type": "execute_result"
    }
   ],
   "source": [
    "ohe.fit(data)"
   ]
  },
  {
   "cell_type": "code",
   "execution_count": 13,
   "id": "cba5f83d-1cad-4a73-8fbd-f706ff99354f",
   "metadata": {},
   "outputs": [],
   "source": [
    "encoding_ohe_data = ohe.transform(data)\n"
   ]
  },
  {
   "cell_type": "code",
   "execution_count": 15,
   "id": "c6b66ee0-be3b-4f13-a3c3-64fc78580bbc",
   "metadata": {},
   "outputs": [
    {
     "data": {
      "text/plain": [
       "array([[1., 0., 0.],\n",
       "       [0., 1., 0.],\n",
       "       [0., 0., 1.]])"
      ]
     },
     "execution_count": 15,
     "metadata": {},
     "output_type": "execute_result"
    }
   ],
   "source": [
    "encoding_ohe_data.toarray()"
   ]
  },
  {
   "cell_type": "markdown",
   "id": "b92484cc-7194-45f3-818b-6b694d16146f",
   "metadata": {},
   "source": [
    "# 2. Lable Encoding\n",
    "- Lable encoding is converting the lables into a numeric form (**The machine -readable form**)."
   ]
  },
  {
   "cell_type": "code",
   "execution_count": 3,
   "id": "3fd48e1d-cd2b-4088-ac0c-39d0dc6bc6b8",
   "metadata": {},
   "outputs": [],
   "source": [
    "from sklearn import preprocessing\n",
    "import pandas as pd"
   ]
  },
  {
   "cell_type": "code",
   "execution_count": 4,
   "id": "94f413d5-8399-4609-8a56-af1cb42b5c0d",
   "metadata": {},
   "outputs": [],
   "source": [
    "le = preprocessing.LabelEncoder()"
   ]
  },
  {
   "cell_type": "code",
   "execution_count": 5,
   "id": "e0d1e73f-c463-4e91-98f2-6f69dcee32d5",
   "metadata": {},
   "outputs": [],
   "source": [
    "data = pd.DataFrame({'animals':['cat','dog','horse']})"
   ]
  },
  {
   "cell_type": "code",
   "execution_count": 6,
   "id": "89b07416-fa32-4a1a-be54-527026d653a6",
   "metadata": {},
   "outputs": [
    {
     "data": {
      "text/html": [
       "<div>\n",
       "<style scoped>\n",
       "    .dataframe tbody tr th:only-of-type {\n",
       "        vertical-align: middle;\n",
       "    }\n",
       "\n",
       "    .dataframe tbody tr th {\n",
       "        vertical-align: top;\n",
       "    }\n",
       "\n",
       "    .dataframe thead th {\n",
       "        text-align: right;\n",
       "    }\n",
       "</style>\n",
       "<table border=\"1\" class=\"dataframe\">\n",
       "  <thead>\n",
       "    <tr style=\"text-align: right;\">\n",
       "      <th></th>\n",
       "      <th>animals</th>\n",
       "    </tr>\n",
       "  </thead>\n",
       "  <tbody>\n",
       "    <tr>\n",
       "      <th>0</th>\n",
       "      <td>cat</td>\n",
       "    </tr>\n",
       "    <tr>\n",
       "      <th>1</th>\n",
       "      <td>dog</td>\n",
       "    </tr>\n",
       "    <tr>\n",
       "      <th>2</th>\n",
       "      <td>horse</td>\n",
       "    </tr>\n",
       "  </tbody>\n",
       "</table>\n",
       "</div>"
      ],
      "text/plain": [
       "  animals\n",
       "0     cat\n",
       "1     dog\n",
       "2   horse"
      ]
     },
     "execution_count": 6,
     "metadata": {},
     "output_type": "execute_result"
    }
   ],
   "source": [
    "data"
   ]
  },
  {
   "cell_type": "code",
   "execution_count": 7,
   "id": "eebdc96a-d61b-4721-b9e2-a4fecfc4d83c",
   "metadata": {},
   "outputs": [
    {
     "name": "stderr",
     "output_type": "stream",
     "text": [
      "C:\\Users\\HP\\anaconda3\\lib\\site-packages\\sklearn\\preprocessing\\_label.py:98: DataConversionWarning: A column-vector y was passed when a 1d array was expected. Please change the shape of y to (n_samples, ), for example using ravel().\n",
      "  y = column_or_1d(y, warn=True)\n"
     ]
    },
    {
     "data": {
      "text/plain": [
       "LabelEncoder()"
      ]
     },
     "execution_count": 7,
     "metadata": {},
     "output_type": "execute_result"
    }
   ],
   "source": [
    "le.fit(data)"
   ]
  },
  {
   "cell_type": "code",
   "execution_count": 8,
   "id": "b65759dd-4df6-4d66-a461-26c632b7b052",
   "metadata": {},
   "outputs": [
    {
     "name": "stderr",
     "output_type": "stream",
     "text": [
      "C:\\Users\\HP\\anaconda3\\lib\\site-packages\\sklearn\\preprocessing\\_label.py:133: DataConversionWarning: A column-vector y was passed when a 1d array was expected. Please change the shape of y to (n_samples, ), for example using ravel().\n",
      "  y = column_or_1d(y, warn=True)\n"
     ]
    }
   ],
   "source": [
    " encoding_data = le.transform(data)"
   ]
  },
  {
   "cell_type": "code",
   "execution_count": 9,
   "id": "d3cefb0a-0435-4912-b07b-7e18348fc24f",
   "metadata": {},
   "outputs": [
    {
     "data": {
      "text/plain": [
       "array([0, 1, 2])"
      ]
     },
     "execution_count": 9,
     "metadata": {},
     "output_type": "execute_result"
    }
   ],
   "source": [
    "encoding_data"
   ]
  },
  {
   "cell_type": "code",
   "execution_count": null,
   "id": "1b0cd48a-8376-49d5-8eab-eee8f1d98b96",
   "metadata": {},
   "outputs": [],
   "source": []
  }
 ],
 "metadata": {
  "kernelspec": {
   "display_name": "Python 3 (ipykernel)",
   "language": "python",
   "name": "python3"
  },
  "language_info": {
   "codemirror_mode": {
    "name": "ipython",
    "version": 3
   },
   "file_extension": ".py",
   "mimetype": "text/x-python",
   "name": "python",
   "nbconvert_exporter": "python",
   "pygments_lexer": "ipython3",
   "version": "3.9.13"
  }
 },
 "nbformat": 4,
 "nbformat_minor": 5
}
