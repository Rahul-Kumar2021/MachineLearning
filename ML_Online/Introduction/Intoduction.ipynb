{
 "cells": [
  {
   "cell_type": "markdown",
   "id": "95701f24-43b0-4fe2-b11b-0c736235c84a",
   "metadata": {},
   "source": [
    "# Machine_learning"
   ]
  },
  {
   "cell_type": "markdown",
   "id": "b28dc8d4-2d64-4b22-a0a1-7065ca1b7131",
   "metadata": {},
   "source": [
    "- Machine learning is a subset of AI.\n",
    "- **Geoffrey Everest Hinton** is the father of machine learning.\n",
    "        "
   ]
  },
  {
   "cell_type": "markdown",
   "id": "51885bf5-ce4e-4b1d-95f5-97cc8229cbad",
   "metadata": {},
   "source": [
    "**Type Of Machine Learning**\n",
    "\n",
    "        1.  Supervised Learning\n",
    "        2.  Unsupervised Learning\n",
    "        3.  Reinforcement Learning"
   ]
  },
  {
   "cell_type": "markdown",
   "id": "0b4dda8e-9e21-4f93-8c6c-16573c33bb49",
   "metadata": {},
   "source": [
    "Tools for Machine Learning\n",
    "1 Scikit-learn\n",
    "2 PyTorch\n",
    "3 TensorFlow\n",
    "4 Weka\n",
    "5 KNIME"
   ]
  },
  {
   "cell_type": "code",
   "execution_count": null,
   "id": "587519f6-0726-4e0b-8e42-9c9e31e7eb1f",
   "metadata": {},
   "outputs": [],
   "source": []
  }
 ],
 "metadata": {
  "kernelspec": {
   "display_name": "Python 3 (ipykernel)",
   "language": "python",
   "name": "python3"
  },
  "language_info": {
   "codemirror_mode": {
    "name": "ipython",
    "version": 3
   },
   "file_extension": ".py",
   "mimetype": "text/x-python",
   "name": "python",
   "nbconvert_exporter": "python",
   "pygments_lexer": "ipython3",
   "version": "3.9.13"
  }
 },
 "nbformat": 4,
 "nbformat_minor": 5
}
