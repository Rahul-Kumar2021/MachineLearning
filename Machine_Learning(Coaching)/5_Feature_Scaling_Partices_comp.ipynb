{
 "cells": [
  {
   "cell_type": "code",
   "execution_count": 10,
   "id": "754e484d-8a07-4330-8715-1e2fd4c70d2a",
   "metadata": {
    "tags": []
   },
   "outputs": [],
   "source": [
    "import pandas as pd\n",
    "from sklearn.neighbors import KNeighborsClassifier\n",
    "from sklearn.preprocessing import MinMaxScaler\n",
    "from sklearn.model_selection import train_test_split\n",
    "from sklearn.metrics import accuracy_score"
   ]
  },
  {
   "cell_type": "code",
   "execution_count": 11,
   "id": "43f7f1d8-ab64-4fd1-8e8a-4f981f8b6d78",
   "metadata": {
    "tags": []
   },
   "outputs": [],
   "source": [
    "df = pd.read_csv(\"Dataset/classification/fruits.csv\")\n",
    "df.head()\n",
    "X = df.iloc[:,:-1].values\n",
    "y = df.iloc[:,-1].values\n",
    "X_train,X_test,y_train,y_test = train_test_split(X,y,random_state=1)"
   ]
  },
  {
   "cell_type": "markdown",
   "id": "2e3e4dff-eb01-4623-b72c-1a4ad6c94233",
   "metadata": {},
   "source": [
    "## Without feature scaling"
   ]
  },
  {
   "cell_type": "code",
   "execution_count": 12,
   "id": "985fbd10-1a2b-4ab7-bf8a-87d41a0c946c",
   "metadata": {
    "tags": []
   },
   "outputs": [
    {
     "name": "stdout",
     "output_type": "stream",
     "text": [
      "Train_score :  0.8125\n",
      "Test_score :  1.0\n"
     ]
    }
   ],
   "source": [
    "model = KNeighborsClassifier()\n",
    "model.fit(X,y)\n",
    "pred_train = model.predict(X_train)\n",
    "pred_test = model.predict(X_test)\n",
    "\n",
    "print(\"Train_score : \",accuracy_score(y_train,pred_train))\n",
    "print(\"Test_score : \",accuracy_score(y_test,pred_test))"
   ]
  },
  {
   "cell_type": "markdown",
   "id": "1316f005-78bf-48c3-82fb-73bea64ebe33",
   "metadata": {},
   "source": [
    "## With feature Scaling(MinMaxScaler)"
   ]
  },
  {
   "cell_type": "code",
   "execution_count": 13,
   "id": "05fb429b-09a3-4553-a21b-a06147947406",
   "metadata": {
    "tags": []
   },
   "outputs": [
    {
     "name": "stdout",
     "output_type": "stream",
     "text": [
      "Train Score :  0.9375\n",
      "Test Score :  1.0\n"
     ]
    }
   ],
   "source": [
    "sc = MinMaxScaler(feature_range=(0,1))\n",
    "X_train_new = sc.fit_transform(X_train)\n",
    "X_test_new = sc.transform(X_test)\n",
    "\n",
    "model = KNeighborsClassifier()\n",
    "model.fit(X_train_new,y_train)\n",
    "\n",
    "pred_train_new = model.predict(X_train_new)\n",
    "pred_test_new = model.predict(X_test_new)\n",
    "\n",
    "print(\"Train Score : \",accuracy_score(y_train,pred_train_new))\n",
    "print(\"Test Score : \",accuracy_score(y_test,pred_test_new))"
   ]
  },
  {
   "cell_type": "markdown",
   "id": "e9d2d0dd-c493-43f1-87dd-c5ab1eefc37c",
   "metadata": {},
   "source": [
    "## With feature Scaling(MaxAbsScaler)"
   ]
  },
  {
   "cell_type": "code",
   "execution_count": 39,
   "id": "0a9501c8-c1bd-4782-aca4-ab37e967efc2",
   "metadata": {
    "tags": []
   },
   "outputs": [
    {
     "name": "stdout",
     "output_type": "stream",
     "text": [
      "Train Score :  0.9375\n",
      "Test Score :  1.0\n"
     ]
    }
   ],
   "source": [
    "from sklearn.preprocessing import MaxAbsScaler  ## Divide by bigest value 1/5,2/5,3/5.....\n",
    "sc = MaxAbsScaler()\n",
    "X_train_new = sc.fit_transform(X_train)\n",
    "X_test_new = sc.transform(X_test)\n",
    "\n",
    "model = KNeighborsClassifier()\n",
    "model.fit(X_train_new,y_train)\n",
    "\n",
    "pred_train_new = model.predict(X_train_new)\n",
    "pred_test_new = model.predict(X_test_new)\n",
    "\n",
    "print(\"Train Score : \",accuracy_score(y_train,pred_train_new))\n",
    "print(\"Test Score : \",accuracy_score(y_test,pred_test_new))"
   ]
  },
  {
   "cell_type": "markdown",
   "id": "3ea0d663-d943-438f-9f6f-d25311fb9f92",
   "metadata": {},
   "source": [
    "## With feature Scaling(StandardScaler)"
   ]
  },
  {
   "cell_type": "code",
   "execution_count": 40,
   "id": "de27f425-3234-4d19-a228-63e88b842205",
   "metadata": {
    "tags": []
   },
   "outputs": [
    {
     "name": "stdout",
     "output_type": "stream",
     "text": [
      "Train Score :  0.9375\n",
      "Test Score :  1.0\n"
     ]
    }
   ],
   "source": [
    "from sklearn.preprocessing import StandardScaler\n",
    "sc = StandardScaler()\n",
    "X_train_new = sc.fit_transform(X_train)\n",
    "X_test_new = sc.transform(X_test)\n",
    "\n",
    "model = KNeighborsClassifier()\n",
    "model.fit(X_train_new,y_train)\n",
    "\n",
    "pred_train_new = model.predict(X_train_new)\n",
    "pred_test_new = model.predict(X_test_new)\n",
    "\n",
    "print(\"Train Score : \",accuracy_score(y_train,pred_train_new))\n",
    "print(\"Test Score : \",accuracy_score(y_test,pred_test_new))"
   ]
  },
  {
   "cell_type": "markdown",
   "id": "9905bc7a-b288-4690-b7b9-631130797cfb",
   "metadata": {},
   "source": [
    "## Predict Sample Testing"
   ]
  },
  {
   "cell_type": "code",
   "execution_count": 16,
   "id": "7980013f-4f4d-41b6-800f-9ea0aa8b8713",
   "metadata": {
    "tags": []
   },
   "outputs": [
    {
     "name": "stdin",
     "output_type": "stream",
     "text": [
      "Enter the dimeter values 4.0\n",
      "Enter the diweight values 40\n"
     ]
    },
    {
     "data": {
      "text/plain": [
       "array(['Banana'], dtype=object)"
      ]
     },
     "execution_count": 16,
     "metadata": {},
     "output_type": "execute_result"
    }
   ],
   "source": [
    "di = float(input(\"Enter the dimeter values\"))\n",
    "dw = float(input(\"Enter the diweight values\"))\n",
    "\n",
    "#  model.predict([[di,dw]])\n",
    "sample = sc.transform([[di,dw]])\n",
    "\n",
    "model.predict(sample)"
   ]
  },
  {
   "cell_type": "code",
   "execution_count": 17,
   "id": "b62e6012-b8e4-473d-98a5-7360e86be596",
   "metadata": {
    "tags": []
   },
   "outputs": [
    {
     "data": {
      "text/html": [
       "<div>\n",
       "<style scoped>\n",
       "    .dataframe tbody tr th:only-of-type {\n",
       "        vertical-align: middle;\n",
       "    }\n",
       "\n",
       "    .dataframe tbody tr th {\n",
       "        vertical-align: top;\n",
       "    }\n",
       "\n",
       "    .dataframe thead th {\n",
       "        text-align: right;\n",
       "    }\n",
       "</style>\n",
       "<table border=\"1\" class=\"dataframe\">\n",
       "  <thead>\n",
       "    <tr style=\"text-align: right;\">\n",
       "      <th></th>\n",
       "      <th>diameter</th>\n",
       "      <th>weight</th>\n",
       "    </tr>\n",
       "  </thead>\n",
       "  <tbody>\n",
       "    <tr>\n",
       "      <th>count</th>\n",
       "      <td>22.000000</td>\n",
       "      <td>22.000000</td>\n",
       "    </tr>\n",
       "    <tr>\n",
       "      <th>mean</th>\n",
       "      <td>4.604545</td>\n",
       "      <td>78.818182</td>\n",
       "    </tr>\n",
       "    <tr>\n",
       "      <th>std</th>\n",
       "      <td>1.666898</td>\n",
       "      <td>30.624665</td>\n",
       "    </tr>\n",
       "    <tr>\n",
       "      <th>min</th>\n",
       "      <td>2.300000</td>\n",
       "      <td>25.000000</td>\n",
       "    </tr>\n",
       "    <tr>\n",
       "      <th>25%</th>\n",
       "      <td>3.000000</td>\n",
       "      <td>52.500000</td>\n",
       "    </tr>\n",
       "    <tr>\n",
       "      <th>50%</th>\n",
       "      <td>4.800000</td>\n",
       "      <td>87.500000</td>\n",
       "    </tr>\n",
       "    <tr>\n",
       "      <th>75%</th>\n",
       "      <td>5.950000</td>\n",
       "      <td>100.000000</td>\n",
       "    </tr>\n",
       "    <tr>\n",
       "      <th>max</th>\n",
       "      <td>7.500000</td>\n",
       "      <td>120.000000</td>\n",
       "    </tr>\n",
       "  </tbody>\n",
       "</table>\n",
       "</div>"
      ],
      "text/plain": [
       "        diameter      weight\n",
       "count  22.000000   22.000000\n",
       "mean    4.604545   78.818182\n",
       "std     1.666898   30.624665\n",
       "min     2.300000   25.000000\n",
       "25%     3.000000   52.500000\n",
       "50%     4.800000   87.500000\n",
       "75%     5.950000  100.000000\n",
       "max     7.500000  120.000000"
      ]
     },
     "execution_count": 17,
     "metadata": {},
     "output_type": "execute_result"
    }
   ],
   "source": [
    "## Magic Statisics\n",
    "df.describe()"
   ]
  },
  {
   "cell_type": "markdown",
   "id": "9bf9f965-3643-4999-9fbc-98689cd52340",
   "metadata": {},
   "source": [
    "## Ploating visuallition this classification"
   ]
  },
  {
   "cell_type": "code",
   "execution_count": 18,
   "id": "63371117-514d-4efd-bf31-2aa99a94b497",
   "metadata": {
    "tags": []
   },
   "outputs": [],
   "source": [
    "# import lib\n",
    "import matplotlib.pyplot as plt\n",
    "import seaborn as sb"
   ]
  },
  {
   "cell_type": "code",
   "execution_count": 19,
   "id": "1757117a-42e5-461e-9fa2-993feddb497b",
   "metadata": {
    "tags": []
   },
   "outputs": [
    {
     "data": {
      "text/plain": [
       "<function matplotlib.pyplot.show(close=None, block=None)>"
      ]
     },
     "execution_count": 19,
     "metadata": {},
     "output_type": "execute_result"
    },
    {
     "data": {
      "image/png": "[encoded data removed]",
      "text/plain": [
       "<Figure size 640x480 with 1 Axes>"
      ]
     },
     "metadata": {},
     "output_type": "display_data"
    }
   ],
   "source": [
    "sb.scatterplot(x=df.diameter,y= df.weight)\n",
    "plt.show"
   ]
  },
  {
   "cell_type": "code",
   "execution_count": 21,
   "id": "c15289d9-709a-4fd0-bbee-61eb6c5132fd",
   "metadata": {
    "tags": []
   },
   "outputs": [
    {
     "data": {
      "text/plain": [
       "<function matplotlib.pyplot.show(close=None, block=None)>"
      ]
     },
     "execution_count": 21,
     "metadata": {},
     "output_type": "execute_result"
    },
    {
     "data": {
      "image/png": "[encoded data removed]",
      "text/plain": [
       "<Figure size 640x480 with 1 Axes>"
      ]
     },
     "metadata": {},
     "output_type": "display_data"
    }
   ],
   "source": [
    "sb.scatterplot(x=df.diameter,y= df.weight,hue=df.FruitName)\n",
    "plt.show"
   ]
  },
  {
   "cell_type": "markdown",
   "id": "6b2cae93-1d7f-401d-85a6-8b37039f3908",
   "metadata": {
    "tags": []
   },
   "source": [
    "### Parameter   v/s Hyper-parameter\n",
    "\n",
    "- **Parameters** are values that an object learn from data\n",
    "- **Hyper-parameter** are values that we pass explicity to object\n",
    "\n",
    "- exp:\n",
    "    - in scalar object\n",
    "        - minrange,maxrange are hyper-parameter\n",
    "        - Xmax,xmin are parameter"
   ]
  },
  {
   "cell_type": "markdown",
   "id": "827b391c-431b-47f0-a0c3-d58e84d26848",
   "metadata": {},
   "source": [
    "## Feature Scaling with  Model hyper-parameter tuning"
   ]
  },
  {
   "cell_type": "code",
   "execution_count": 33,
   "id": "208ce43f-b76e-4746-b1d4-9d8d80dd0934",
   "metadata": {
    "tags": []
   },
   "outputs": [
    {
     "name": "stdout",
     "output_type": "stream",
     "text": [
      "Train Score :  0.9375\n",
      "Test Score :  1.0\n"
     ]
    }
   ],
   "source": [
    "sc = MinMaxScaler(feature_range=(0,1))\n",
    "X_train_new = sc.fit_transform(X_train)\n",
    "X_test_new = sc.transform(X_test)\n",
    "\n",
    "model = KNeighborsClassifier(n_neighbors=5) ## twing (N_neighbors=5(genearal_fix))\n",
    "model.fit(X_train_new,y_train)\n",
    "\n",
    "pred_train_new = model.predict(X_train_new)\n",
    "pred_test_new = model.predict(X_test_new)\n",
    "\n",
    "print(\"Train Score : \",accuracy_score(y_train,pred_train_new))\n",
    "print(\"Test Score : \",accuracy_score(y_test,pred_test_new))"
   ]
  },
  {
   "cell_type": "code",
   "execution_count": 35,
   "id": "13de9462-defa-4bc9-a0b7-e6705b98aa66",
   "metadata": {
    "tags": []
   },
   "outputs": [
    {
     "name": "stdout",
     "output_type": "stream",
     "text": [
      "Neighbors  1\n",
      "Train Score :  0.9375\n",
      "Test Score :  1.0\n",
      "Neighbors  2\n",
      "Train Score :  0.9375\n",
      "Test Score :  1.0\n",
      "Neighbors  3\n",
      "Train Score :  0.9375\n",
      "Test Score :  1.0\n",
      "Neighbors  4\n",
      "Train Score :  0.9375\n",
      "Test Score :  1.0\n",
      "Neighbors  5\n",
      "Train Score :  0.9375\n",
      "Test Score :  1.0\n",
      "Neighbors  6\n",
      "Train Score :  0.9375\n",
      "Test Score :  1.0\n",
      "Neighbors  7\n",
      "Train Score :  0.9375\n",
      "Test Score :  1.0\n",
      "Neighbors  8\n",
      "Train Score :  0.9375\n",
      "Test Score :  1.0\n",
      "Neighbors  9\n",
      "Train Score :  0.9375\n",
      "Test Score :  1.0\n"
     ]
    }
   ],
   "source": [
    "sc = MinMaxScaler(feature_range=(0,1))\n",
    "X_train_new = sc.fit_transform(X_train)\n",
    "X_test_new = sc.transform(X_test)\n",
    "\n",
    "for i in range(1,10):\n",
    "\n",
    "    model = KNeighborsClassifier(n_neighbors=5) ## twing (N_neighbors=5(genearal_fix))\n",
    "    model.fit(X_train_new,y_train)\n",
    "\n",
    "    pred_train_new = model.predict(X_train_new)\n",
    "    pred_test_new = model.predict(X_test_new)\n",
    "    \n",
    "\n",
    "    print(\"Neighbors \",i)\n",
    "    print(\"Train Score : \",accuracy_score(y_train,pred_train_new))\n",
    "    print(\"Test Score : \",accuracy_score(y_test,pred_test_new))"
   ]
  },
  {
   "cell_type": "code",
   "execution_count": 37,
   "id": "a3175b8a-0616-4405-a9fd-51d9cf235cc6",
   "metadata": {
    "tags": []
   },
   "outputs": [
    {
     "name": "stdout",
     "output_type": "stream",
     "text": [
      "-------------- Euclidean---------------\n",
      "Train Score :  0.9375\n",
      "Test Score :  1.0\n",
      "-------------- Manhattan---------------\n",
      "Train Score :  0.9375\n",
      "Test Score :  1.0\n",
      "-------------- Minkowski with p =1  ---------------\n",
      "Train Score :  0.9375\n",
      "Test Score :  1.0\n",
      "-------------- Minkowski with p =2  ---------------\n",
      "Train Score :  0.9375\n",
      "Test Score :  1.0\n",
      "-------------- Minkowski with p =3  ---------------\n",
      "Train Score :  0.9375\n",
      "Test Score :  1.0\n"
     ]
    }
   ],
   "source": [
    "sc = MinMaxScaler(feature_range=(0,1))\n",
    "X_train_new = sc.fit_transform(X_train)\n",
    "X_test_new = sc.transform(X_test)\n",
    "\n",
    "model = KNeighborsClassifier(n_neighbors=5,metric=\"euclidean\") \n",
    "model.fit(X_train_new,y_train)\n",
    "\n",
    "pred_train_new = model.predict(X_train_new)\n",
    "pred_test_new = model.predict(X_test_new)\n",
    "print(\"-------------- Euclidean---------------\")\n",
    "print(\"Train Score : \",accuracy_score(y_train,pred_train_new))\n",
    "print(\"Test Score : \",accuracy_score(y_test,pred_test_new))\n",
    "\n",
    "\n",
    "\n",
    "model = KNeighborsClassifier(n_neighbors=5,metric=\"manhattan\") \n",
    "model.fit(X_train_new,y_train)\n",
    "\n",
    "pred_train_new = model.predict(X_train_new)\n",
    "pred_test_new = model.predict(X_test_new)\n",
    "print(\"-------------- Manhattan---------------\")\n",
    "print(\"Train Score : \",accuracy_score(y_train,pred_train_new))\n",
    "print(\"Test Score : \",accuracy_score(y_test,pred_test_new))\n",
    "\n",
    "\n",
    "\n",
    "model = KNeighborsClassifier(n_neighbors=5,metric=\"minkowski\",p=1) \n",
    "model.fit(X_train_new,y_train)\n",
    "\n",
    "pred_train_new = model.predict(X_train_new)\n",
    "pred_test_new = model.predict(X_test_new)\n",
    "print(\"-------------- Minkowski with p =1  ---------------\")\n",
    "print(\"Train Score : \",accuracy_score(y_train,pred_train_new))\n",
    "print(\"Test Score : \",accuracy_score(y_test,pred_test_new))\n",
    "\n",
    "\n",
    "model = KNeighborsClassifier(n_neighbors=5,metric=\"minkowski\",p=2) \n",
    "model.fit(X_train_new,y_train)\n",
    "\n",
    "pred_train_new = model.predict(X_train_new)\n",
    "pred_test_new = model.predict(X_test_new)\n",
    "print(\"-------------- Minkowski with p =2  ---------------\")\n",
    "print(\"Train Score : \",accuracy_score(y_train,pred_train_new))\n",
    "print(\"Test Score : \",accuracy_score(y_test,pred_test_new))\n",
    "\n",
    "\n",
    "model = KNeighborsClassifier(n_neighbors=5,metric=\"minkowski\",p=3) \n",
    "model.fit(X_train_new,y_train)\n",
    "\n",
    "pred_train_new = model.predict(X_train_new)\n",
    "pred_test_new = model.predict(X_test_new)\n",
    "print(\"-------------- Minkowski with p =3  ---------------\")\n",
    "print(\"Train Score : \",accuracy_score(y_train,pred_train_new))\n",
    "print(\"Test Score : \",accuracy_score(y_test,pred_test_new))"
   ]
  },
  {
   "cell_type": "markdown",
   "id": "39750d57-025c-43e2-8281-5f2eba86a076",
   "metadata": {},
   "source": [
    "## Testing Twing and Metrix"
   ]
  },
  {
   "cell_type": "code",
   "execution_count": 47,
   "id": "585bd69c-91b4-4949-b9a5-c52a70a06999",
   "metadata": {
    "tags": []
   },
   "outputs": [
    {
     "name": "stdout",
     "output_type": "stream",
     "text": [
      "Neighbors & euclidean 1\n",
      "Train Score :  1.0\n",
      "Test Score :  1.0\n",
      "Neighbors & euclidean 2\n",
      "Train Score :  0.9375\n",
      "Test Score :  1.0\n",
      "Neighbors & euclidean 3\n",
      "Train Score :  0.9375\n",
      "Test Score :  1.0\n",
      "Neighbors & euclidean 4\n",
      "Train Score :  0.9375\n",
      "Test Score :  1.0\n",
      "Neighbors & euclidean 5\n",
      "Train Score :  0.9375\n",
      "Test Score :  1.0\n",
      "Neighbors & euclidean 6\n",
      "Train Score :  0.8125\n",
      "Test Score :  1.0\n",
      "Neighbors & euclidean 7\n",
      "Train Score :  0.875\n",
      "Test Score :  1.0\n",
      "Neighbors & euclidean 8\n",
      "Train Score :  0.6875\n",
      "Test Score :  0.6666666666666666\n",
      "Neighbors & euclidean 9\n",
      "Train Score :  0.875\n",
      "Test Score :  0.8333333333333334\n",
      "Neighbors & manhattan 1\n",
      "Train Score :  1.0\n",
      "Test Score :  1.0\n",
      "Neighbors & manhattan 2\n",
      "Train Score :  0.9375\n",
      "Test Score :  1.0\n",
      "Neighbors & manhattan 3\n",
      "Train Score :  0.9375\n",
      "Test Score :  1.0\n",
      "Neighbors & manhattan 4\n",
      "Train Score :  0.9375\n",
      "Test Score :  1.0\n",
      "Neighbors & Minkowski 1\n",
      "Train Score :  1.0\n",
      "Test Score :  1.0\n",
      "Neighbors & Minkowski 2\n",
      "Train Score :  0.9375\n",
      "Test Score :  1.0\n",
      "Neighbors & Minkowski 3\n",
      "Train Score :  0.9375\n",
      "Test Score :  1.0\n",
      "Neighbors & Minkowski 4\n",
      "Train Score :  0.9375\n",
      "Test Score :  1.0\n"
     ]
    }
   ],
   "source": [
    "sc = MinMaxScaler(feature_range=(0,1))\n",
    "X_train_new = sc.fit_transform(X_train)\n",
    "X_test_new = sc.transform(X_test)\n",
    "\n",
    "for i in range(1,10):\n",
    "\n",
    "    model = KNeighborsClassifier(n_neighbors=i,metric=\"euclidean\") ## twing (N_neighbors=5(genearal_fix))\n",
    "    model.fit(X_train_new,y_train)\n",
    "\n",
    "    pred_train_new = model.predict(X_train_new)\n",
    "    pred_test_new = model.predict(X_test_new)\n",
    "    \n",
    "\n",
    "    print(\"Neighbors & euclidean\",i)\n",
    "    print(\"Train Score : \",accuracy_score(y_train,pred_train_new))\n",
    "    print(\"Test Score : \",accuracy_score(y_test,pred_test_new))\n",
    "    \n",
    "    \n",
    "    \n",
    "sc = MinMaxScaler(feature_range=(0,1))\n",
    "X_train_new = sc.fit_transform(X_train)\n",
    "X_test_new = sc.transform(X_test)\n",
    "\n",
    "for i in range(1,5):\n",
    "\n",
    "    model = KNeighborsClassifier(n_neighbors=i,metric=\"manhattan\") \n",
    "    model.fit(X_train_new,y_train)\n",
    "\n",
    "    pred_train_new = model.predict(X_train_new)\n",
    "    pred_test_new = model.predict(X_test_new)\n",
    "    \n",
    "\n",
    "    print(\"Neighbors & manhattan\",i)\n",
    "    print(\"Train Score : \",accuracy_score(y_train,pred_train_new))\n",
    "    print(\"Test Score : \",accuracy_score(y_test,pred_test_new))\n",
    "    \n",
    "    \n",
    "for i in range(1,5):\n",
    "\n",
    "    model = KNeighborsClassifier(n_neighbors=i,metric=\"minkowski\",p=i) \n",
    "    model.fit(X_train_new,y_train)\n",
    "\n",
    "    pred_train_new = model.predict(X_train_new)\n",
    "    pred_test_new = model.predict(X_test_new)\n",
    "    \n",
    "\n",
    "    print(\"Neighbors & Minkowski\",i)\n",
    "    print(\"Train Score : \",accuracy_score(y_train,pred_train_new))\n",
    "    print(\"Test Score : \",accuracy_score(y_test,pred_test_new))\n",
    "    \n",
    "    "
   ]
  },
  {
   "cell_type": "code",
   "execution_count": 52,
   "id": "3b60a7c4-42de-440a-981e-65dd8cfcddbd",
   "metadata": {
    "tags": []
   },
   "outputs": [
    {
     "name": "stdout",
     "output_type": "stream",
     "text": [
      "Neighbors & Minkowski 2\n",
      "Train Score :  0.9375\n",
      "Test Score :  1.0\n",
      "Neighbors & Minkowski 3\n",
      "Train Score :  0.9375\n",
      "Test Score :  1.0\n",
      "Neighbors & Minkowski 3\n",
      "Train Score :  0.9375\n",
      "Test Score :  1.0\n",
      "Neighbors & Minkowski 4\n",
      "Train Score :  0.9375\n",
      "Test Score :  1.0\n",
      "Neighbors & Minkowski 4\n",
      "Train Score :  0.9375\n",
      "Test Score :  1.0\n",
      "Neighbors & Minkowski 4\n",
      "Train Score :  0.9375\n",
      "Test Score :  1.0\n"
     ]
    }
   ],
   "source": [
    "sc = MinMaxScaler(feature_range=(0,1))\n",
    "X_train_new = sc.fit_transform(X_train)\n",
    "X_test_new = sc.transform(X_test)\n",
    "\n",
    "for i in range(1,5):\n",
    "    for j in range(1,i):\n",
    "            model = KNeighborsClassifier(n_neighbors=i,metric=\"minkowski\",p=j) ## twing (N_neighbors=5(genearal_fix))\n",
    "            model.fit(X_train_new,y_train)\n",
    "\n",
    "            pred_train_new = model.predict(X_train_new)\n",
    "            pred_test_new = model.predict(X_test_new)\n",
    "\n",
    "\n",
    "            print(\"Neighbors & Minkowski\",i)\n",
    "            print(\"Train Score : \",accuracy_score(y_train,pred_train_new))\n",
    "            print(\"Test Score : \",accuracy_score(y_test,pred_test_new))\n",
    "\n"
   ]
  },
  {
   "cell_type": "code",
   "execution_count": null,
   "id": "0fd934f5-937e-4f6e-b521-4a1f6980031f",
   "metadata": {},
   "outputs": [],
   "source": []
  }
 ],
 "metadata": {
  "kernelspec": {
   "display_name": "Python 3 (ipykernel)",
   "language": "python",
   "name": "python3"
  },
  "language_info": {
   "codemirror_mode": {
    "name": "ipython",
    "version": 3
   },
   "file_extension": ".py",
   "mimetype": "text/x-python",
   "name": "python",
   "nbconvert_exporter": "python",
   "pygments_lexer": "ipython3",
   "version": "3.11.4"
  }
 },
 "nbformat": 4,
 "nbformat_minor": 5
}
