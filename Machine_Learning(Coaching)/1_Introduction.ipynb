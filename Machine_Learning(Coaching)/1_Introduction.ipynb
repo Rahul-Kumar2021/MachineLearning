{
 "cells": [
  {
   "cell_type": "markdown",
   "id": "10055a24-1095-43ea-a926-aee97b3fa87b",
   "metadata": {},
   "source": [
    "# AI(Artificial intelligence)\n",
    "- **AI :** Decision making using any technique.\n",
    "- **ML :** Decision making using experience with traditional algorithms.\n",
    "- **AI :** Decision making using experience with nueral networks."
   ]
  },
  {
   "cell_type": "markdown",
   "id": "8f0bb69e-9cb9-46aa-b654-0c77c40e0314",
   "metadata": {},
   "source": [
    "# ML(Machine Learning)\n",
    "- It is technique that enables program to learn from existing data (Experience) then make prediction solution about similar type useen problem.\n",
    "\n",
    "- Machine Learning is a subset of AI."
   ]
  },
  {
   "cell_type": "markdown",
   "id": "cae43ae6-268d-4896-af81-f41ca65c155f",
   "metadata": {},
   "source": [
    "## Python Libs for ML Implementation:\n",
    "- **Pandas**\n",
    "- **Scikit Learn(project name),sklearn(lib name)**\n",
    "- **nltk**\n",
    "- **textblob**\n",
    "- **Opencv**\n",
    "- **etc**"
   ]
  },
  {
   "cell_type": "code",
   "execution_count": 5,
   "id": "3b66e4bd-a69b-49ad-80aa-d49f4a775118",
   "metadata": {
    "tags": []
   },
   "outputs": [],
   "source": [
    "#import sklearn\n",
    "#sklearn.__version__"
   ]
  },
  {
   "cell_type": "markdown",
   "id": "6c78265c-6bd6-4591-8437-cfd8a0bef92e",
   "metadata": {},
   "source": [
    "### Teminology used in ML:\n",
    "- **Dataset:** **It represents experience in ML**\n",
    "    - Structured(row/cols)\n",
    "    - Unstructured(text)\n",
    "    - Images\n",
    "    \n",
    "- **Sample:** **Each row in Dataset**\n",
    "    - Instance/tuple/observation\n",
    "    \n",
    "- **Features:** **All inputs cols**\n",
    "    - Attribute/Dimension\n",
    "    \n",
    "- **Target:** **It represents output col**"
   ]
  },
  {
   "cell_type": "markdown",
   "id": "c77047d3-13ae-4609-9f62-c15ba4d42eb5",
   "metadata": {},
   "source": [
    "### Diffrence btw Traditional Programing and Machine Learning\n",
    "\n",
    "- **Traditonal Programing**\n",
    "    - **Program**\n",
    "        - logic\n",
    "        - input\n",
    "    - Output\n",
    "    \n",
    "- **Traditonal Programing**\n",
    "    - **Program**\n",
    "        - Experience\n",
    "        - input\n",
    "    - Output(Prediction)"
   ]
  },
  {
   "cell_type": "markdown",
   "id": "c27ceb86-4ce6-4ed0-9301-290b46da9635",
   "metadata": {},
   "source": [
    "### Types Of ML\n",
    "- **Supervise Learning:** Features & target both are present\n",
    "    - **Further 2 types**\n",
    "        - **1.** Classification\n",
    "        - **2.** Regression\n",
    "        \n",
    "- **Unsupervise Learning:** Only features are given\n",
    "    - **Further 2 types**\n",
    "        - **1.** Clustering\n",
    "        - **2.** Association\n",
    "        \n",
    "- **Reniforcement Learning:** No initial data is given\n",
    "    - **Further 2 types**\n",
    "        - **1.** Positive Reinforcement\n",
    "        - **2.** Negative Reinforcement"
   ]
  },
  {
   "cell_type": "markdown",
   "id": "84934f58-2219-49cc-92a5-003d5e370eb6",
   "metadata": {
    "tags": []
   },
   "source": [
    "### Algorithm\n",
    "- **An algorthim is a squence of steps in a process.**\n"
   ]
  },
  {
   "cell_type": "code",
   "execution_count": 9,
   "id": "658f6b40-3fbe-42c0-836c-61a65c032c23",
   "metadata": {
    "tags": []
   },
   "outputs": [],
   "source": [
    "import numpy as np\n",
    "import pandas as pd"
   ]
  },
  {
   "cell_type": "code",
   "execution_count": 10,
   "id": "84016089-c82c-49ba-a120-ecda80545463",
   "metadata": {
    "tags": []
   },
   "outputs": [
    {
     "data": {
      "text/html": [
       "<div>\n",
       "<style scoped>\n",
       "    .dataframe tbody tr th:only-of-type {\n",
       "        vertical-align: middle;\n",
       "    }\n",
       "\n",
       "    .dataframe tbody tr th {\n",
       "        vertical-align: top;\n",
       "    }\n",
       "\n",
       "    .dataframe thead th {\n",
       "        text-align: right;\n",
       "    }\n",
       "</style>\n",
       "<table border=\"1\" class=\"dataframe\">\n",
       "  <thead>\n",
       "    <tr style=\"text-align: right;\">\n",
       "      <th></th>\n",
       "      <th>diameter</th>\n",
       "      <th>weight</th>\n",
       "      <th>FruitName</th>\n",
       "    </tr>\n",
       "  </thead>\n",
       "  <tbody>\n",
       "    <tr>\n",
       "      <th>0</th>\n",
       "      <td>3.0</td>\n",
       "      <td>30</td>\n",
       "      <td>Banana</td>\n",
       "    </tr>\n",
       "    <tr>\n",
       "      <th>1</th>\n",
       "      <td>6.0</td>\n",
       "      <td>100</td>\n",
       "      <td>Apple</td>\n",
       "    </tr>\n",
       "    <tr>\n",
       "      <th>2</th>\n",
       "      <td>6.1</td>\n",
       "      <td>95</td>\n",
       "      <td>Apple</td>\n",
       "    </tr>\n",
       "    <tr>\n",
       "      <th>3</th>\n",
       "      <td>3.2</td>\n",
       "      <td>35</td>\n",
       "      <td>Banana</td>\n",
       "    </tr>\n",
       "    <tr>\n",
       "      <th>4</th>\n",
       "      <td>5.5</td>\n",
       "      <td>80</td>\n",
       "      <td>Apple</td>\n",
       "    </tr>\n",
       "  </tbody>\n",
       "</table>\n",
       "</div>"
      ],
      "text/plain": [
       "   diameter  weight FruitName\n",
       "0       3.0      30    Banana\n",
       "1       6.0     100     Apple\n",
       "2       6.1      95     Apple\n",
       "3       3.2      35    Banana\n",
       "4       5.5      80     Apple"
      ]
     },
     "execution_count": 10,
     "metadata": {},
     "output_type": "execute_result"
    }
   ],
   "source": [
    "df = pd.read_csv(\"DataSet/classification/fruits.csv\")\n",
    "df.head()"
   ]
  },
  {
   "cell_type": "code",
   "execution_count": 11,
   "id": "8e0e69c4-4c49-49aa-b2dc-d79f21bf68cf",
   "metadata": {
    "tags": []
   },
   "outputs": [],
   "source": [
    "df_features = df.iloc[:,:-1] # only numeric value to use "
   ]
  },
  {
   "cell_type": "code",
   "execution_count": 12,
   "id": "3193bc4c-0683-4bfb-b4e5-6d401dcf44da",
   "metadata": {
    "tags": []
   },
   "outputs": [],
   "source": [
    "X =df_features.values"
   ]
  },
  {
   "cell_type": "code",
   "execution_count": 17,
   "id": "f308d933-fa6e-4b81-bea4-a471c8bca2c5",
   "metadata": {
    "tags": []
   },
   "outputs": [],
   "source": [
    "series_target = df.iloc[:,-1] # string,numeric etc values are use"
   ]
  },
  {
   "cell_type": "code",
   "execution_count": 19,
   "id": "02f3f7fe-998f-4945-9a0a-b9f066720133",
   "metadata": {
    "tags": []
   },
   "outputs": [],
   "source": [
    "y = series_target.values"
   ]
  },
  {
   "cell_type": "markdown",
   "id": "f0f4ee7c-acc6-4295-8075-75339057b6e2",
   "metadata": {},
   "source": [
    "# Alogorthim for Classification(Class)\n",
    "- KNeighborsClassifier\n",
    "- LogisticRegression\n",
    "- DecisionTreeClassifier\n",
    "- SVC\n",
    "- RandomForestclassifier\n",
    "- etc"
   ]
  },
  {
   "cell_type": "code",
   "execution_count": 21,
   "id": "6048f0fe-7dd1-49d3-84bb-3544e09a6507",
   "metadata": {
    "tags": []
   },
   "outputs": [],
   "source": [
    "from sklearn.neighbors import KNeighborsClassifier"
   ]
  },
  {
   "cell_type": "code",
   "execution_count": 24,
   "id": "08b929d0-900f-446a-8471-f0d890d418b1",
   "metadata": {
    "tags": []
   },
   "outputs": [],
   "source": [
    "model = KNeighborsClassifier() # Untrained"
   ]
  },
  {
   "cell_type": "code",
   "execution_count": 26,
   "id": "a80efdf1-6ca6-4beb-9329-c4e9ba2b37ab",
   "metadata": {
    "tags": []
   },
   "outputs": [
    {
     "data": {
      "text/html": [
       "<style>#sk-container-id-2 {color: black;}#sk-container-id-2 pre{padding: 0;}#sk-container-id-2 div.sk-toggleable {background-color: white;}#sk-container-id-2 label.sk-toggleable__label {cursor: pointer;display: block;width: 100%;margin-bottom: 0;padding: 0.3em;box-sizing: border-box;text-align: center;}#sk-container-id-2 label.sk-toggleable__label-arrow:before {content: \"▸\";float: left;margin-right: 0.25em;color: #696969;}#sk-container-id-2 label.sk-toggleable__label-arrow:hover:before {color: black;}#sk-container-id-2 div.sk-estimator:hover label.sk-toggleable__label-arrow:before {color: black;}#sk-container-id-2 div.sk-toggleable__content {max-height: 0;max-width: 0;overflow: hidden;text-align: left;background-color: #f0f8ff;}#sk-container-id-2 div.sk-toggleable__content pre {margin: 0.2em;color: black;border-radius: 0.25em;background-color: #f0f8ff;}#sk-container-id-2 input.sk-toggleable__control:checked~div.sk-toggleable__content {max-height: 200px;max-width: 100%;overflow: auto;}#sk-container-id-2 input.sk-toggleable__control:checked~label.sk-toggleable__label-arrow:before {content: \"▾\";}#sk-container-id-2 div.sk-estimator input.sk-toggleable__control:checked~label.sk-toggleable__label {background-color: #d4ebff;}#sk-container-id-2 div.sk-label input.sk-toggleable__control:checked~label.sk-toggleable__label {background-color: #d4ebff;}#sk-container-id-2 input.sk-hidden--visually {border: 0;clip: rect(1px 1px 1px 1px);clip: rect(1px, 1px, 1px, 1px);height: 1px;margin: -1px;overflow: hidden;padding: 0;position: absolute;width: 1px;}#sk-container-id-2 div.sk-estimator {font-family: monospace;background-color: #f0f8ff;border: 1px dotted black;border-radius: 0.25em;box-sizing: border-box;margin-bottom: 0.5em;}#sk-container-id-2 div.sk-estimator:hover {background-color: #d4ebff;}#sk-container-id-2 div.sk-parallel-item::after {content: \"\";width: 100%;border-bottom: 1px solid gray;flex-grow: 1;}#sk-container-id-2 div.sk-label:hover label.sk-toggleable__label {background-color: #d4ebff;}#sk-container-id-2 div.sk-serial::before {content: \"\";position: absolute;border-left: 1px solid gray;box-sizing: border-box;top: 0;bottom: 0;left: 50%;z-index: 0;}#sk-container-id-2 div.sk-serial {display: flex;flex-direction: column;align-items: center;background-color: white;padding-right: 0.2em;padding-left: 0.2em;position: relative;}#sk-container-id-2 div.sk-item {position: relative;z-index: 1;}#sk-container-id-2 div.sk-parallel {display: flex;align-items: stretch;justify-content: center;background-color: white;position: relative;}#sk-container-id-2 div.sk-item::before, #sk-container-id-2 div.sk-parallel-item::before {content: \"\";position: absolute;border-left: 1px solid gray;box-sizing: border-box;top: 0;bottom: 0;left: 50%;z-index: -1;}#sk-container-id-2 div.sk-parallel-item {display: flex;flex-direction: column;z-index: 1;position: relative;background-color: white;}#sk-container-id-2 div.sk-parallel-item:first-child::after {align-self: flex-end;width: 50%;}#sk-container-id-2 div.sk-parallel-item:last-child::after {align-self: flex-start;width: 50%;}#sk-container-id-2 div.sk-parallel-item:only-child::after {width: 0;}#sk-container-id-2 div.sk-dashed-wrapped {border: 1px dashed gray;margin: 0 0.4em 0.5em 0.4em;box-sizing: border-box;padding-bottom: 0.4em;background-color: white;}#sk-container-id-2 div.sk-label label {font-family: monospace;font-weight: bold;display: inline-block;line-height: 1.2em;}#sk-container-id-2 div.sk-label-container {text-align: center;}#sk-container-id-2 div.sk-container {/* jupyter's `normalize.less` sets `[hidden] { display: none; }` but bootstrap.min.css set `[hidden] { display: none !important; }` so we also need the `!important` here to be able to override the default hidden behavior on the sphinx rendered scikit-learn.org. See: https://github.com/scikit-learn/scikit-learn/issues/21755 */display: inline-block !important;position: relative;}#sk-container-id-2 div.sk-text-repr-fallback {display: none;}</style><div id=\"sk-container-id-2\" class=\"sk-top-container\"><div class=\"sk-text-repr-fallback\"><pre>KNeighborsClassifier()</pre><b>In a Jupyter environment, please rerun this cell to show the HTML representation or trust the notebook. <br />On GitHub, the HTML representation is unable to render, please try loading this page with nbviewer.org.</b></div><div class=\"sk-container\" hidden><div class=\"sk-item\"><div class=\"sk-estimator sk-toggleable\"><input class=\"sk-toggleable__control sk-hidden--visually\" id=\"sk-estimator-id-2\" type=\"checkbox\" checked><label for=\"sk-estimator-id-2\" class=\"sk-toggleable__label sk-toggleable__label-arrow\">KNeighborsClassifier</label><div class=\"sk-toggleable__content\"><pre>KNeighborsClassifier()</pre></div></div></div></div></div>"
      ],
      "text/plain": [
       "KNeighborsClassifier()"
      ]
     },
     "execution_count": 26,
     "metadata": {},
     "output_type": "execute_result"
    }
   ],
   "source": [
    "model.fit(X,y) # model training"
   ]
  },
  {
   "cell_type": "code",
   "execution_count": 27,
   "id": "2334c76d-573f-46f9-b486-490fa9ecd408",
   "metadata": {
    "tags": []
   },
   "outputs": [],
   "source": [
    "new_sample1=[3,40]\n",
    "new_sample2=[4,60]"
   ]
  },
  {
   "cell_type": "code",
   "execution_count": 29,
   "id": "9d0e78e8-1a6d-451b-a721-533d700b02ad",
   "metadata": {
    "tags": []
   },
   "outputs": [],
   "source": [
    "preds=model.predict([new_sample1,new_sample2])"
   ]
  },
  {
   "cell_type": "code",
   "execution_count": 30,
   "id": "7965e421-7359-4836-9c97-a3123e171255",
   "metadata": {
    "tags": []
   },
   "outputs": [
    {
     "data": {
      "text/plain": [
       "array(['Banana', 'Banana'], dtype=object)"
      ]
     },
     "execution_count": 30,
     "metadata": {},
     "output_type": "execute_result"
    }
   ],
   "source": [
    "preds"
   ]
  },
  {
   "cell_type": "markdown",
   "id": "e2457eda-bf1b-4d4d-9b3d-82a207f8c1c1",
   "metadata": {},
   "source": [
    "### General Steps in ML Conding\n",
    "- collect & load data\n",
    "- prepare data\n",
    "- select an algo\n",
    "- create model\n",
    "- fit(train) the model\n",
    "- make prediction"
   ]
  },
  {
   "cell_type": "code",
   "execution_count": 11,
   "id": "8629effc-6db5-4a86-a634-f67d343d1ac4",
   "metadata": {
    "tags": []
   },
   "outputs": [
    {
     "data": {
      "text/plain": [
       "array(['Apple'], dtype=object)"
      ]
     },
     "execution_count": 11,
     "metadata": {},
     "output_type": "execute_result"
    }
   ],
   "source": [
    "# import lib\n",
    "import numpy as np\n",
    "import pandas as pd\n",
    "from sklearn.neighbors import KNeighborsClassifier\n",
    "# collect & load data\n",
    "df = pd.read_csv(\"DataSet/classification/fruits.csv\")\n",
    "\n",
    "#prepare data\n",
    "X = df.iloc[:,:-1].values # features is use in 2D array\n",
    "y = df.iloc[:,-1].values  # target is use in 1D array\n",
    "\n",
    "#select an algo\n",
    "model = KNeighborsClassifier() #create model\n",
    "\n",
    "# fit(train) the model\n",
    "model.fit(X,y)\n",
    "\n",
    "#make prediction\n",
    "model.predict([[5,80]]) # use in 2D array"
   ]
  },
  {
   "cell_type": "code",
   "execution_count": null,
   "id": "af9e2e98-0d54-4f79-9014-e4a5c2099678",
   "metadata": {},
   "outputs": [],
   "source": []
  }
 ],
 "metadata": {
  "kernelspec": {
   "display_name": "Python 3 (ipykernel)",
   "language": "python",
   "name": "python3"
  },
  "language_info": {
   "codemirror_mode": {
    "name": "ipython",
    "version": 3
   },
   "file_extension": ".py",
   "mimetype": "text/x-python",
   "name": "python",
   "nbconvert_exporter": "python",
   "pygments_lexer": "ipython3",
   "version": "3.11.4"
  }
 },
 "nbformat": 4,
 "nbformat_minor": 5
}
