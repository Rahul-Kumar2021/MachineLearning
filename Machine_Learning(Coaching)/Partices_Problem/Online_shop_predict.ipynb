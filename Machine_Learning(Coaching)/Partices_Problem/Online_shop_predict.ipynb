{
 "cells": [
  {
   "cell_type": "code",
   "execution_count": 2,
   "id": "9c167b6a-9058-41fa-a140-4364388a0f5a",
   "metadata": {
    "tags": []
   },
   "outputs": [],
   "source": [
    "import numpy as np\n",
    "import pandas as pd\n",
    "from sklearn.model_selection import train_test_split\n",
    "from sklearn.neighbors import KNeighborsClassifier\n",
    "from sklearn.preprocessing import MaxAbsScaler\n",
    "from sklearn.preprocessing import MinMaxScaler\n",
    "from sklearn.preprocessing import LabelEncoder\n",
    "from sklearn.metrics import accuracy_score"
   ]
  },
  {
   "cell_type": "code",
   "execution_count": 3,
   "id": "0c603947-01c9-4ad7-b9ca-60c019974006",
   "metadata": {
    "tags": []
   },
   "outputs": [
    {
     "data": {
      "text/html": [
       "<div>\n",
       "<style scoped>\n",
       "    .dataframe tbody tr th:only-of-type {\n",
       "        vertical-align: middle;\n",
       "    }\n",
       "\n",
       "    .dataframe tbody tr th {\n",
       "        vertical-align: top;\n",
       "    }\n",
       "\n",
       "    .dataframe thead th {\n",
       "        text-align: right;\n",
       "    }\n",
       "</style>\n",
       "<table border=\"1\" class=\"dataframe\">\n",
       "  <thead>\n",
       "    <tr style=\"text-align: right;\">\n",
       "      <th></th>\n",
       "      <th>Gender</th>\n",
       "      <th>Age</th>\n",
       "      <th>EstimatedSalary</th>\n",
       "      <th>Purchased</th>\n",
       "    </tr>\n",
       "  </thead>\n",
       "  <tbody>\n",
       "    <tr>\n",
       "      <th>0</th>\n",
       "      <td>Male</td>\n",
       "      <td>19</td>\n",
       "      <td>19000</td>\n",
       "      <td>0</td>\n",
       "    </tr>\n",
       "    <tr>\n",
       "      <th>1</th>\n",
       "      <td>Male</td>\n",
       "      <td>35</td>\n",
       "      <td>20000</td>\n",
       "      <td>0</td>\n",
       "    </tr>\n",
       "    <tr>\n",
       "      <th>2</th>\n",
       "      <td>Female</td>\n",
       "      <td>26</td>\n",
       "      <td>43000</td>\n",
       "      <td>0</td>\n",
       "    </tr>\n",
       "    <tr>\n",
       "      <th>3</th>\n",
       "      <td>Female</td>\n",
       "      <td>27</td>\n",
       "      <td>57000</td>\n",
       "      <td>0</td>\n",
       "    </tr>\n",
       "    <tr>\n",
       "      <th>4</th>\n",
       "      <td>Male</td>\n",
       "      <td>19</td>\n",
       "      <td>76000</td>\n",
       "      <td>0</td>\n",
       "    </tr>\n",
       "    <tr>\n",
       "      <th>...</th>\n",
       "      <td>...</td>\n",
       "      <td>...</td>\n",
       "      <td>...</td>\n",
       "      <td>...</td>\n",
       "    </tr>\n",
       "    <tr>\n",
       "      <th>395</th>\n",
       "      <td>Female</td>\n",
       "      <td>46</td>\n",
       "      <td>41000</td>\n",
       "      <td>1</td>\n",
       "    </tr>\n",
       "    <tr>\n",
       "      <th>396</th>\n",
       "      <td>Male</td>\n",
       "      <td>51</td>\n",
       "      <td>23000</td>\n",
       "      <td>1</td>\n",
       "    </tr>\n",
       "    <tr>\n",
       "      <th>397</th>\n",
       "      <td>Female</td>\n",
       "      <td>50</td>\n",
       "      <td>20000</td>\n",
       "      <td>1</td>\n",
       "    </tr>\n",
       "    <tr>\n",
       "      <th>398</th>\n",
       "      <td>Male</td>\n",
       "      <td>36</td>\n",
       "      <td>33000</td>\n",
       "      <td>0</td>\n",
       "    </tr>\n",
       "    <tr>\n",
       "      <th>399</th>\n",
       "      <td>Female</td>\n",
       "      <td>49</td>\n",
       "      <td>36000</td>\n",
       "      <td>1</td>\n",
       "    </tr>\n",
       "  </tbody>\n",
       "</table>\n",
       "<p>400 rows × 4 columns</p>\n",
       "</div>"
      ],
      "text/plain": [
       "     Gender  Age  EstimatedSalary  Purchased\n",
       "0      Male   19            19000          0\n",
       "1      Male   35            20000          0\n",
       "2    Female   26            43000          0\n",
       "3    Female   27            57000          0\n",
       "4      Male   19            76000          0\n",
       "..      ...  ...              ...        ...\n",
       "395  Female   46            41000          1\n",
       "396    Male   51            23000          1\n",
       "397  Female   50            20000          1\n",
       "398    Male   36            33000          0\n",
       "399  Female   49            36000          1\n",
       "\n",
       "[400 rows x 4 columns]"
      ]
     },
     "execution_count": 3,
     "metadata": {},
     "output_type": "execute_result"
    }
   ],
   "source": [
    "df = pd.read_csv(\"dataset/online_shop.csv\")\n",
    "df"
   ]
  },
  {
   "cell_type": "markdown",
   "id": "0bae62e2-8133-41a0-ae47-94b966ebc92c",
   "metadata": {},
   "source": [
    "##### Convert text to float using by LabelEncoder"
   ]
  },
  {
   "cell_type": "code",
   "execution_count": 4,
   "id": "948932a4-3206-4732-8c44-71a4d7d0d197",
   "metadata": {
    "tags": []
   },
   "outputs": [
    {
     "data": {
      "text/plain": [
       "dtype('int32')"
      ]
     },
     "execution_count": 4,
     "metadata": {},
     "output_type": "execute_result"
    }
   ],
   "source": [
    "en = LabelEncoder()\n",
    "df.Gender = en.fit_transform(df.Gender)"
   ]
  },
  {
   "cell_type": "markdown",
   "id": "057ef877-d1d6-4422-81a8-d77588b1ac4e",
   "metadata": {},
   "source": [
    "### Using KNeighborsClassifier by Spliting"
   ]
  },
  {
   "cell_type": "code",
   "execution_count": 113,
   "id": "8433439e-4c79-4f88-952d-d6985af55ca7",
   "metadata": {
    "tags": []
   },
   "outputs": [
    {
     "name": "stdout",
     "output_type": "stream",
     "text": [
      "Train Score :  0.8966666666666666\n",
      "Test Score :  0.75\n"
     ]
    }
   ],
   "source": [
    "X = df.iloc[:,:-1].values\n",
    "y = df.iloc[:,-1].values\n",
    "X_train,X_test,y_train,y_test = train_test_split(X,y,random_state=1)\n",
    "\n",
    "model = KNeighborsClassifier()\n",
    "model.fit(X_train,y_train)\n",
    "pred_train = model.predict(X_train)\n",
    "pred_test = model.predict(X_test)\n",
    "\n",
    "print(\"Train Score : \",accuracy_score(y_train,pred_train))\n",
    "print(\"Test Score : \",accuracy_score(y_test,pred_test))\n",
    "    "
   ]
  },
  {
   "cell_type": "markdown",
   "id": "142624d4-9933-4e16-9661-8871b8cb84c4",
   "metadata": {},
   "source": [
    "## With Feature Scaling by MaxAbsScaler"
   ]
  },
  {
   "cell_type": "code",
   "execution_count": 114,
   "id": "a7a7491b-326f-4e43-b158-4d6376a4f2f2",
   "metadata": {
    "tags": []
   },
   "outputs": [
    {
     "name": "stdout",
     "output_type": "stream",
     "text": [
      "Train Score :  0.9266666666666666\n",
      "Test Score :  0.89\n"
     ]
    }
   ],
   "source": [
    "sc = MaxAbsScaler()\n",
    "X_train_new = sc.fit_transform(X_train)\n",
    "X_test_new = sc.transform(X_test)\n",
    "\n",
    "model = KNeighborsClassifier(n_neighbors=8)\n",
    "model.fit(X_train_new,y_train)\n",
    "\n",
    "\n",
    "pred_train_new  = model.predict(X_train_new)\n",
    "pred_test_new = model.predict(X_test_new)\n",
    "\n",
    "print(\"Train Score : \",accuracy_score(y_train,pred_train_new))\n",
    "print(\"Test Score : \",accuracy_score(y_test,pred_test_new))"
   ]
  },
  {
   "cell_type": "markdown",
   "id": "c6709b4e-5701-49a6-b8b9-78a0b8775ca8",
   "metadata": {},
   "source": [
    "###### "
   ]
  },
  {
   "cell_type": "markdown",
   "id": "4ef10346-b4f0-444b-a5f6-4436be74bc0a",
   "metadata": {},
   "source": [
    "### With Feature Scaling by MinMaxScaler"
   ]
  },
  {
   "cell_type": "code",
   "execution_count": 115,
   "id": "65944c92-f9cf-4de9-943c-530fd89f529f",
   "metadata": {
    "tags": []
   },
   "outputs": [
    {
     "name": "stdout",
     "output_type": "stream",
     "text": [
      "Train Score :  0.9266666666666666\n",
      "Test Score :  0.89\n"
     ]
    }
   ],
   "source": [
    "sc = MinMaxScaler(feature_range=(0,1))\n",
    "X_train_new = sc.fit_transform(X_train)\n",
    "X_test_new = sc.transform(X_test)\n",
    "\n",
    "model = KNeighborsClassifier(n_neighbors=8)\n",
    "model.fit(X_train_new,y_train)\n",
    "\n",
    "\n",
    "pred_train_new  = model.predict(X_train_new)\n",
    "pred_test_new = model.predict(X_test_new)\n",
    "\n",
    "print(\"Train Score : \",accuracy_score(y_train,pred_train_new))\n",
    "print(\"Test Score : \",accuracy_score(y_test,pred_test_new))"
   ]
  },
  {
   "cell_type": "markdown",
   "id": "cbdb889e-2834-43b6-8d21-b234f79e086d",
   "metadata": {},
   "source": [
    "### this is a Bestfit model"
   ]
  },
  {
   "cell_type": "markdown",
   "id": "f59e0f30-3675-4b09-a0cd-8670c1d6d6f0",
   "metadata": {},
   "source": [
    "### Predict Sample Testing"
   ]
  },
  {
   "cell_type": "code",
   "execution_count": null,
   "id": "44b42d38-76c1-49e8-84d8-470720faf1de",
   "metadata": {
    "tags": []
   },
   "outputs": [],
   "source": [
    "gd = input(\"Enter Gender: \")\n",
    "ag = float(input(\"Enter Age : \"))\n",
    "sal = float(input(\"Enter Salary : \"))\n",
    "\n",
    "df2 = pd.DataFrame({'Gender':[gd],'Age':[ag],'Sal':[sal]})\n",
    "\n",
    "# Convert test to numeric using LabelEncoding\n",
    "df2.Gender = en.transform(df2.Gender)\n",
    "\n",
    "# Using Feature Scaling means All Unseen Data are same range\n",
    "sample = sc.transform(df2)\n",
    "\n",
    "# Finall Predict Output(0 means Not Purchased  And 1 Means Purchased)\n",
    "output = model.predict(sample)\n",
    "if(output == 0):\n",
    "    print(\"Not Purchased: \", output)\n",
    "else:\n",
    "    print(\"Purchased : \", output)\n"
   ]
  },
  {
   "cell_type": "code",
   "execution_count": null,
   "id": "03efa574-84c1-4ad0-a265-9dc685500b62",
   "metadata": {},
   "outputs": [],
   "source": []
  }
 ],
 "metadata": {
  "kernelspec": {
   "display_name": "Python 3 (ipykernel)",
   "language": "python",
   "name": "python3"
  },
  "language_info": {
   "codemirror_mode": {
    "name": "ipython",
    "version": 3
   },
   "file_extension": ".py",
   "mimetype": "text/x-python",
   "name": "python",
   "nbconvert_exporter": "python",
   "pygments_lexer": "ipython3",
   "version": "3.11.4"
  }
 },
 "nbformat": 4,
 "nbformat_minor": 5
}
