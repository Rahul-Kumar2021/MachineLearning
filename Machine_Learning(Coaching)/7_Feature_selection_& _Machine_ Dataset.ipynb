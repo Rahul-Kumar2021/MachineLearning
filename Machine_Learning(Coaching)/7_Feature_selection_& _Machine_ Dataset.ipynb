{
 "cells": [
  {
   "cell_type": "code",
   "execution_count": 23,
   "id": "ce0f7c24-6563-4b97-8209-264e1293d072",
   "metadata": {
    "tags": []
   },
   "outputs": [],
   "source": [
    "from sklearn.datasets import load_wine\n",
    "import numpy as np\n",
    "import pandas as pd\n",
    "from sklearn.model_selection import train_test_split\n",
    "from sklearn.neighbors import KNeighborsClassifier\n",
    "from sklearn.preprocessing import MaxAbsScaler\n",
    "from sklearn.preprocessing import MinMaxScaler\n",
    "from sklearn.preprocessing import StandardScaler\n",
    "from sklearn.preprocessing import LabelEncoder\n",
    "from sklearn.preprocessing import OneHotEncoder\n",
    "from sklearn.metrics import accuracy_score"
   ]
  },
  {
   "cell_type": "code",
   "execution_count": 2,
   "id": "70d6f7bc-5e1c-4459-b1a4-b23c4a0d1405",
   "metadata": {
    "tags": []
   },
   "outputs": [
    {
     "name": "stdout",
     "output_type": "stream",
     "text": [
      "<class 'sklearn.utils._bunch.Bunch'>\n"
     ]
    },
    {
     "data": {
      "text/plain": [
       "dict_keys(['data', 'target', 'frame', 'target_names', 'DESCR', 'feature_names'])"
      ]
     },
     "execution_count": 2,
     "metadata": {},
     "output_type": "execute_result"
    }
   ],
   "source": [
    "wine = load_wine()\n",
    "print(type(wine))\n",
    "wine.keys()"
   ]
  },
  {
   "cell_type": "code",
   "execution_count": 3,
   "id": "fe1ed9da-8a76-4b75-9b82-8965fccb5b3f",
   "metadata": {
    "tags": []
   },
   "outputs": [
    {
     "name": "stdout",
     "output_type": "stream",
     "text": [
      "['alcohol', 'malic_acid', 'ash', 'alcalinity_of_ash', 'magnesium', 'total_phenols', 'flavanoids', 'nonflavanoid_phenols', 'proanthocyanins', 'color_intensity', 'hue', 'od280/od315_of_diluted_wines', 'proline']\n",
      "['alcohol', 'malic_acid', 'ash', 'alcalinity_of_ash', 'magnesium', 'total_phenols', 'flavanoids', 'nonflavanoid_phenols', 'proanthocyanins', 'color_intensity', 'hue', 'od280/od315_of_diluted_wines', 'proline']\n"
     ]
    }
   ],
   "source": [
    "print(wine['feature_names'])\n",
    "print(wine.feature_names)"
   ]
  },
  {
   "cell_type": "code",
   "execution_count": 4,
   "id": "83271239-6e9b-4b33-a9c3-fcd1d181e040",
   "metadata": {
    "tags": []
   },
   "outputs": [],
   "source": [
    "X = wine.data\n",
    "y = wine.target"
   ]
  },
  {
   "cell_type": "code",
   "execution_count": 5,
   "id": "97a058a6-b17f-43c0-b2d7-c40cc53d9897",
   "metadata": {
    "tags": []
   },
   "outputs": [
    {
     "name": "stdout",
     "output_type": "stream",
     "text": [
      "['class_0' 'class_1' 'class_2']\n"
     ]
    }
   ],
   "source": [
    "print(wine.target_names)"
   ]
  },
  {
   "cell_type": "code",
   "execution_count": 6,
   "id": "33764350-51b2-4e92-9067-9835d2e62db0",
   "metadata": {
    "tags": []
   },
   "outputs": [
    {
     "name": "stdout",
     "output_type": "stream",
     "text": [
      ".. _wine_dataset:\n",
      "\n",
      "Wine recognition dataset\n",
      "------------------------\n",
      "\n",
      "**Data Set Characteristics:**\n",
      "\n",
      "    :Number of Instances: 178\n",
      "    :Number of Attributes: 13 numeric, predictive attributes and the class\n",
      "    :Attribute Information:\n",
      " \t\t- Alcohol\n",
      " \t\t- Malic acid\n",
      " \t\t- Ash\n",
      "\t\t- Alcalinity of ash  \n",
      " \t\t- Magnesium\n",
      "\t\t- Total phenols\n",
      " \t\t- Flavanoids\n",
      " \t\t- Nonflavanoid phenols\n",
      " \t\t- Proanthocyanins\n",
      "\t\t- Color intensity\n",
      " \t\t- Hue\n",
      " \t\t- OD280/OD315 of diluted wines\n",
      " \t\t- Proline\n",
      "\n",
      "    - class:\n",
      "            - class_0\n",
      "            - class_1\n",
      "            - class_2\n",
      "\t\t\n",
      "    :Summary Statistics:\n",
      "    \n",
      "    ============================= ==== ===== ======= =====\n",
      "                                   Min   Max   Mean     SD\n",
      "    ============================= ==== ===== ======= =====\n",
      "    Alcohol:                      11.0  14.8    13.0   0.8\n",
      "    Malic Acid:                   0.74  5.80    2.34  1.12\n",
      "    Ash:                          1.36  3.23    2.36  0.27\n",
      "    Alcalinity of Ash:            10.6  30.0    19.5   3.3\n",
      "    Magnesium:                    70.0 162.0    99.7  14.3\n",
      "    Total Phenols:                0.98  3.88    2.29  0.63\n",
      "    Flavanoids:                   0.34  5.08    2.03  1.00\n",
      "    Nonflavanoid Phenols:         0.13  0.66    0.36  0.12\n",
      "    Proanthocyanins:              0.41  3.58    1.59  0.57\n",
      "    Colour Intensity:              1.3  13.0     5.1   2.3\n",
      "    Hue:                          0.48  1.71    0.96  0.23\n",
      "    OD280/OD315 of diluted wines: 1.27  4.00    2.61  0.71\n",
      "    Proline:                       278  1680     746   315\n",
      "    ============================= ==== ===== ======= =====\n",
      "\n",
      "    :Missing Attribute Values: None\n",
      "    :Class Distribution: class_0 (59), class_1 (71), class_2 (48)\n",
      "    :Creator: R.A. Fisher\n",
      "    :Donor: Michael Marshall (MARSHALL%PLU@io.arc.nasa.gov)\n",
      "    :Date: July, 1988\n",
      "\n",
      "This is a copy of UCI ML Wine recognition datasets.\n",
      "https://archive.ics.uci.edu/ml/machine-learning-databases/wine/wine.data\n",
      "\n",
      "The data is the results of a chemical analysis of wines grown in the same\n",
      "region in Italy by three different cultivators. There are thirteen different\n",
      "measurements taken for different constituents found in the three types of\n",
      "wine.\n",
      "\n",
      "Original Owners: \n",
      "\n",
      "Forina, M. et al, PARVUS - \n",
      "An Extendible Package for Data Exploration, Classification and Correlation. \n",
      "Institute of Pharmaceutical and Food Analysis and Technologies,\n",
      "Via Brigata Salerno, 16147 Genoa, Italy.\n",
      "\n",
      "Citation:\n",
      "\n",
      "Lichman, M. (2013). UCI Machine Learning Repository\n",
      "[https://archive.ics.uci.edu/ml]. Irvine, CA: University of California,\n",
      "School of Information and Computer Science. \n",
      "\n",
      ".. topic:: References\n",
      "\n",
      "  (1) S. Aeberhard, D. Coomans and O. de Vel, \n",
      "  Comparison of Classifiers in High Dimensional Settings, \n",
      "  Tech. Rep. no. 92-02, (1992), Dept. of Computer Science and Dept. of  \n",
      "  Mathematics and Statistics, James Cook University of North Queensland. \n",
      "  (Also submitted to Technometrics). \n",
      "\n",
      "  The data was used with many others for comparing various \n",
      "  classifiers. The classes are separable, though only RDA \n",
      "  has achieved 100% correct classification. \n",
      "  (RDA : 100%, QDA 99.4%, LDA 98.9%, 1NN 96.1% (z-transformed data)) \n",
      "  (All results using the leave-one-out technique) \n",
      "\n",
      "  (2) S. Aeberhard, D. Coomans and O. de Vel, \n",
      "  \"THE CLASSIFICATION PERFORMANCE OF RDA\" \n",
      "  Tech. Rep. no. 92-01, (1992), Dept. of Computer Science and Dept. of \n",
      "  Mathematics and Statistics, James Cook University of North Queensland. \n",
      "  (Also submitted to Journal of Chemometrics).\n",
      "\n"
     ]
    }
   ],
   "source": [
    "print(wine.DESCR)"
   ]
  },
  {
   "cell_type": "code",
   "execution_count": 7,
   "id": "22465d3c-68f6-4335-9253-8fc096afd63b",
   "metadata": {
    "tags": []
   },
   "outputs": [],
   "source": [
    "X = wine.data\n",
    "y = wine.target\n",
    "X_train,X_test,y_train,y_test = train_test_split(X,y,random_state=1)"
   ]
  },
  {
   "cell_type": "code",
   "execution_count": 8,
   "id": "c554f29e-7b4a-4c2e-80f8-2d0ceb75f9a8",
   "metadata": {
    "tags": []
   },
   "outputs": [
    {
     "name": "stdout",
     "output_type": "stream",
     "text": [
      "Train Score :  0.8270676691729323\n",
      "Test Score :  0.6888888888888889\n"
     ]
    }
   ],
   "source": [
    "model = KNeighborsClassifier()\n",
    "model.fit(X_train,y_train)\n",
    "pred_train = model.predict(X_train)\n",
    "pred_test = model.predict(X_test)\n",
    "\n",
    "print(\"Train Score : \", accuracy_score(y_train,pred_train))\n",
    "print(\"Test Score : \", accuracy_score(y_test,pred_test))"
   ]
  },
  {
   "cell_type": "code",
   "execution_count": 9,
   "id": "86f55d76-d01a-46e9-8073-7c423b907a04",
   "metadata": {
    "tags": []
   },
   "outputs": [
    {
     "name": "stdout",
     "output_type": "stream",
     "text": [
      "Train Score :  0.9624060150375939\n",
      "Test Score :  0.9555555555555556\n"
     ]
    }
   ],
   "source": [
    "# Faeture MaxAbScaler\n",
    "sc = MaxAbsScaler()\n",
    "X_train_new = sc.fit_transform(X_train)\n",
    "X_test_new = sc.transform(X_test)\n",
    "\n",
    "model = KNeighborsClassifier()\n",
    "model.fit(X_train_new,y_train)\n",
    "\n",
    "pred_train = model.predict(X_train_new)\n",
    "pred_test = model.predict(X_test_new)\n",
    "\n",
    "\n",
    "print(\"Train Score : \", accuracy_score(y_train,pred_train))\n",
    "print(\"Test Score : \", accuracy_score(y_test,pred_test))"
   ]
  },
  {
   "cell_type": "code",
   "execution_count": 10,
   "id": "c1c336ad-fe3b-4335-9029-4d4e480ea84d",
   "metadata": {
    "tags": []
   },
   "outputs": [
    {
     "name": "stdout",
     "output_type": "stream",
     "text": [
      "Train Score :  0.9774436090225563\n",
      "Test Score :  0.9777777777777777\n"
     ]
    }
   ],
   "source": [
    "# Faeture MinMaxScaler\n",
    "sc = MinMaxScaler()\n",
    "X_train_new = sc.fit_transform(X_train)\n",
    "X_test_new = sc.transform(X_test)\n",
    "\n",
    "model = KNeighborsClassifier()\n",
    "model.fit(X_train_new,y_train)\n",
    "\n",
    "pred_train = model.predict(X_train_new)\n",
    "pred_test = model.predict(X_test_new)\n",
    "\n",
    "\n",
    "print(\"Train Score : \", accuracy_score(y_train,pred_train))\n",
    "print(\"Test Score : \", accuracy_score(y_test,pred_test))"
   ]
  },
  {
   "cell_type": "markdown",
   "id": "664f3885-f317-4c7d-9365-f1c03ad86d6c",
   "metadata": {},
   "source": [
    "### Feature Selection"
   ]
  },
  {
   "cell_type": "markdown",
   "id": "b1be8262-2126-4bcb-8428-b494c12a2b0a",
   "metadata": {},
   "source": [
    "**ANOVA** ------ analysis of variance test"
   ]
  },
  {
   "cell_type": "code",
   "execution_count": 11,
   "id": "a28f5d81-37a3-4334-bc60-1ba58c616ecd",
   "metadata": {
    "tags": []
   },
   "outputs": [],
   "source": [
    "from sklearn.feature_selection import f_classif"
   ]
  },
  {
   "cell_type": "code",
   "execution_count": 12,
   "id": "92b07eac-1049-4dba-9ad8-fa702545be83",
   "metadata": {
    "tags": []
   },
   "outputs": [],
   "source": [
    "fvalue,pvalue = f_classif(X,y)"
   ]
  },
  {
   "cell_type": "code",
   "execution_count": 13,
   "id": "40dc0122-023b-4cec-b884-2e485847d117",
   "metadata": {
    "tags": []
   },
   "outputs": [
    {
     "data": {
      "text/plain": [
       "array([135.07762424,  36.94342496,  13.3129012 ,  35.77163741,\n",
       "        12.42958434,  93.73300962, 233.92587268,  27.57541715,\n",
       "        30.27138317, 120.66401844, 101.31679539, 189.97232058,\n",
       "       207.9203739 ])"
      ]
     },
     "execution_count": 13,
     "metadata": {},
     "output_type": "execute_result"
    }
   ],
   "source": [
    "fvalue"
   ]
  },
  {
   "cell_type": "code",
   "execution_count": 14,
   "id": "78b30b66-cf45-4ee1-b3bc-e930c9837f32",
   "metadata": {
    "tags": []
   },
   "outputs": [
    {
     "name": "stdout",
     "output_type": "stream",
     "text": [
      "['alcohol', 'malic_acid', 'ash', 'alcalinity_of_ash', 'magnesium', 'total_phenols', 'flavanoids', 'nonflavanoid_phenols', 'proanthocyanins', 'color_intensity', 'hue', 'od280/od315_of_diluted_wines', 'proline']\n"
     ]
    }
   ],
   "source": [
    "print(wine.feature_names)"
   ]
  },
  {
   "cell_type": "code",
   "execution_count": 15,
   "id": "7c4f8d55-8a3f-45b4-a05f-89ac5347719d",
   "metadata": {
    "tags": []
   },
   "outputs": [],
   "source": [
    "X1 = X[:,[0,5,6,9,10,11,12]]\n",
    "y = wine.target\n",
    "X1_train,X1_test,y_train,y_test = train_test_split(X1,y,random_state=1)\n"
   ]
  },
  {
   "cell_type": "code",
   "execution_count": 16,
   "id": "e42d7857-8817-4fef-85c8-a2ff11a9724f",
   "metadata": {
    "tags": []
   },
   "outputs": [
    {
     "name": "stdout",
     "output_type": "stream",
     "text": [
      "Train Score :  0.9924812030075187\n",
      "Test Score :  0.9777777777777777\n"
     ]
    }
   ],
   "source": [
    "# Faeture MinMaxScaler\n",
    "sc = MinMaxScaler()\n",
    "X1_train_new = sc.fit_transform(X1_train)\n",
    "X1_test_new = sc.transform(X1_test)\n",
    "\n",
    "model = KNeighborsClassifier()\n",
    "model.fit(X1_train_new,y_train)\n",
    "\n",
    "pred_train = model.predict(X1_train_new)\n",
    "pred_test = model.predict(X1_test_new)\n",
    "\n",
    "\n",
    "print(\"Train Score : \", accuracy_score(y_train,pred_train))\n",
    "print(\"Test Score : \", accuracy_score(y_test,pred_test))"
   ]
  },
  {
   "cell_type": "code",
   "execution_count": 17,
   "id": "f50f328a-62c8-4fe3-9b1c-77a25bea34a6",
   "metadata": {
    "tags": []
   },
   "outputs": [
    {
     "data": {
      "text/plain": [
       "(133, 7)"
      ]
     },
     "execution_count": 17,
     "metadata": {},
     "output_type": "execute_result"
    }
   ],
   "source": [
    "X1_train_new.shape"
   ]
  },
  {
   "cell_type": "markdown",
   "id": "f6e340c8-ea7a-4858-8ca8-4825e9ba324c",
   "metadata": {},
   "source": [
    "### Atuomatic Feature Selection"
   ]
  },
  {
   "cell_type": "code",
   "execution_count": 18,
   "id": "bac0cf85-6023-4574-8e7b-6faa3ddaf0ee",
   "metadata": {},
   "outputs": [],
   "source": [
    "from sklearn.feature_selection import SelectKBest"
   ]
  },
  {
   "cell_type": "code",
   "execution_count": 25,
   "id": "71e6ea0b-3b74-44c1-a186-58f9189e3d97",
   "metadata": {},
   "outputs": [
    {
     "name": "stdout",
     "output_type": "stream",
     "text": [
      "Train Score :  0.9774436090225563\n",
      "Test Score :  0.9777777777777777\n"
     ]
    }
   ],
   "source": [
    "skb = SelectKBest(score_func=f_classif,k=12)\n",
    "X_new = skb.fit_transform(X,y)\n",
    "X_new.shape\n",
    "\n",
    "\n",
    "\n",
    "y = wine.target\n",
    "X_new\n",
    "X_new_train,X_new_test,y_train,y_test = train_test_split(X_new,y,random_state=1)\n",
    "\n",
    "sc = StandardScaler()\n",
    "X_new_train_new = sc.fit_transform(X_new_train)\n",
    "X_new_test_new = sc.transform(X_new_test)\n",
    "\n",
    "model = KNeighborsClassifier()\n",
    "model.fit(X_new_train_new,y_train)\n",
    "\n",
    "pred_train = model.predict(X_new_train_new)\n",
    "pred_test = model.predict(X_new_test_new)\n",
    "\n",
    "\n",
    "print(\"Train Score : \", accuracy_score(y_train,pred_train))\n",
    "print(\"Test Score : \", accuracy_score(y_test,pred_test))"
   ]
  },
  {
   "cell_type": "code",
   "execution_count": 20,
   "id": "94fe9a51-9c48-42c4-af62-4f983c9c590b",
   "metadata": {
    "tags": []
   },
   "outputs": [
    {
     "data": {
      "text/plain": [
       "array([135.07762424,  36.94342496,  13.3129012 ,  35.77163741,\n",
       "        12.42958434,  93.73300962, 233.92587268,  27.57541715,\n",
       "        30.27138317, 120.66401844, 101.31679539, 189.97232058,\n",
       "       207.9203739 ])"
      ]
     },
     "execution_count": 20,
     "metadata": {},
     "output_type": "execute_result"
    }
   ],
   "source": [
    "skb.scores_  # imporant feature value"
   ]
  },
  {
   "cell_type": "code",
   "execution_count": 24,
   "id": "2d9e604e-2045-4b14-9c8c-5678a92ce2aa",
   "metadata": {
    "tags": []
   },
   "outputs": [
    {
     "name": "stdout",
     "output_type": "stream",
     "text": [
      "Train Score :  0.9624060150375939\n",
      "Test Score :  0.9777777777777777\n"
     ]
    }
   ],
   "source": []
  },
  {
   "cell_type": "code",
   "execution_count": null,
   "id": "da939a8f-0b5e-4f79-808e-123cc445daa3",
   "metadata": {},
   "outputs": [],
   "source": []
  }
 ],
 "metadata": {
  "kernelspec": {
   "display_name": "Python 3 (ipykernel)",
   "language": "python",
   "name": "python3"
  },
  "language_info": {
   "codemirror_mode": {
    "name": "ipython",
    "version": 3
   },
   "file_extension": ".py",
   "mimetype": "text/x-python",
   "name": "python",
   "nbconvert_exporter": "python",
   "pygments_lexer": "ipython3",
   "version": "3.11.4"
  }
 },
 "nbformat": 4,
 "nbformat_minor": 5
}
