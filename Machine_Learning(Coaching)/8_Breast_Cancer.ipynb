{
 "cells": [
  {
   "cell_type": "code",
   "execution_count": 5,
   "id": "b7cccc7f-d466-4db7-9014-a2e1721e6ea9",
   "metadata": {
    "tags": []
   },
   "outputs": [],
   "source": [
    "from sklearn.datasets import load_breast_cancer\n",
    "import numpy as np\n",
    "import pandas as pd\n",
    "from sklearn.model_selection import train_test_split\n",
    "from sklearn.neighbors import KNeighborsClassifier\n",
    "from sklearn.preprocessing import MaxAbsScaler\n",
    "from sklearn.preprocessing import MinMaxScaler\n",
    "from sklearn.preprocessing import StandardScaler\n",
    "from sklearn.preprocessing import LabelEncoder\n",
    "from sklearn.preprocessing import OneHotEncoder\n",
    "from sklearn.metrics import accuracy_score\n",
    "from sklearn.feature_selection import f_classif\n",
    "from sklearn.feature_selection import SelectKBest"
   ]
  },
  {
   "cell_type": "markdown",
   "id": "a3202a32-b366-4813-a331-d119a03f4ad7",
   "metadata": {},
   "source": [
    "## Feature Scaling"
   ]
  },
  {
   "cell_type": "code",
   "execution_count": 7,
   "id": "df542d1d-c818-4878-b96d-6272f20d07ac",
   "metadata": {
    "tags": []
   },
   "outputs": [
    {
     "name": "stdout",
     "output_type": "stream",
     "text": [
      "Train Score :  0.9859154929577465\n",
      "Test Score :  0.951048951048951\n"
     ]
    }
   ],
   "source": [
    "cancer = load_breast_cancer()\n",
    "X = cancer.data\n",
    "y = cancer.target\n",
    "X_train,X_test,y_train,y_test = train_test_split(X,y,random_state=1)\n",
    "\n",
    "\n",
    "sc = MinMaxScaler()\n",
    "X1_train_new = sc.fit_transform(X_train)\n",
    "X1_test_new = sc.transform(X_test)\n",
    "\n",
    "model = KNeighborsClassifier()\n",
    "model.fit(X1_train_new,y_train)\n",
    "\n",
    "pred_train = model.predict(X1_train_new)\n",
    "pred_test = model.predict(X1_test_new)\n",
    "\n",
    "\n",
    "print(\"Train Score : \", accuracy_score(y_train,pred_train))\n",
    "print(\"Test Score : \", accuracy_score(y_test,pred_test))"
   ]
  },
  {
   "cell_type": "markdown",
   "id": "573f13a0-7c3d-4031-a0d4-53370228f95c",
   "metadata": {},
   "source": [
    "## Feature Selection"
   ]
  },
  {
   "cell_type": "code",
   "execution_count": 25,
   "id": "35d608af-0046-4608-a15b-a065e774d2bb",
   "metadata": {
    "tags": []
   },
   "outputs": [
    {
     "name": "stdout",
     "output_type": "stream",
     "text": [
      "(569, 27)\n",
      "Train Score :  0.9788732394366197\n",
      "Test Score :  0.965034965034965\n"
     ]
    }
   ],
   "source": [
    "cancer = load_breast_cancer()\n",
    "X = cancer.data\n",
    "y = cancer.target\n",
    "\n",
    "skb = SelectKBest(score_func=f_classif,k=27)\n",
    "X_new = skb.fit_transform(X,y)\n",
    "X_new.shape\n",
    "print(X_new.shape)\n",
    "\n",
    "X_new_train,X_new_test,y_train,y_test = train_test_split(X_new,y,random_state=1)\n",
    "sc = StandardScaler()\n",
    "X_new_train_new = sc.fit_transform(X_new_train)\n",
    "X_new_test_new = sc.transform(X_new_test)\n",
    "\n",
    "model = KNeighborsClassifier(n_neighbors=6)\n",
    "model.fit(X_new_train_new,y_train)\n",
    "\n",
    "pred_train = model.predict(X_new_train_new)\n",
    "pred_test = model.predict(X_new_test_new)\n",
    "\n",
    "\n",
    "print(\"Train Score : \", accuracy_score(y_train,pred_train))\n",
    "print(\"Test Score : \", accuracy_score(y_test,pred_test))"
   ]
  },
  {
   "cell_type": "markdown",
   "id": "3edb113b-ea36-4925-9842-8f8d4c5b4463",
   "metadata": {},
   "source": [
    "### Cross Validation"
   ]
  },
  {
   "cell_type": "code",
   "execution_count": 26,
   "id": "82bb1218-bdfe-41e6-8904-a377a8952de5",
   "metadata": {
    "tags": []
   },
   "outputs": [],
   "source": [
    "from sklearn.model_selection import cross_val_score"
   ]
  },
  {
   "cell_type": "code",
   "execution_count": 30,
   "id": "0985998d-2411-4ec1-b1c0-db570526df62",
   "metadata": {
    "tags": []
   },
   "outputs": [
    {
     "data": {
      "text/plain": [
       "0.9754075454122031"
      ]
     },
     "execution_count": 30,
     "metadata": {},
     "output_type": "execute_result"
    }
   ],
   "source": [
    "cancer = load_breast_cancer()\n",
    "X = cancer.data\n",
    "y = cancer.target\n",
    "\n",
    "skb = SelectKBest(score_func=f_classif,k=25)\n",
    "X_new = skb.fit_transform(X,y)\n",
    "\n",
    "sc = StandardScaler()\n",
    "X_new = sc.fit_transform(X_new)\n",
    "\n",
    "model = KNeighborsClassifier()\n",
    "test_score = cross_val_score(model,X_new,y,cv=5)\n",
    "test_score.mean()"
   ]
  },
  {
   "cell_type": "code",
   "execution_count": 31,
   "id": "cd1fa9ac-3459-42b2-ba3c-53394003af03",
   "metadata": {
    "tags": []
   },
   "outputs": [
    {
     "data": {
      "text/plain": [
       "0.9648501785437045"
      ]
     },
     "execution_count": 31,
     "metadata": {},
     "output_type": "execute_result"
    }
   ],
   "source": [
    "cancer = load_breast_cancer()\n",
    "X = cancer.data\n",
    "y = cancer.target\n",
    "\n",
    "#skb = SelectKBest(score_func=f_classif,k=29)\n",
    "#X_new = skb.fit_transform(X,y)\n",
    "\n",
    "sc = StandardScaler()\n",
    "X_new = sc.fit_transform(X)\n",
    "\n",
    "model = KNeighborsClassifier()\n",
    "test_score = cross_val_score(model,X_new,y,cv=5)\n",
    "test_score.mean()"
   ]
  },
  {
   "cell_type": "code",
   "execution_count": null,
   "id": "75d490b2-39a8-42ab-84a3-1bcdd0e4871f",
   "metadata": {},
   "outputs": [],
   "source": []
  }
 ],
 "metadata": {
  "kernelspec": {
   "display_name": "Python 3 (ipykernel)",
   "language": "python",
   "name": "python3"
  },
  "language_info": {
   "codemirror_mode": {
    "name": "ipython",
    "version": 3
   },
   "file_extension": ".py",
   "mimetype": "text/x-python",
   "name": "python",
   "nbconvert_exporter": "python",
   "pygments_lexer": "ipython3",
   "version": "3.11.4"
  }
 },
 "nbformat": 4,
 "nbformat_minor": 5
}
