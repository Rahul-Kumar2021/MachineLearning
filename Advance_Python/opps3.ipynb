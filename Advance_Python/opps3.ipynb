{
 "cells": [
  {
   "cell_type": "markdown",
   "id": "210e4e86-2b99-429f-8903-835343eb7548",
   "metadata": {},
   "source": [
    "#### Nested Class\n",
    "-  A class is said to be nested if it is defiend inside block of other class"
   ]
  },
  {
   "cell_type": "code",
   "execution_count": 4,
   "id": "95e3090c-340f-4239-b8d5-c43a54dbcb4a",
   "metadata": {},
   "outputs": [
    {
     "name": "stdout",
     "output_type": "stream",
     "text": [
      "This is show\n",
      "this is disp\n",
      "this is disp\n"
     ]
    }
   ],
   "source": [
    "class A:     # outer/top level/enclosing\n",
    "    def show(self):\n",
    "        print(\"This is show\")\n",
    "        \n",
    "    class B:     # nested / inner\n",
    "        def disp(self):\n",
    "            print(\"this is disp\")\n",
    "a=A()\n",
    "a.show()\n",
    "#a.disp()\n",
    "b=a.B()\n",
    "b.disp()\n",
    "\n",
    "b =A.B()\n",
    "b.disp()"
   ]
  },
  {
   "cell_type": "code",
   "execution_count": 9,
   "id": "a33e81ac-e034-44f8-804d-e21cff786665",
   "metadata": {},
   "outputs": [
    {
     "name": "stdout",
     "output_type": "stream",
     "text": [
      "this is bd\n",
      "this is ht\n"
     ]
    }
   ],
   "source": [
    "class human:\n",
    "    def bd(self):\n",
    "        print(\"this is bd\")\n",
    "        \n",
    "    class heart:\n",
    "        def ht(self):\n",
    "            print(\"this is ht\")\n",
    "h=human()\n",
    "h.bd()\n",
    "\n",
    "he =h.heart()\n",
    "he.ht()"
   ]
  },
  {
   "cell_type": "markdown",
   "id": "5714e099-48d6-4baa-8383-f9ebecf5a77a",
   "metadata": {},
   "source": [
    "#### Data Encapsulation/Hiding\n",
    "- It is a class design that provides protection to the data members of a class from unauthorized access."
   ]
  },
  {
   "cell_type": "code",
   "execution_count": 11,
   "id": "83fc68b4-b46a-412d-b59d-aa0bdb0d19c9",
   "metadata": {},
   "outputs": [
    {
     "name": "stdout",
     "output_type": "stream",
     "text": [
      "10\n"
     ]
    }
   ],
   "source": [
    "# without encapsulation\n",
    "class test:\n",
    "    x = 10\n",
    "print(test.x)"
   ]
  },
  {
   "cell_type": "code",
   "execution_count": 16,
   "id": "1f3506cf-adec-4818-af80-a0e05aa06b15",
   "metadata": {},
   "outputs": [
    {
     "name": "stdout",
     "output_type": "stream",
     "text": [
      "10\n"
     ]
    }
   ],
   "source": [
    "# with encapsulation\n",
    "class test:\n",
    "    __x = 10   # x is private\n",
    "#print(test.__x) # error\n",
    "    print(test.__x)"
   ]
  },
  {
   "cell_type": "code",
   "execution_count": 20,
   "id": "6fdde33b-b0ae-4aee-ba46-b37adf6ea1b9",
   "metadata": {},
   "outputs": [
    {
     "name": "stdout",
     "output_type": "stream",
     "text": [
      "10\n",
      "20\n"
     ]
    }
   ],
   "source": [
    "# with encapsulation\n",
    "class test:\n",
    "    __x = 10   # x is private\n",
    "    \n",
    "    @classmethod\n",
    "    def getx(cls):\n",
    "        return cls.__x\n",
    "    \n",
    "    @classmethod\n",
    "    def setx(cls,i):\n",
    "        cls.__x=i\n",
    "    \n",
    "#print(test.__x)    \n",
    "print(test.getx())\n",
    "test.setx(20)\n",
    "print(test.getx())"
   ]
  },
  {
   "cell_type": "code",
   "execution_count": 22,
   "id": "83d24f47-a60e-45b7-9207-af5eabfbca32",
   "metadata": {},
   "outputs": [
    {
     "name": "stdout",
     "output_type": "stream",
     "text": [
      "10\n",
      "10\n"
     ]
    }
   ],
   "source": [
    "# with encapsulation\n",
    "class test:\n",
    "    __x = 10   # x is private\n",
    "    \n",
    "    @classmethod\n",
    "    def getx(cls):\n",
    "        return cls.__x\n",
    "    \n",
    "    @classmethod\n",
    "    def setx(cls,i):\n",
    "        if(cls.__x>i):\n",
    "            pass\n",
    "        else:\n",
    "            cls.__x=i\n",
    "    \n",
    "#print(test.__x)    \n",
    "print(test.getx())\n",
    "test.setx(2)\n",
    "print(test.getx())"
   ]
  },
  {
   "cell_type": "code",
   "execution_count": 25,
   "id": "c87950c3-3995-4422-b7d8-b8638874dc04",
   "metadata": {},
   "outputs": [
    {
     "ename": "AttributeError",
     "evalue": "'emp' object has no attribute '_emp__sal'",
     "output_type": "error",
     "traceback": [
      "\u001b[1;31m---------------------------------------------------------------------------\u001b[0m",
      "\u001b[1;31mAttributeError\u001b[0m                            Traceback (most recent call last)",
      "\u001b[1;32m~\\AppData\\Local\\Temp\\ipykernel_10756\\190202914.py\u001b[0m in \u001b[0;36m<module>\u001b[1;34m\u001b[0m\n\u001b[0;32m      9\u001b[0m \u001b[1;33m\u001b[0m\u001b[0m\n\u001b[0;32m     10\u001b[0m \u001b[0me\u001b[0m \u001b[1;33m=\u001b[0m \u001b[0memp\u001b[0m\u001b[1;33m(\u001b[0m\u001b[1;33m)\u001b[0m\u001b[1;33m\u001b[0m\u001b[1;33m\u001b[0m\u001b[0m\n\u001b[1;32m---> 11\u001b[1;33m \u001b[0mprint\u001b[0m\u001b[1;33m(\u001b[0m\u001b[0me\u001b[0m\u001b[1;33m.\u001b[0m\u001b[0mgetsal\u001b[0m\u001b[1;33m(\u001b[0m\u001b[1;33m)\u001b[0m\u001b[1;33m)\u001b[0m\u001b[1;33m\u001b[0m\u001b[1;33m\u001b[0m\u001b[0m\n\u001b[0m\u001b[0;32m     12\u001b[0m \u001b[0me\u001b[0m\u001b[1;33m.\u001b[0m\u001b[0mgetsal\u001b[0m\u001b[1;33m(\u001b[0m\u001b[1;36m2000\u001b[0m\u001b[1;33m)\u001b[0m\u001b[1;33m\u001b[0m\u001b[1;33m\u001b[0m\u001b[0m\n\u001b[0;32m     13\u001b[0m \u001b[0mprint\u001b[0m\u001b[1;33m(\u001b[0m\u001b[0me\u001b[0m\u001b[1;33m.\u001b[0m\u001b[0mgetsal\u001b[0m\u001b[1;33m)\u001b[0m\u001b[1;33m\u001b[0m\u001b[1;33m\u001b[0m\u001b[0m\n",
      "\u001b[1;32m~\\AppData\\Local\\Temp\\ipykernel_10756\\190202914.py\u001b[0m in \u001b[0;36mgetsal\u001b[1;34m(self)\u001b[0m\n\u001b[0;32m      4\u001b[0m \u001b[1;33m\u001b[0m\u001b[0m\n\u001b[0;32m      5\u001b[0m     \u001b[1;32mdef\u001b[0m \u001b[0mgetsal\u001b[0m\u001b[1;33m(\u001b[0m\u001b[0mself\u001b[0m\u001b[1;33m)\u001b[0m\u001b[1;33m:\u001b[0m\u001b[1;33m\u001b[0m\u001b[1;33m\u001b[0m\u001b[0m\n\u001b[1;32m----> 6\u001b[1;33m         \u001b[1;32mreturn\u001b[0m \u001b[0mself\u001b[0m\u001b[1;33m.\u001b[0m\u001b[0m__sal\u001b[0m\u001b[1;33m\u001b[0m\u001b[1;33m\u001b[0m\u001b[0m\n\u001b[0m\u001b[0;32m      7\u001b[0m     \u001b[1;32mdef\u001b[0m \u001b[0msetsal\u001b[0m\u001b[1;33m(\u001b[0m\u001b[0mself\u001b[0m\u001b[1;33m,\u001b[0m\u001b[0ms\u001b[0m\u001b[1;33m)\u001b[0m\u001b[1;33m:\u001b[0m\u001b[1;33m\u001b[0m\u001b[1;33m\u001b[0m\u001b[0m\n\u001b[0;32m      8\u001b[0m         \u001b[0mself\u001b[0m\u001b[1;33m.\u001b[0m\u001b[0m__sal\u001b[0m\u001b[1;33m=\u001b[0m\u001b[0ms\u001b[0m\u001b[1;33m\u001b[0m\u001b[1;33m\u001b[0m\u001b[0m\n",
      "\u001b[1;31mAttributeError\u001b[0m: 'emp' object has no attribute '_emp__sal'"
     ]
    }
   ],
   "source": [
    "class emp:\n",
    "    def __init__(self):\n",
    "        self.sal=100\n",
    "        \n",
    "    def getsal(self):\n",
    "        return self.__sal\n",
    "    \n",
    "    def setsal(self,s):\n",
    "        self.__sal=s\n",
    "        \n",
    "e = emp()\n",
    "print(e.getsal())\n",
    "e.getsal(2000)\n",
    "print(getsal)\n",
    "        \n",
    "        "
   ]
  },
  {
   "cell_type": "code",
   "execution_count": null,
   "id": "ae66ba7d-da2a-40c3-9d20-3e72f009f829",
   "metadata": {},
   "outputs": [],
   "source": []
  }
 ],
 "metadata": {
  "kernelspec": {
   "display_name": "Python 3 (ipykernel)",
   "language": "python",
   "name": "python3"
  },
  "language_info": {
   "codemirror_mode": {
    "name": "ipython",
    "version": 3
   },
   "file_extension": ".py",
   "mimetype": "text/x-python",
   "name": "python",
   "nbconvert_exporter": "python",
   "pygments_lexer": "ipython3",
   "version": "3.9.13"
  }
 },
 "nbformat": 4,
 "nbformat_minor": 5
}
