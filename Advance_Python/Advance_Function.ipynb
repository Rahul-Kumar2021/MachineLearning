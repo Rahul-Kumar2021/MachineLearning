{
 "cells": [
  {
   "cell_type": "markdown",
   "id": "6a8a81f7-0ceb-4892-9b08-4907251e18b1",
   "metadata": {},
   "source": [
    "# Advanced concepts of Function\n",
    "- fun as arg\n",
    "- fun as return\n",
    "- nested fun\n",
    "- closure fun\n",
    "- decorator fun\n",
    "- fenerator fun\n",
    "- lamdba fun\n",
    "- map fun\n",
    "- filter fun"
   ]
  },
  {
   "cell_type": "code",
   "execution_count": 3,
   "id": "e0399e23-d38f-49eb-8b2e-d02f30c1b6a7",
   "metadata": {},
   "outputs": [
    {
     "name": "stdout",
     "output_type": "stream",
     "text": [
      "this is disp\n",
      "10\n",
      "this is disp\n",
      "<function show at 0x000001F783619AF0>\n"
     ]
    }
   ],
   "source": [
    "def show():\n",
    "    print(\"this is show\")\n",
    "\n",
    "def disp(x):\n",
    "    print(\"this is disp\")\n",
    "    print(x)\n",
    "    \n",
    "disp(10)\n",
    "disp(show)"
   ]
  },
  {
   "cell_type": "code",
   "execution_count": 4,
   "id": "ac6b6dbd-1b10-45fe-8ea1-a3883d4c9994",
   "metadata": {},
   "outputs": [
    {
     "name": "stdout",
     "output_type": "stream",
     "text": [
      "this is disp\n",
      "this is show\n"
     ]
    }
   ],
   "source": [
    "def show():\n",
    "    print(\"this is show\")\n",
    "\n",
    "def disp(x):\n",
    "    print(\"this is disp\")\n",
    "    x()\n",
    "    \n",
    "disp(show)"
   ]
  },
  {
   "cell_type": "code",
   "execution_count": 5,
   "id": "112d6bd2-073b-4097-a955-4044bd73a555",
   "metadata": {},
   "outputs": [
    {
     "name": "stdout",
     "output_type": "stream",
     "text": [
      "this is show\n"
     ]
    }
   ],
   "source": [
    "i = show\n",
    "i()"
   ]
  },
  {
   "cell_type": "code",
   "execution_count": 6,
   "id": "da49f0a6-ce60-4739-991e-7245b631e370",
   "metadata": {},
   "outputs": [
    {
     "name": "stdout",
     "output_type": "stream",
     "text": [
      "this is show\n"
     ]
    }
   ],
   "source": [
    "show()"
   ]
  },
  {
   "cell_type": "code",
   "execution_count": 7,
   "id": "11d82f26-8b98-487a-9f7c-13a45c82bd94",
   "metadata": {},
   "outputs": [
    {
     "ename": "TypeError",
     "evalue": "'int' object is not callable",
     "output_type": "error",
     "traceback": [
      "\u001b[1;31m---------------------------------------------------------------------------\u001b[0m",
      "\u001b[1;31mTypeError\u001b[0m                                 Traceback (most recent call last)",
      "\u001b[1;32m~\\AppData\\Local\\Temp\\ipykernel_6568\\1305860205.py\u001b[0m in \u001b[0;36m<module>\u001b[1;34m\u001b[0m\n\u001b[0;32m      1\u001b[0m \u001b[0mi\u001b[0m \u001b[1;33m=\u001b[0m\u001b[1;36m10\u001b[0m\u001b[1;33m\u001b[0m\u001b[1;33m\u001b[0m\u001b[0m\n\u001b[1;32m----> 2\u001b[1;33m \u001b[0mi\u001b[0m\u001b[1;33m(\u001b[0m\u001b[1;33m)\u001b[0m\u001b[1;33m\u001b[0m\u001b[1;33m\u001b[0m\u001b[0m\n\u001b[0m",
      "\u001b[1;31mTypeError\u001b[0m: 'int' object is not callable"
     ]
    }
   ],
   "source": [
    "i =10\n",
    "i()"
   ]
  },
  {
   "cell_type": "code",
   "execution_count": 9,
   "id": "d512bed2-207d-40e9-b17b-4bc5a7abb363",
   "metadata": {},
   "outputs": [
    {
     "name": "stdout",
     "output_type": "stream",
     "text": [
      "this is disp\n",
      "10\n"
     ]
    }
   ],
   "source": [
    "def show():\n",
    "    print(\"this is show\")\n",
    "\n",
    "def disp():\n",
    "    print(\"this is disp\")\n",
    "    return 10\n",
    "\n",
    "x=disp()\n",
    "print(x)\n"
   ]
  },
  {
   "cell_type": "code",
   "execution_count": 10,
   "id": "3c9edb98-b18d-4910-b7d0-d1f0a9ecccc2",
   "metadata": {},
   "outputs": [
    {
     "name": "stdout",
     "output_type": "stream",
     "text": [
      "this is disp\n",
      "<function show at 0x000001F7836191F0>\n"
     ]
    }
   ],
   "source": [
    "def show():\n",
    "    print(\"this is show\")\n",
    "\n",
    "def disp():\n",
    "    print(\"this is disp\")\n",
    "    return show\n",
    "\n",
    "x=disp()\n",
    "print(x)"
   ]
  },
  {
   "cell_type": "code",
   "execution_count": 11,
   "id": "60417c7a-8eeb-42c3-acae-63bc9ce1d6ff",
   "metadata": {},
   "outputs": [
    {
     "name": "stdout",
     "output_type": "stream",
     "text": [
      "this is disp\n",
      "this is show\n"
     ]
    }
   ],
   "source": [
    "def show():\n",
    "    print(\"this is show\")\n",
    "\n",
    "def disp():\n",
    "    print(\"this is disp\")\n",
    "    return show\n",
    "\n",
    "x=disp()\n",
    "x()"
   ]
  },
  {
   "cell_type": "code",
   "execution_count": 12,
   "id": "5d8071d1-d9ab-4acc-a5a5-7dd5a76e40b1",
   "metadata": {},
   "outputs": [
    {
     "name": "stdout",
     "output_type": "stream",
     "text": [
      "this is disp\n",
      "this is show\n",
      "None\n"
     ]
    }
   ],
   "source": [
    "def show():\n",
    "    print(\"this is show\")\n",
    "\n",
    "def disp():\n",
    "    print(\"this is disp\")\n",
    "    return show()\n",
    "\n",
    "x=disp()\n",
    "print(x)"
   ]
  },
  {
   "cell_type": "code",
   "execution_count": 13,
   "id": "e56b2248-ac74-4755-89d6-8cb1ecbe44cc",
   "metadata": {},
   "outputs": [
    {
     "name": "stdout",
     "output_type": "stream",
     "text": [
      "this is disp\n",
      "this is show\n",
      "10\n"
     ]
    }
   ],
   "source": [
    "def show():\n",
    "    print(\"this is show\")\n",
    "    return 10\n",
    "\n",
    "def disp():\n",
    "    print(\"this is disp\")\n",
    "    return show()\n",
    "\n",
    "x=disp()\n",
    "print(x)"
   ]
  },
  {
   "cell_type": "code",
   "execution_count": 15,
   "id": "1124be7a-b695-45d4-89d9-c1bcbb6d5882",
   "metadata": {},
   "outputs": [
    {
     "name": "stdout",
     "output_type": "stream",
     "text": [
      "this is disp\n",
      "this is show\n"
     ]
    }
   ],
   "source": [
    "def show():\n",
    "    print(\"this is show\")\n",
    "\n",
    "def disp():\n",
    "    print(\"this is disp\")\n",
    "    return show\n",
    "\n",
    "x=disp()() # function chaining\n"
   ]
  },
  {
   "cell_type": "code",
   "execution_count": 2,
   "id": "a38f435f-c93b-40ad-af7c-c4299c83acfb",
   "metadata": {},
   "outputs": [
    {
     "name": "stdout",
     "output_type": "stream",
     "text": [
      "start of show\n",
      "end of show\n",
      "this is disp\n"
     ]
    }
   ],
   "source": [
    "def show(): # outer/top level/global fun/enclosing\n",
    "    print(\"start of show\")\n",
    "    def disp(): # nested/inner/Local fun\n",
    "        \n",
    "        print(\"this is disp\")\n",
    "        \n",
    "    print(\"end of show\")\n",
    "    return disp\n",
    "    \n",
    "y= show()\n",
    "\n",
    "y()\n",
    "    "
   ]
  },
  {
   "cell_type": "code",
   "execution_count": 7,
   "id": "cd36dff8-b81e-48c8-9496-eba5e0460318",
   "metadata": {},
   "outputs": [
    {
     "name": "stdout",
     "output_type": "stream",
     "text": [
      "start of show\n",
      "this is disp 10\n",
      "end of show\n"
     ]
    }
   ],
   "source": [
    "def show(): \n",
    "    x = 10\n",
    "    print(\"start of show\")\n",
    "    def disp():\n",
    "        \n",
    "        print(\"this is disp\",x)\n",
    "    disp()  \n",
    "    print(\"end of show\")\n",
    "    \n",
    "show()\n"
   ]
  },
  {
   "cell_type": "code",
   "execution_count": 6,
   "id": "8c3bb645-b102-4104-a6f1-54b4c0e8c053",
   "metadata": {},
   "outputs": [
    {
     "name": "stdout",
     "output_type": "stream",
     "text": [
      "start of show\n",
      "this is disp 20\n",
      "end of show\n"
     ]
    }
   ],
   "source": [
    "def show(): \n",
    "    print(\"start of show\")\n",
    "    x = 10\n",
    "    def disp():\n",
    "        x = 20\n",
    "        print(\"this is disp\",x)\n",
    "    disp()  \n",
    "    print(\"end of show\")\n",
    "    \n",
    "show()\n"
   ]
  },
  {
   "cell_type": "code",
   "execution_count": 8,
   "id": "763769db-8dad-467e-8e70-ad7f9cf852ec",
   "metadata": {},
   "outputs": [
    {
     "name": "stdout",
     "output_type": "stream",
     "text": [
      "start of show\n",
      "this is disp 20\n",
      "end of show 10\n"
     ]
    }
   ],
   "source": [
    "def show(): \n",
    "    print(\"start of show\")\n",
    "    x = 10\n",
    "    def disp():\n",
    "        x = 20\n",
    "        print(\"this is disp\",x)\n",
    "    disp()  \n",
    "    print(\"end of show\",x)\n",
    "    \n",
    "show()"
   ]
  },
  {
   "cell_type": "code",
   "execution_count": 9,
   "id": "2b22a6ae-ce2e-47e5-ac2c-acac42e7f1d5",
   "metadata": {},
   "outputs": [
    {
     "name": "stdout",
     "output_type": "stream",
     "text": [
      "start of show\n",
      "this is disp 20\n",
      "end of show 20\n"
     ]
    }
   ],
   "source": [
    "def show(): \n",
    "    print(\"start of show\")\n",
    "    x = 10\n",
    "    def disp():\n",
    "        nonlocal x\n",
    "        x = 20\n",
    "        print(\"this is disp\",x)\n",
    "    disp()  \n",
    "    print(\"end of show\",x)\n",
    "    \n",
    "show()"
   ]
  },
  {
   "cell_type": "code",
   "execution_count": 10,
   "id": "39e666ef-22fd-4e39-8890-3ebeb8aa5c5a",
   "metadata": {},
   "outputs": [
    {
     "name": "stdout",
     "output_type": "stream",
     "text": [
      "start of show\n",
      "this is disp 20\n",
      "end of show 10\n"
     ]
    }
   ],
   "source": [
    "def show(): \n",
    "    print(\"start of show\")\n",
    "    x = 10\n",
    "    def disp():\n",
    "        global x\n",
    "        x = 20\n",
    "        print(\"this is disp\",x)\n",
    "    disp()  \n",
    "    print(\"end of show\",x)\n",
    "    \n",
    "show()"
   ]
  },
  {
   "cell_type": "code",
   "execution_count": 11,
   "id": "234488a2-562c-456a-bc6f-ea7a96a8b11e",
   "metadata": {},
   "outputs": [
    {
     "name": "stdout",
     "output_type": "stream",
     "text": [
      "[20, 30]\n",
      "10\n"
     ]
    },
    {
     "ename": "NameError",
     "evalue": "name 'x' is not defined",
     "output_type": "error",
     "traceback": [
      "\u001b[1;31m---------------------------------------------------------------------------\u001b[0m",
      "\u001b[1;31mNameError\u001b[0m                                 Traceback (most recent call last)",
      "\u001b[1;32m~\\AppData\\Local\\Temp\\ipykernel_8240\\1922288293.py\u001b[0m in \u001b[0;36m<module>\u001b[1;34m\u001b[0m\n\u001b[0;32m      5\u001b[0m \u001b[0mprint\u001b[0m\u001b[1;33m(\u001b[0m\u001b[0mx\u001b[0m\u001b[1;33m)\u001b[0m\u001b[1;33m\u001b[0m\u001b[1;33m\u001b[0m\u001b[0m\n\u001b[0;32m      6\u001b[0m \u001b[1;32mdel\u001b[0m \u001b[0mx\u001b[0m\u001b[1;33m\u001b[0m\u001b[1;33m\u001b[0m\u001b[0m\n\u001b[1;32m----> 7\u001b[1;33m \u001b[0mprint\u001b[0m\u001b[1;33m(\u001b[0m\u001b[0mx\u001b[0m\u001b[1;33m)\u001b[0m\u001b[1;33m\u001b[0m\u001b[1;33m\u001b[0m\u001b[0m\n\u001b[0m",
      "\u001b[1;31mNameError\u001b[0m: name 'x' is not defined"
     ]
    }
   ],
   "source": [
    "x = 10\n",
    "y = [10,20,30]\n",
    "del y[0]\n",
    "print(y)\n",
    "print(x)\n",
    "del x \n",
    "print(x)"
   ]
  },
  {
   "cell_type": "code",
   "execution_count": 12,
   "id": "a123acad-1815-4188-adae-489c56e065a9",
   "metadata": {},
   "outputs": [
    {
     "name": "stdout",
     "output_type": "stream",
     "text": [
      "this is show\n"
     ]
    }
   ],
   "source": [
    "def show ():\n",
    "    print(\"this is show\")\n",
    "\n",
    "show()"
   ]
  },
  {
   "cell_type": "code",
   "execution_count": 13,
   "id": "a13a3ae7-e438-4184-bfe3-152ab35075f6",
   "metadata": {},
   "outputs": [
    {
     "ename": "SyntaxError",
     "evalue": "cannot delete function call (2804120104.py, line 1)",
     "output_type": "error",
     "traceback": [
      "\u001b[1;36m  File \u001b[1;32m\"C:\\Users\\HP\\AppData\\Local\\Temp\\ipykernel_8240\\2804120104.py\"\u001b[1;36m, line \u001b[1;32m1\u001b[0m\n\u001b[1;33m    del show()\u001b[0m\n\u001b[1;37m        ^\u001b[0m\n\u001b[1;31mSyntaxError\u001b[0m\u001b[1;31m:\u001b[0m cannot delete function call\n"
     ]
    }
   ],
   "source": [
    "del show()"
   ]
  },
  {
   "cell_type": "code",
   "execution_count": 14,
   "id": "bee6775d-af72-4670-90b2-3e2d96ae1a72",
   "metadata": {},
   "outputs": [],
   "source": [
    "del show"
   ]
  },
  {
   "cell_type": "code",
   "execution_count": 15,
   "id": "133ee1fb-fb35-4090-8405-c1497011d9ef",
   "metadata": {},
   "outputs": [
    {
     "ename": "NameError",
     "evalue": "name 'show' is not defined",
     "output_type": "error",
     "traceback": [
      "\u001b[1;31m---------------------------------------------------------------------------\u001b[0m",
      "\u001b[1;31mNameError\u001b[0m                                 Traceback (most recent call last)",
      "\u001b[1;32m~\\AppData\\Local\\Temp\\ipykernel_8240\\2152131889.py\u001b[0m in \u001b[0;36m<module>\u001b[1;34m\u001b[0m\n\u001b[1;32m----> 1\u001b[1;33m \u001b[0mshow\u001b[0m\u001b[1;33m(\u001b[0m\u001b[1;33m)\u001b[0m\u001b[1;33m\u001b[0m\u001b[1;33m\u001b[0m\u001b[0m\n\u001b[0m",
      "\u001b[1;31mNameError\u001b[0m: name 'show' is not defined"
     ]
    }
   ],
   "source": [
    "show()"
   ]
  },
  {
   "cell_type": "code",
   "execution_count": 16,
   "id": "cc41dfa3-d83f-461e-9c64-32dc5ee5a2a1",
   "metadata": {},
   "outputs": [],
   "source": [
    "import builtins"
   ]
  },
  {
   "cell_type": "code",
   "execution_count": 17,
   "id": "fc775088-75bf-44d4-8919-910deb187c38",
   "metadata": {},
   "outputs": [],
   "source": [
    "del builtins.print"
   ]
  },
  {
   "cell_type": "code",
   "execution_count": 18,
   "id": "d561ced6-09ba-4b25-bb87-0f58d7200110",
   "metadata": {},
   "outputs": [
    {
     "ename": "NameError",
     "evalue": "name 'print' is not defined",
     "output_type": "error",
     "traceback": [
      "\u001b[1;31m---------------------------------------------------------------------------\u001b[0m",
      "\u001b[1;31mNameError\u001b[0m                                 Traceback (most recent call last)",
      "\u001b[1;32m~\\AppData\\Local\\Temp\\ipykernel_8240\\776975998.py\u001b[0m in \u001b[0;36m<module>\u001b[1;34m\u001b[0m\n\u001b[1;32m----> 1\u001b[1;33m \u001b[0mprint\u001b[0m\u001b[1;33m(\u001b[0m\u001b[1;34m\"hello\"\u001b[0m\u001b[1;33m)\u001b[0m\u001b[1;33m\u001b[0m\u001b[1;33m\u001b[0m\u001b[0m\n\u001b[0m",
      "\u001b[1;31mNameError\u001b[0m: name 'print' is not defined"
     ]
    }
   ],
   "source": [
    "print(\"hello\")"
   ]
  },
  {
   "cell_type": "code",
   "execution_count": 1,
   "id": "4fd44b4b-30c2-41f4-b7c7-a45553b74a09",
   "metadata": {},
   "outputs": [
    {
     "name": "stdout",
     "output_type": "stream",
     "text": [
      "start of show\n",
      "end of show\n",
      "this is disp 10\n"
     ]
    }
   ],
   "source": [
    "def show(): \n",
    "    print(\"start of show\")\n",
    "    x = 10\n",
    "    def disp(): # Closure function\n",
    "        print(\"this is disp\",x)\n",
    "\n",
    "    print(\"end of show\")\n",
    "    return disp\n",
    "    \n",
    "fun = show()\n",
    "del show\n",
    "fun()"
   ]
  },
  {
   "cell_type": "code",
   "execution_count": 6,
   "id": "56fe7ab4-80b5-48f7-a611-b6ec19afecda",
   "metadata": {},
   "outputs": [
    {
     "name": "stdout",
     "output_type": "stream",
     "text": [
      "THis is login\n",
      "Tue Aug 22 12:45:44 2023\n"
     ]
    }
   ],
   "source": [
    "# Decorator fun\n",
    "def login():\n",
    "    print(\"THis is login\")\n",
    "\n",
    "def datedeco(fun):\n",
    "    def addate():\n",
    "        fun()\n",
    "        import time\n",
    "        print(time.ctime())\n",
    "    return addate\n",
    "login = datedeco(login)\n",
    "login()\n",
    "        "
   ]
  },
  {
   "cell_type": "code",
   "execution_count": 7,
   "id": "b6613d71-fc92-4121-92b0-be5a4c1acefa",
   "metadata": {},
   "outputs": [
    {
     "name": "stdout",
     "output_type": "stream",
     "text": [
      "THis is login\n",
      "Tue Aug 22 12:48:53 2023\n",
      "this is resigter\n",
      "Tue Aug 22 12:48:53 2023\n",
      "this is upload\n",
      "Tue Aug 22 12:48:53 2023\n"
     ]
    }
   ],
   "source": [
    "# Decorator fun\n",
    "def login():\n",
    "    print(\"THis is login\")\n",
    "    \n",
    "def resigter():\n",
    "    print(\"this is resigter\")\n",
    "\n",
    "def upload():\n",
    "    \n",
    "    print(\"this is upload\")\n",
    "    \n",
    "    \n",
    "def datedeco(fun):\n",
    "    def addate():\n",
    "        fun()\n",
    "        import time\n",
    "        print(time.ctime())\n",
    "    return addate\n",
    "login = datedeco(login)\n",
    "resigter = datedeco(resigter)\n",
    "upload = datedeco(upload)\n",
    "login()\n",
    "resigter()\n",
    "upload()"
   ]
  },
  {
   "cell_type": "code",
   "execution_count": 8,
   "id": "4441342c-5460-422f-b91b-36ec123e6f70",
   "metadata": {},
   "outputs": [
    {
     "name": "stdout",
     "output_type": "stream",
     "text": [
      "THis is login\n",
      "Tue Aug 22 12:50:33 2023\n",
      "this is resigter\n",
      "Tue Aug 22 12:50:33 2023\n",
      "this is upload\n",
      "Tue Aug 22 12:50:33 2023\n"
     ]
    }
   ],
   "source": [
    "# Decorator fun\n",
    "@datedeco\n",
    "def login():\n",
    "    print(\"THis is login\")\n",
    "\n",
    "@datedeco    \n",
    "def resigter():\n",
    "    print(\"this is resigter\")\n",
    "    \n",
    "@datedeco\n",
    "def upload():\n",
    "    \n",
    "    print(\"this is upload\")\n",
    "    \n",
    "    \n",
    "def datedeco(fun):\n",
    "    def addate():\n",
    "        fun()\n",
    "        import time\n",
    "        print(time.ctime())\n",
    "    return addate\n",
    "\n",
    "login()\n",
    "resigter()\n",
    "upload()"
   ]
  },
  {
   "cell_type": "code",
   "execution_count": null,
   "id": "e2021c44-9231-4bf9-8e78-6ab71398bffc",
   "metadata": {},
   "outputs": [],
   "source": []
  }
 ],
 "metadata": {
  "kernelspec": {
   "display_name": "Python 3 (ipykernel)",
   "language": "python",
   "name": "python3"
  },
  "language_info": {
   "codemirror_mode": {
    "name": "ipython",
    "version": 3
   },
   "file_extension": ".py",
   "mimetype": "text/x-python",
   "name": "python",
   "nbconvert_exporter": "python",
   "pygments_lexer": "ipython3",
   "version": "3.9.13"
  }
 },
 "nbformat": 4,
 "nbformat_minor": 5
}
