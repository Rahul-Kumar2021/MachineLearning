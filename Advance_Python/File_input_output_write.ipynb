{
 "cells": [
  {
   "cell_type": "code",
   "execution_count": 7,
   "id": "960eaff8-b901-42d6-bca9-567494ff5646",
   "metadata": {},
   "outputs": [],
   "source": [
    "file = open(\"C:/Users/HP/Documents/abc.txt\",\"w\")\n",
    "file.write(str(2024))\n",
    "file.flush()\n",
    "file.write(\"hello\")\n",
    "file.write(\"hi\")\n",
    "#file.flush()\n",
    "file.close()"
   ]
  },
  {
   "cell_type": "code",
   "execution_count": 9,
   "id": "4e1914ef-f39f-47e3-9f3c-7732ad425bff",
   "metadata": {},
   "outputs": [],
   "source": [
    "file = open(\"C:/Users/HP/Documents/abc.txt\",\"w\")\n",
    "file.write(str(2024))\n",
    "file.flush()\n",
    "file.write(\"\\nhello\\n\")\n",
    "file.write(\"\\nhi\")\n",
    "#file.flush()\n",
    "file.close()"
   ]
  },
  {
   "cell_type": "code",
   "execution_count": 12,
   "id": "2028b6b1-a89e-498b-8910-52749f0dc278",
   "metadata": {},
   "outputs": [],
   "source": [
    "file = open(\"C:/Users/HP/Documents/abc.txt\",\"a\")\n",
    "file.write(\"surya\\ngill\\n\")\n",
    "file.close()"
   ]
  },
  {
   "cell_type": "code",
   "execution_count": 13,
   "id": "26cbbe73-8411-4083-b876-b5cb0f11b54f",
   "metadata": {},
   "outputs": [],
   "source": [
    "file = open(\"C:/Users/HP/Documents/abc.txt\",\"a\",encoding=\"utf\")\n",
    "file.write(\"\\ndhoni\")\n",
    "file.close()"
   ]
  },
  {
   "cell_type": "code",
   "execution_count": 14,
   "id": "8cfa15b9-4492-45f0-b92c-097ca9770235",
   "metadata": {},
   "outputs": [],
   "source": [
    "file = open(\"C:/Users/HP/Documents/aa.txt\",\"x\") # exclusive write\n",
    "file.write(\"hello\")\n",
    "file.close()\n"
   ]
  },
  {
   "cell_type": "raw",
   "id": "3719fe1a-1d6c-4279-8154-ba9dfddb8e68",
   "metadata": {},
   "source": [
    "Write Mode > if file does not exist , if file already exists\n",
    "\n",
    "W >             create                ,    overwrite\\replace\n",
    "a >             create                ,    append\n",
    "x >            create                ,    error"
   ]
  },
  {
   "cell_type": "code",
   "execution_count": 15,
   "id": "1a5d2857-d4fc-41c2-8194-be5e13abd4a4",
   "metadata": {},
   "outputs": [
    {
     "name": "stdout",
     "output_type": "stream",
     "text": [
      "Python was first released in 1991\n",
      "it is east to learn\n",
      "by\n"
     ]
    },
    {
     "ename": "UnsupportedOperation",
     "evalue": "not writable",
     "output_type": "error",
     "traceback": [
      "\u001b[1;31m---------------------------------------------------------------------------\u001b[0m",
      "\u001b[1;31mUnsupportedOperation\u001b[0m                      Traceback (most recent call last)",
      "\u001b[1;32m~\\AppData\\Local\\Temp\\ipykernel_10116\\1356602314.py\u001b[0m in \u001b[0;36m<module>\u001b[1;34m\u001b[0m\n\u001b[0;32m      2\u001b[0m \u001b[0mtext\u001b[0m \u001b[1;33m=\u001b[0m \u001b[0mfile\u001b[0m\u001b[1;33m.\u001b[0m\u001b[0mread\u001b[0m\u001b[1;33m(\u001b[0m\u001b[1;33m)\u001b[0m\u001b[1;33m\u001b[0m\u001b[1;33m\u001b[0m\u001b[0m\n\u001b[0;32m      3\u001b[0m \u001b[0mprint\u001b[0m\u001b[1;33m(\u001b[0m\u001b[0mtext\u001b[0m\u001b[1;33m)\u001b[0m\u001b[1;33m\u001b[0m\u001b[1;33m\u001b[0m\u001b[0m\n\u001b[1;32m----> 4\u001b[1;33m \u001b[0mfile\u001b[0m\u001b[1;33m.\u001b[0m\u001b[0mwrite\u001b[0m\u001b[1;33m(\u001b[0m\u001b[1;34m\"this is python\"\u001b[0m\u001b[1;33m)\u001b[0m\u001b[1;33m\u001b[0m\u001b[1;33m\u001b[0m\u001b[0m\n\u001b[0m\u001b[0;32m      5\u001b[0m \u001b[0mfile\u001b[0m\u001b[1;33m.\u001b[0m\u001b[0mclose\u001b[0m\u001b[1;33m(\u001b[0m\u001b[1;33m)\u001b[0m\u001b[1;33m\u001b[0m\u001b[1;33m\u001b[0m\u001b[0m\n",
      "\u001b[1;31mUnsupportedOperation\u001b[0m: not writable"
     ]
    }
   ],
   "source": [
    "file = open(\"C:/Users/HP/Documents/msg.txt\",\"r\")\n",
    "text = file.read()\n",
    "print(text)\n",
    "file.write(\"this is python\")\n",
    "file.close()"
   ]
  },
  {
   "cell_type": "code",
   "execution_count": 16,
   "id": "9fb1ded7-18e6-4565-8f3d-176bfa390feb",
   "metadata": {},
   "outputs": [
    {
     "name": "stdout",
     "output_type": "stream",
     "text": [
      "Python was first released in 1991\n",
      "it is east to learn\n",
      "by\n"
     ]
    }
   ],
   "source": [
    "file = open(\"C:/Users/HP/Documents/msg.txt\",\"r+\")# read then write\n",
    "text = file.read()\n",
    "print(text)\n",
    "file.write(\"\\nthis is python\")\n",
    "file.close()"
   ]
  },
  {
   "cell_type": "code",
   "execution_count": 17,
   "id": "c2507521-3c4e-4986-a729-8e4c19aa6e18",
   "metadata": {},
   "outputs": [
    {
     "name": "stdout",
     "output_type": "stream",
     "text": [
      "\n",
      "this is india\n"
     ]
    }
   ],
   "source": [
    "file = open(\"C:/Users/HP/Documents/msg.txt\",\"w+\")# write seek then read\n",
    "file.write(\"\\nthis is india\")\n",
    "file.seek(0)\n",
    "text = file.read()\n",
    "print(text)\n",
    "file.close()"
   ]
  },
  {
   "cell_type": "code",
   "execution_count": 18,
   "id": "189b7b27-c4be-49fe-a420-de4960210d5c",
   "metadata": {},
   "outputs": [
    {
     "name": "stdout",
     "output_type": "stream",
     "text": [
      "\n",
      "this is india\n",
      "this is bharat\n"
     ]
    }
   ],
   "source": [
    "file = open(\"C:/Users/HP/Documents/msg.txt\",\"a+\")# append seek then read\n",
    "file.write(\"\\nthis is bharat\")\n",
    "file.seek(0)\n",
    "text = file.read()\n",
    "print(text)\n",
    "file.close()"
   ]
  },
  {
   "cell_type": "code",
   "execution_count": 21,
   "id": "f214d159-23db-4225-b834-a7a37ab6c74e",
   "metadata": {},
   "outputs": [
    {
     "name": "stdout",
     "output_type": "stream",
     "text": [
      "\n",
      "this is india\n",
      "this is bharat\n"
     ]
    }
   ],
   "source": [
    "file = open(\"C:/Users/HP/Documents/msg.txt\")# default mode is r\n",
    "text = file.read()\n",
    "print(text)\n",
    "file.close()"
   ]
  },
  {
   "cell_type": "raw",
   "id": "553266db-7de9-43b3-996d-387bea8725c4",
   "metadata": {},
   "source": [
    "# Data\n",
    "\n",
    "1- characters(Text)  -> \n",
    "2- bytes(Non-Text)"
   ]
  },
  {
   "cell_type": "code",
   "execution_count": 22,
   "id": "0c7c4c17-d5f9-4e61-95ec-cd4a1492497c",
   "metadata": {},
   "outputs": [],
   "source": [
    "file = open(\"C:/Users/HP/Desktop/PP.jpg\",\"r\")\n",
    "#data = file.read()"
   ]
  },
  {
   "cell_type": "code",
   "execution_count": 23,
   "id": "14b61355-b621-4fba-beb0-62b05180f111",
   "metadata": {},
   "outputs": [],
   "source": [
    "file = open(\"C:/Users/HP/Desktop/PP.jpg\",\"rb\")\n",
    "data = file.read()"
   ]
  },
  {
   "cell_type": "code",
   "execution_count": 24,
   "id": "f3da96ad-bc87-4beb-8dab-2b455646f686",
   "metadata": {},
   "outputs": [
    {
     "name": "stderr",
     "output_type": "stream",
     "text": [
      "IOPub data rate exceeded.\n",
      "The Jupyter server will temporarily stop sending output\n",
      "to the client in order to avoid crashing it.\n",
      "To change this limit, set the config variable\n",
      "`--ServerApp.iopub_data_rate_limit`.\n",
      "\n",
      "Current values:\n",
      "ServerApp.iopub_data_rate_limit=1000000.0 (bytes/sec)\n",
      "ServerApp.rate_limit_window=3.0 (secs)\n",
      "\n"
     ]
    }
   ],
   "source": [
    "print(data)\n",
    "file.close()"
   ]
  },
  {
   "cell_type": "code",
   "execution_count": 25,
   "id": "f130e231-f9f2-4bb7-a588-6fa8c3036719",
   "metadata": {},
   "outputs": [],
   "source": [
    "file = open(\"PP.jpg\",\"wb\")\n",
    "data = file.write(data)\n",
    "file.close()"
   ]
  },
  {
   "cell_type": "code",
   "execution_count": 26,
   "id": "e6301f09-32d0-4ac0-a42f-e99a230fae94",
   "metadata": {},
   "outputs": [
    {
     "name": "stdout",
     "output_type": "stream",
     "text": [
      "<class 'str'> hello\n"
     ]
    }
   ],
   "source": [
    "s = \"hello\"\n",
    "print(type(s),s)"
   ]
  },
  {
   "cell_type": "code",
   "execution_count": 38,
   "id": "926d9ef7-df04-4071-9aaa-f48aa625cfc7",
   "metadata": {},
   "outputs": [
    {
     "name": "stdout",
     "output_type": "stream",
     "text": [
      "<class 'bytes'> b'hello'\n"
     ]
    }
   ],
   "source": [
    "c =s.encode()\n",
    "print(type(c),c)"
   ]
  },
  {
   "cell_type": "code",
   "execution_count": 39,
   "id": "b4f875ec-a3c3-4258-8d47-4b743c03d810",
   "metadata": {},
   "outputs": [
    {
     "name": "stdout",
     "output_type": "stream",
     "text": [
      "hello <class 'str'>\n"
     ]
    }
   ],
   "source": [
    "ss =c.decode()\n",
    "print(ss,type(ss))"
   ]
  },
  {
   "cell_type": "code",
   "execution_count": 34,
   "id": "9e437a67-85de-4fda-99bd-f8cb6fe458e6",
   "metadata": {},
   "outputs": [],
   "source": [
    "file = open(\"C:/Users/HP/Desktop/PP.jpg\",\"rb\")\n",
    "data = file.read()\n",
    "file.close()\n",
    "\n",
    "\n",
    "file = open(\"PP.jpg\",\"wb\")\n",
    "data = file.write(data)\n",
    "\n",
    "ss =\"1234\"\n",
    "file.write(s.encode())\n",
    "file.close()"
   ]
  },
  {
   "cell_type": "code",
   "execution_count": 35,
   "id": "dbf5595a-5395-425c-b811-c7d0b8a219a2",
   "metadata": {},
   "outputs": [
    {
     "name": "stdout",
     "output_type": "stream",
     "text": [
      "ello\n"
     ]
    }
   ],
   "source": [
    "file = open(\"PP.jpg\",\"rb\")\n",
    "data = file.read()\n",
    "pwd = data[-4:]\n",
    "print(pwd.decode())"
   ]
  },
  {
   "cell_type": "code",
   "execution_count": 40,
   "id": "e193ad55-465f-468a-aaf2-4300f4db0a06",
   "metadata": {},
   "outputs": [
    {
     "name": "stdout",
     "output_type": "stream",
     "text": [
      "\n",
      "this is india\n",
      "this is bharat\n"
     ]
    }
   ],
   "source": [
    "file = open(\"C:/Users/HP/Documents/msg.txt\",\"rt\")\n",
    "list_line = file.read()\n",
    "print(list_line)\n",
    "file.close()"
   ]
  },
  {
   "cell_type": "code",
   "execution_count": 42,
   "id": "80141c1d-b821-4fbf-a148-84db6390300a",
   "metadata": {},
   "outputs": [
    {
     "name": "stdout",
     "output_type": "stream",
     "text": [
      "\n",
      "this is india\n",
      "this is bharat\n",
      "bye\n"
     ]
    }
   ],
   "source": [
    "# with block\n",
    "with open (\"C:/Users/HP/Documents/msg.txt\",\"r\")as file:\n",
    "    text = file.read()\n",
    "    print(text)\n",
    "print(\"bye\")\n",
    "# file.seek(0)  # error\n"
   ]
  },
  {
   "cell_type": "code",
   "execution_count": null,
   "id": "b3f39382-508f-4367-92ed-460a0a40d908",
   "metadata": {},
   "outputs": [],
   "source": []
  }
 ],
 "metadata": {
  "kernelspec": {
   "display_name": "Python 3 (ipykernel)",
   "language": "python",
   "name": "python3"
  },
  "language_info": {
   "codemirror_mode": {
    "name": "ipython",
    "version": 3
   },
   "file_extension": ".py",
   "mimetype": "text/x-python",
   "name": "python",
   "nbconvert_exporter": "python",
   "pygments_lexer": "ipython3",
   "version": "3.9.13"
  }
 },
 "nbformat": 4,
 "nbformat_minor": 5
}
