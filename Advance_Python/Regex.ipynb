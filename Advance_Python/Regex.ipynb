{
 "cells": [
  {
   "cell_type": "markdown",
   "id": "bbd63020-d864-4047-9dc0-f6ec78e30988",
   "metadata": {},
   "source": [
    "#  Regular_Expression(Regex)\n",
    "- It is a technique that matches strings based on pattern\n",
    "- Python provides **standard module re** to work with regex"
   ]
  },
  {
   "cell_type": "code",
   "execution_count": 1,
   "id": "d3b90d66-f34b-4fa1-b3cb-bc9b33439a24",
   "metadata": {},
   "outputs": [],
   "source": [
    "import re"
   ]
  },
  {
   "cell_type": "code",
   "execution_count": 22,
   "id": "ccca676f-f281-4630-8f4d-0b7aec78244a",
   "metadata": {},
   "outputs": [
    {
     "name": "stdout",
     "output_type": "stream",
     "text": [
      "['is', 'id', 'it', 'ir', 'in', 'i ', 'i1', 'i@']\n",
      "______________________________________________\n",
      "['is', 'id', 'it', 'ir', 'in']\n",
      "______________________________________________\n",
      "['is', 'id', 'it', 'ir', 'in']\n",
      "______________________________________________\n",
      "['hon', 'fun', 'lan', 'gua', 'rea', 'ted', 'uid', 'sum', 'was', 'fir', 'rel', 'eas', 'tud', 'hon']\n",
      "______________________________________________\n",
      "['hon', 'fun', 'lan', 'gua', 'rea', 'ted', 'Gui', 'VAN', 'Ros', 'sum', 'was', 'fir', 'rel', 'eas', 'tud', 'hon']\n",
      "______________________________________________\n",
      "['hon', 'fun', 'lan', 'gua', 'rea', 'ted', 'Gui', 'Ros', 'sum', 'was', 'fir', 'rel', 'eas', 'tud', 'hon']\n",
      "______________________________________________\n",
      "['Pyt', 'n i', 's a', 'unn', 'y l', 'ang', 'age', 'cre', 'ate', 'd b', 'ido', 'oss', 't w', 's f', 'irs', 't r', 'ele', 'ase', 'd i', 'i s', 'udy', 'pyt']\n",
      "______________________________________________\n",
      "['Pytho', 'Guido', 'Rossu']\n",
      "______________________________________________\n",
      "['Python', 'Guido', 'Rossum']\n",
      "______________________________________________\n",
      "['Python', 'Guido', 'V', 'A', 'N', 'Rossum']\n",
      "______________________________________________\n",
      "['Py', 'Gu', 'V', 'A', 'N', 'Ro']\n",
      "______________________________________________\n",
      "['Pytho', 'Guido', 'Rossu']\n",
      "______________________________________________\n",
      "['Python', 'Guido', 'Rossum']\n",
      "______________________________________________\n",
      "['1', '9', '9', '1', '1', '0']\n",
      "______________________________________________\n",
      "['1991']\n",
      "______________________________________________\n",
      "['.', '.', '.', '.']\n",
      "______________________________________________\n",
      "['.', '.', '.', '.']\n",
      "______________________________________________\n"
     ]
    }
   ],
   "source": [
    "text = \"\"\" Python is a funny language created by Guido VAN Rossum.\n",
    "it was first released in 1991.\n",
    "i study python.\n",
    "i10,i@.\n",
    "\"\"\"\n",
    "\n",
    "# list = re.findall(\"pattern\",\"where\")\n",
    "list_matches = re.findall(\"i.\",text)\n",
    "print(list_matches)\n",
    "print(\"______________________________________________\")\n",
    "\n",
    "\n",
    "# []----Set of chars or range of char \n",
    "list_matches = re.findall(\"i[abcdefghijklmnopqrstuvwsyz]\",text)\n",
    "print(list_matches)\n",
    "print(\"______________________________________________\")\n",
    "\n",
    "\n",
    "\n",
    "# [a-z]----range of char \n",
    "list_matches = re.findall(\"i[a-z]\",text)\n",
    "print(list_matches)\n",
    "print(\"______________________________________________\")\n",
    "\n",
    "\n",
    "\n",
    "# []----Set of chars or range of char \n",
    "list_matches = re.findall(\"[a-z][aeiou][a-z]\",text)\n",
    "print(list_matches)\n",
    "print(\"______________________________________________\")\n",
    "\n",
    "\n",
    "\n",
    "# I-----ignore Case\n",
    "list_matches = re.findall(\"[a-z][aeiou][a-z]\",text,re.I)\n",
    "print(list_matches)\n",
    "print(\"______________________________________________\")\n",
    "\n",
    "\n",
    "\n",
    "# I-----ignore Case\n",
    "list_matches = re.findall(\"[a-zA-Z][aeiou][a-z]\",text)\n",
    "print(list_matches)\n",
    "print(\"______________________________________________\")\n",
    "\n",
    "\n",
    "\n",
    "# not volume char and all  ^ --exept\n",
    "list_matches = re.findall(\"[a-zA-Z][^aeiou][a-z]\",text)\n",
    "print(list_matches)\n",
    "print(\"______________________________________________\")\n",
    "\n",
    "\n",
    "\n",
    "# first upper char then all small char\n",
    "list_matches = re.findall(\"[A-Z][a-z][a-z][a-z][a-z]\",text)\n",
    "print(list_matches)\n",
    "print(\"______________________________________________\")\n",
    "\n",
    "\n",
    "# +(repetaion) -- one case is avilable \n",
    "list_matches = re.findall(\"[A-Z][a-z]+\",text)\n",
    "print(list_matches)\n",
    "print(\"______________________________________________\")\n",
    "\n",
    "# *(repetaion) --[O-N]\n",
    "list_matches = re.findall(\"[A-Z][a-z]*\",text)\n",
    "print(list_matches)\n",
    "print(\"______________________________________________\")\n",
    "\n",
    "\n",
    "# ?(Max one) --[O-1]\n",
    "list_matches = re.findall(\"[A-Z][a-z]?\",text)\n",
    "print(list_matches)\n",
    "print(\"______________________________________________\")\n",
    "\n",
    "\n",
    "# {}(eject 4 char only show) --[O-1]\n",
    "list_matches = re.findall(\"[A-Z][a-z]{4}\",text)\n",
    "print(list_matches)\n",
    "print(\"______________________________________________\")\n",
    "\n",
    "\n",
    "\n",
    "# {min,max}(eject 4 char only show) --[O-1]\n",
    "list_matches = re.findall(\"[A-Z][a-z]{4,7}\",text)\n",
    "print(list_matches)\n",
    "print(\"______________________________________________\")\n",
    "\n",
    "\n",
    "#  digit only\n",
    "list_matches = re.findall(\"[0-9]\",text)\n",
    "print(list_matches)\n",
    "print(\"______________________________________________\")\n",
    "\n",
    "\n",
    "\n",
    "\n",
    "\n",
    "# repeated 4 char\n",
    "list_matches = re.findall(\"[0-9]{4}\",text)\n",
    "print(list_matches)\n",
    "print(\"______________________________________________\")\n",
    "\n",
    "\n",
    "\n",
    "# find douts(.(---Anychar))\n",
    "list_matches = re.findall(\"\\.\",text)\n",
    "print(list_matches)\n",
    "print(\"______________________________________________\")\n",
    "\n",
    "\n",
    "\n",
    "# find douts(.(---samechar))\n",
    "list_matches = re.findall(\"[.]\",text)\n",
    "print(list_matches)\n",
    "print(\"______________________________________________\")\n",
    "\n",
    "\n",
    "\n",
    "\n",
    "\n",
    "\n",
    "\n"
   ]
  },
  {
   "cell_type": "markdown",
   "id": "9d7edba9-073a-46ff-a4de-20c6b859a7ad",
   "metadata": {},
   "source": [
    "# Meta char"
   ]
  },
  {
   "cell_type": "code",
   "execution_count": 24,
   "id": "5fe9ab0d-3d98-4f32-b835-ba56a2e0848f",
   "metadata": {},
   "outputs": [
    {
     "name": "stdout",
     "output_type": "stream",
     "text": [
      "['1', '9', '9', '1', '1', '0']\n",
      "______________________________________________\n",
      "['1991']\n",
      "______________________________________________\n",
      "[' ', 'P', 'y', 't', 'h', 'o', 'n', ' ', 'i', 's', ' ', 'a', ' ', 'f', 'u', 'n', 'n', 'y', ' ', 'l', 'a', 'n', 'g', 'u', 'a', 'g', 'e', ' ', 'c', 'r', 'e', 'a', 't', 'e', 'd', ' ', 'b', 'y', ' ', 'G', 'u', 'i', 'd', 'o', ' ', 'V', 'A', 'N', ' ', 'R', 'o', 's', 's', 'u', 'm', '.', '\\n', 'i', 't', ' ', 'w', 'a', 's', ' ', 'f', 'i', 'r', 's', 't', ' ', 'r', 'e', 'l', 'e', 'a', 's', 'e', 'd', ' ', 'i', 'n', ' ', '.', '\\n', 'i', ' ', 's', 't', 'u', 'd', 'y', ' ', 'p', 'y', 't', 'h', 'o', 'n', '.', '\\n', 'i', ',', 'i', '@', '.', '\\n']\n",
      "______________________________________________\n",
      "[' ', ' ', ' ', ' ', ' ', ' ', ' ', ' ', ' ', ' ', '\\n', ' ', ' ', ' ', ' ', ' ', '\\n', ' ', ' ', '\\n', '\\n']\n",
      "______________________________________________\n",
      "['P', 'y', 't', 'h', 'o', 'n', 'i', 's', 'a', 'f', 'u', 'n', 'n', 'y', 'l', 'a', 'n', 'g', 'u', 'a', 'g', 'e', 'c', 'r', 'e', 'a', 't', 'e', 'd', 'b', 'y', 'G', 'u', 'i', 'd', 'o', 'V', 'A', 'N', 'R', 'o', 's', 's', 'u', 'm', '.', 'i', 't', 'w', 'a', 's', 'f', 'i', 'r', 's', 't', 'r', 'e', 'l', 'e', 'a', 's', 'e', 'd', 'i', 'n', '1', '9', '9', '1', '.', 'i', 's', 't', 'u', 'd', 'y', 'p', 'y', 't', 'h', 'o', 'n', '.', 'i', '1', '0', ',', 'i', '@', '.']\n",
      "______________________________________________\n",
      "['P', 'y', 't', 'h', 'o', 'n', 'i', 's', 'a', 'f', 'u', 'n', 'n', 'y', 'l', 'a', 'n', 'g', 'u', 'a', 'g', 'e', 'c', 'r', 'e', 'a', 't', 'e', 'd', 'b', 'y', 'G', 'u', 'i', 'd', 'o', 'V', 'A', 'N', 'R', 'o', 's', 's', 'u', 'm', 'i', 't', 'w', 'a', 's', 'f', 'i', 'r', 's', 't', 'r', 'e', 'l', 'e', 'a', 's', 'e', 'd', 'i', 'n', '1', '9', '9', '1', 'i', 's', 't', 'u', 'd', 'y', 'p', 'y', 't', 'h', 'o', 'n', 'i', '1', '0', 'i']\n",
      "______________________________________________\n"
     ]
    }
   ],
   "source": [
    "# meta chars in regex\n",
    "text = \"\"\" Python is a funny language created by Guido VAN Rossum.\n",
    "it was first released in 1991.\n",
    "i study python.\n",
    "i10,i@.\n",
    "\"\"\"\n",
    "\n",
    "# list = re.findall(\"pattern\",\"where\")\n",
    "list_matches = re.findall(\"\\d\",text) # [0-9]\n",
    "print(list_matches)\n",
    "print(\"______________________________________________\")\n",
    "\n",
    "\n",
    "\n",
    "\n",
    "# list = re.findall(\"pattern\",\"where\")\n",
    "list_matches = re.findall(\"\\d{4}\",text) # [0-9]\n",
    "print(list_matches)\n",
    "print(\"______________________________________________\")\n",
    "\n",
    "\n",
    "\n",
    "# list = re.findall(\"pattern\",\"where\")\n",
    "list_matches = re.findall(\"\\D\",text) # [0-9]\n",
    "print(list_matches)\n",
    "print(\"______________________________________________\")\n",
    "\n",
    "\n",
    "\n",
    "# list = re.findall(\"pattern\",\"where\")\n",
    "list_matches = re.findall(\"\\s\",text) # whitespace chars[space\\t\\n]\n",
    "print(list_matches)\n",
    "print(\"______________________________________________\")\n",
    "\n",
    "\n",
    "# list = re.findall(\"pattern\",\"where\")\n",
    "list_matches = re.findall(\"\\S\",text) # [space\\t\\n]\n",
    "print(list_matches)\n",
    "print(\"______________________________________________\")\n",
    "\n",
    "\n",
    "# list = re.findall(\"pattern\",\"where\")\n",
    "list_matches = re.findall(\"\\w\",text) #word chars [a-zA-Z0-9]\n",
    "print(list_matches)\n",
    "print(\"______________________________________________\")\n"
   ]
  },
  {
   "cell_type": "code",
   "execution_count": 25,
   "id": "36c424e4-0f0a-4498-adaa-a229d6031d29",
   "metadata": {},
   "outputs": [
    {
     "ename": "FileNotFoundError",
     "evalue": "[Errno 2] No such file or directory: 'E:/data.txt'",
     "output_type": "error",
     "traceback": [
      "\u001b[1;31m---------------------------------------------------------------------------\u001b[0m",
      "\u001b[1;31mFileNotFoundError\u001b[0m                         Traceback (most recent call last)",
      "\u001b[1;32m~\\AppData\\Local\\Temp\\ipykernel_5964\\3756417353.py\u001b[0m in \u001b[0;36m<module>\u001b[1;34m\u001b[0m\n\u001b[1;32m----> 1\u001b[1;33m \u001b[0mfile\u001b[0m \u001b[1;33m=\u001b[0m \u001b[0mopen\u001b[0m\u001b[1;33m(\u001b[0m\u001b[1;34m\"E:/data.txt\"\u001b[0m\u001b[1;33m,\u001b[0m\u001b[1;34m\"r\"\u001b[0m\u001b[1;33m)\u001b[0m\u001b[1;33m\u001b[0m\u001b[1;33m\u001b[0m\u001b[0m\n\u001b[0m\u001b[0;32m      2\u001b[0m \u001b[0mtext\u001b[0m \u001b[1;33m=\u001b[0m \u001b[0mfile\u001b[0m\u001b[1;33m.\u001b[0m\u001b[0mread\u001b[0m\u001b[1;33m(\u001b[0m\u001b[1;33m)\u001b[0m\u001b[1;33m\u001b[0m\u001b[1;33m\u001b[0m\u001b[0m\n\u001b[0;32m      3\u001b[0m \u001b[0mfile\u001b[0m\u001b[1;33m.\u001b[0m\u001b[0mclose\u001b[0m\u001b[1;33m(\u001b[0m\u001b[1;33m)\u001b[0m\u001b[1;33m\u001b[0m\u001b[1;33m\u001b[0m\u001b[0m\n",
      "\u001b[1;31mFileNotFoundError\u001b[0m: [Errno 2] No such file or directory: 'E:/data.txt'"
     ]
    }
   ],
   "source": [
    "file = open(\"E:/data.txt\",\"r\")\n",
    "text = file.read()\n",
    "file.close()"
   ]
  },
  {
   "cell_type": "code",
   "execution_count": 26,
   "id": "1e4235ad-07b6-46fa-b4b2-ffe49d2286f9",
   "metadata": {},
   "outputs": [
    {
     "ename": "AttributeError",
     "evalue": "module 're' has no attribute 'finall'",
     "output_type": "error",
     "traceback": [
      "\u001b[1;31m---------------------------------------------------------------------------\u001b[0m",
      "\u001b[1;31mAttributeError\u001b[0m                            Traceback (most recent call last)",
      "\u001b[1;32m~\\AppData\\Local\\Temp\\ipykernel_5964\\3756613321.py\u001b[0m in \u001b[0;36m<module>\u001b[1;34m\u001b[0m\n\u001b[1;32m----> 1\u001b[1;33m \u001b[0mlist_matches\u001b[0m \u001b[1;33m=\u001b[0m \u001b[0mre\u001b[0m\u001b[1;33m.\u001b[0m\u001b[0mfinall\u001b[0m\u001b[1;33m(\u001b[0m\u001b[1;34m\"[6-9]\\d{9}\"\u001b[0m\u001b[1;33m,\u001b[0m\u001b[0mtext\u001b[0m\u001b[1;33m)\u001b[0m\u001b[1;33m\u001b[0m\u001b[1;33m\u001b[0m\u001b[0m\n\u001b[0m\u001b[0;32m      2\u001b[0m \u001b[1;32mfor\u001b[0m \u001b[0mmob\u001b[0m \u001b[1;32min\u001b[0m \u001b[0mlist_matches\u001b[0m\u001b[1;33m:\u001b[0m\u001b[1;33m\u001b[0m\u001b[1;33m\u001b[0m\u001b[0m\n\u001b[0;32m      3\u001b[0m     \u001b[0mprint\u001b[0m\u001b[1;33m(\u001b[0m\u001b[0mmob\u001b[0m\u001b[1;33m)\u001b[0m\u001b[1;33m\u001b[0m\u001b[1;33m\u001b[0m\u001b[0m\n",
      "\u001b[1;31mAttributeError\u001b[0m: module 're' has no attribute 'finall'"
     ]
    }
   ],
   "source": [
    "list_matches = re.finall(\"[6-9]\\d{9}\",text)\n",
    "for mob in list_matches:\n",
    "    print(mob)"
   ]
  },
  {
   "cell_type": "code",
   "execution_count": 27,
   "id": "a531152d-da88-4929-9483-f3abfe4bf463",
   "metadata": {},
   "outputs": [
    {
     "ename": "AttributeError",
     "evalue": "module 're' has no attribute 'finall'",
     "output_type": "error",
     "traceback": [
      "\u001b[1;31m---------------------------------------------------------------------------\u001b[0m",
      "\u001b[1;31mAttributeError\u001b[0m                            Traceback (most recent call last)",
      "\u001b[1;32m~\\AppData\\Local\\Temp\\ipykernel_5964\\3673624282.py\u001b[0m in \u001b[0;36m<module>\u001b[1;34m\u001b[0m\n\u001b[0;32m      1\u001b[0m \u001b[0mfile\u001b[0m \u001b[1;33m=\u001b[0m \u001b[0mopen\u001b[0m\u001b[1;33m(\u001b[0m\u001b[1;34m\"mob.txt\"\u001b[0m\u001b[1;33m,\u001b[0m\u001b[1;34m\"w\"\u001b[0m\u001b[1;33m)\u001b[0m\u001b[1;33m\u001b[0m\u001b[1;33m\u001b[0m\u001b[0m\n\u001b[1;32m----> 2\u001b[1;33m \u001b[0mlist_matches\u001b[0m \u001b[1;33m=\u001b[0m \u001b[0mre\u001b[0m\u001b[1;33m.\u001b[0m\u001b[0mfinall\u001b[0m\u001b[1;33m(\u001b[0m\u001b[1;34m\"[6-9]\\d{9}\"\u001b[0m\u001b[1;33m,\u001b[0m\u001b[0mtext\u001b[0m\u001b[1;33m)\u001b[0m\u001b[1;33m\u001b[0m\u001b[1;33m\u001b[0m\u001b[0m\n\u001b[0m\u001b[0;32m      3\u001b[0m \u001b[1;32mfor\u001b[0m \u001b[0mmob\u001b[0m \u001b[1;32min\u001b[0m \u001b[0mlist_matches\u001b[0m\u001b[1;33m:\u001b[0m\u001b[1;33m\u001b[0m\u001b[1;33m\u001b[0m\u001b[0m\n\u001b[0;32m      4\u001b[0m     \u001b[0mfile\u001b[0m\u001b[1;33m.\u001b[0m\u001b[0mwrite\u001b[0m\u001b[1;33m(\u001b[0m\u001b[0mmob\u001b[0m\u001b[1;33m)\u001b[0m\u001b[1;33m\u001b[0m\u001b[1;33m\u001b[0m\u001b[0m\n\u001b[0;32m      5\u001b[0m \u001b[0mfile\u001b[0m\u001b[1;33m.\u001b[0m\u001b[0mclose\u001b[0m\u001b[1;33m(\u001b[0m\u001b[1;33m)\u001b[0m\u001b[1;33m\u001b[0m\u001b[1;33m\u001b[0m\u001b[0m\n",
      "\u001b[1;31mAttributeError\u001b[0m: module 're' has no attribute 'finall'"
     ]
    }
   ],
   "source": [
    "file = open(\"mob.txt\",\"w\")\n",
    "list_matches = re.finall(\"[6-9]\\d{9}\",text)\n",
    "for mob in list_matches:\n",
    "    file.write(mob)\n",
    "    file.write(\"\\n\")\n",
    "file.close()"
   ]
  },
  {
   "cell_type": "code",
   "execution_count": 28,
   "id": "f9dd788d-da6c-41f2-907b-220acec3e6cf",
   "metadata": {},
   "outputs": [
    {
     "ename": "AttributeError",
     "evalue": "module 're' has no attribute 'finall'",
     "output_type": "error",
     "traceback": [
      "\u001b[1;31m---------------------------------------------------------------------------\u001b[0m",
      "\u001b[1;31mAttributeError\u001b[0m                            Traceback (most recent call last)",
      "\u001b[1;32m~\\AppData\\Local\\Temp\\ipykernel_5964\\1684432065.py\u001b[0m in \u001b[0;36m<module>\u001b[1;34m\u001b[0m\n\u001b[0;32m      1\u001b[0m \u001b[0mfile\u001b[0m \u001b[1;33m=\u001b[0m \u001b[0mopen\u001b[0m\u001b[1;33m(\u001b[0m\u001b[1;34m\"email.txt\"\u001b[0m\u001b[1;33m,\u001b[0m\u001b[1;34m\"w\"\u001b[0m\u001b[1;33m)\u001b[0m\u001b[1;33m\u001b[0m\u001b[1;33m\u001b[0m\u001b[0m\n\u001b[1;32m----> 2\u001b[1;33m \u001b[0mlist_matches\u001b[0m \u001b[1;33m=\u001b[0m \u001b[0mre\u001b[0m\u001b[1;33m.\u001b[0m\u001b[0mfinall\u001b[0m\u001b[1;33m(\u001b[0m\u001b[1;34m\"\\w+@[a-z]+[.][a-z]+\"\u001b[0m\u001b[1;33m,\u001b[0m\u001b[0mtext\u001b[0m\u001b[1;33m)\u001b[0m\u001b[1;33m\u001b[0m\u001b[1;33m\u001b[0m\u001b[0m\n\u001b[0m\u001b[0;32m      3\u001b[0m \u001b[0mprint\u001b[0m\u001b[1;33m(\u001b[0m\u001b[0mlen\u001b[0m\u001b[1;33m(\u001b[0m\u001b[0mlist_matches\u001b[0m\u001b[1;33m)\u001b[0m\u001b[1;33m)\u001b[0m\u001b[1;33m\u001b[0m\u001b[1;33m\u001b[0m\u001b[0m\n\u001b[0;32m      4\u001b[0m \u001b[1;32mfor\u001b[0m \u001b[0memail\u001b[0m \u001b[1;32min\u001b[0m \u001b[0mlist_matches\u001b[0m\u001b[1;33m:\u001b[0m\u001b[1;33m\u001b[0m\u001b[1;33m\u001b[0m\u001b[0m\n\u001b[0;32m      5\u001b[0m     \u001b[0mfile\u001b[0m\u001b[1;33m.\u001b[0m\u001b[0mwrite\u001b[0m\u001b[1;33m(\u001b[0m\u001b[0memail\u001b[0m\u001b[1;33m)\u001b[0m\u001b[1;33m\u001b[0m\u001b[1;33m\u001b[0m\u001b[0m\n",
      "\u001b[1;31mAttributeError\u001b[0m: module 're' has no attribute 'finall'"
     ]
    }
   ],
   "source": [
    "file = open(\"email.txt\",\"w\")\n",
    "list_matches = re.finall(\"\\w+@[a-z]+[.][a-z]+\",text)\n",
    "print(len(list_matches))\n",
    "for email in list_matches:\n",
    "    file.write(email)\n",
    "    file.write(\"\\n\")\n",
    "file.close()"
   ]
  },
  {
   "cell_type": "code",
   "execution_count": null,
   "id": "039df449-a95b-491e-84f4-671a7dfb405c",
   "metadata": {},
   "outputs": [],
   "source": [
    "2222222222\n"
   ]
  },
  {
   "cell_type": "code",
   "execution_count": null,
   "id": "70578393-eb9a-42ad-aa80-41ed73e7e924",
   "metadata": {},
   "outputs": [],
   "source": []
  }
 ],
 "metadata": {
  "kernelspec": {
   "display_name": "Python 3 (ipykernel)",
   "language": "python",
   "name": "python3"
  },
  "language_info": {
   "codemirror_mode": {
    "name": "ipython",
    "version": 3
   },
   "file_extension": ".py",
   "mimetype": "text/x-python",
   "name": "python",
   "nbconvert_exporter": "python",
   "pygments_lexer": "ipython3",
   "version": "3.9.13"
  }
 },
 "nbformat": 4,
 "nbformat_minor": 5
}
