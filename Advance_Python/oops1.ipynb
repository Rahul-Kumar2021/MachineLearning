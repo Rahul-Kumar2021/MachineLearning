{
 "cells": [
  {
   "cell_type": "code",
   "execution_count": 4,
   "id": "189d7187-6ba9-412c-bf00-11719087ac34",
   "metadata": {
    "tags": []
   },
   "outputs": [
    {
     "name": "stdout",
     "output_type": "stream",
     "text": [
      "[1, 4, 9, 16, 25]\n",
      "[1, 8, 27, 64, 125]\n"
     ]
    }
   ],
   "source": [
    "x=[1,2,3,4,5]\n",
    "print(list(map(lambda num:num**2,x)))\n",
    "print(list(map(lambda num:num**3,x)))"
   ]
  },
  {
   "cell_type": "code",
   "execution_count": 2,
   "id": "d0a70198-499a-4c7b-9f16-59f4af125b2d",
   "metadata": {
    "tags": []
   },
   "outputs": [
    {
     "name": "stdout",
     "output_type": "stream",
     "text": [
      "[1, 4, 9, 16, 25]\n"
     ]
    }
   ],
   "source": [
    "x=[1,2,3,4,5]\n",
    "def sqr(num):\n",
    "    return num**2\n",
    "\n",
    "print(list(map(sqr,x)))"
   ]
  },
  {
   "cell_type": "code",
   "execution_count": 3,
   "id": "9bc39feb-87c5-4615-ad86-71b087ec7993",
   "metadata": {
    "tags": []
   },
   "outputs": [
    {
     "name": "stdout",
     "output_type": "stream",
     "text": [
      "81\n"
     ]
    }
   ],
   "source": [
    "print(sqr(9))"
   ]
  },
  {
   "cell_type": "code",
   "execution_count": null,
   "id": "00825091-fe1f-4ab9-afcb-6dab67faacbd",
   "metadata": {},
   "outputs": [],
   "source": [
    "#High Order Fun-->fun that takes or returns a fun"
   ]
  },
  {
   "cell_type": "markdown",
   "id": "5cd7145c-f163-429c-b81b-ba693451824c",
   "metadata": {},
   "source": [
    "## Object Oriented Programming Structure(OOPS)\n",
    "- it is a technique that automate real world entities easily.\n",
    "- there are following concepts in OOPS\n",
    "    - Object\n",
    "    - Class\n",
    "    - Inheritance\n",
    "    - Encapsulation\n",
    "    - Polymorphism\n",
    "    - Abstractions\n",
    "    - etc.\n",
    "    \n",
    "- Simula was the first language to implement above concepts after that we have list of languages:\n",
    "    - Smalltak\n",
    "    - C++\n",
    "    - Python\n",
    "    - Java\n",
    "    - C#\n",
    "    - Kotlin\n",
    "    - etc.\n",
    "    "
   ]
  },
  {
   "cell_type": "markdown",
   "id": "fa4cd3b8-6ca4-463d-baeb-7598fdfad4c3",
   "metadata": {},
   "source": [
    "### Object \n",
    "- Any real world entity(physical/logical) having properties(data members) and behaviours(methods).\n",
    "\n",
    "- **from memory point of view**,object is allocated dynamically.means size of object is not standard.\n",
    "\n",
    "- **from coding point of view**,it is an instance of a class"
   ]
  },
  {
   "cell_type": "markdown",
   "id": "d8e4fbf8-f26f-44a0-a3ce-ceb6985570d6",
   "metadata": {
    "tags": []
   },
   "source": [
    "### Class\n",
    "- A class is a blueprint/template/drawing/design for creating similar instances.\n",
    "- A class represents a datatype in python."
   ]
  },
  {
   "cell_type": "code",
   "execution_count": 7,
   "id": "53798feb-1b76-4477-a45b-b1c39258998d",
   "metadata": {
    "tags": []
   },
   "outputs": [
    {
     "name": "stdout",
     "output_type": "stream",
     "text": [
      "<class 'int'>\n",
      "<class 'list'>\n"
     ]
    }
   ],
   "source": [
    "x=10\n",
    "print(type(x))\n",
    "\n",
    "x=[]\n",
    "print(type(x))"
   ]
  },
  {
   "cell_type": "code",
   "execution_count": null,
   "id": "40f1a34c-aa9f-43dd-8694-42feed06cb39",
   "metadata": {},
   "outputs": [],
   "source": [
    "Syntax to create Python class:\n",
    "------------------------------\n",
    "    class classname:\n",
    "        stmts\n",
    "        \n",
    "Syntax to create Python object:\n",
    "------------------------------\n",
    "    refvar=classname()\n",
    "    refvar=value\n",
    "        "
   ]
  }
 ],
 "metadata": {
  "kernelspec": {
   "display_name": "Python 3 (ipykernel)",
   "language": "python",
   "name": "python3"
  },
  "language_info": {
   "codemirror_mode": {
    "name": "ipython",
    "version": 3
   },
   "file_extension": ".py",
   "mimetype": "text/x-python",
   "name": "python",
   "nbconvert_exporter": "python",
   "pygments_lexer": "ipython3",
   "version": "3.9.13"
  }
 },
 "nbformat": 4,
 "nbformat_minor": 5
}
