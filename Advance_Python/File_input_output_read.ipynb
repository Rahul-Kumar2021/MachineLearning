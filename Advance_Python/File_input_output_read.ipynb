{
 "cells": [
  {
   "cell_type": "markdown",
   "id": "2a773c2f-af5d-4771-b5d5-70c85cc8e0fc",
   "metadata": {},
   "source": [
    "# Welcome to Advance Python Program\n",
    "--------------------------------------------------------------------------------"
   ]
  },
  {
   "cell_type": "markdown",
   "id": "793cad26-1f12-40da-ac4c-8bdd455cb4a5",
   "metadata": {},
   "source": [
    "## ----------------------------  File I/O ----------------------------------"
   ]
  },
  {
   "cell_type": "markdown",
   "id": "72fd3139-df4a-4dc1-9a6f-e2e86f0c94e0",
   "metadata": {},
   "source": [
    " python program <--------------------------------------> File\n",
    "                                        read/write\n",
    "                                        \n",
    "                                        \n",
    " python program <--------------------------------------> File File(Contains only **characters(letters,digits,symbols,space,\\t,\\n,other unicode chars))\n",
    "                                        read/write                          "
   ]
  },
  {
   "cell_type": "raw",
   "id": "6174a341-80a6-4b77-a943-80434709316f",
   "metadata": {},
   "source": [
    "Syntax\n",
    "open(path,mode,encoding)"
   ]
  },
  {
   "cell_type": "markdown",
   "id": "5b57a73d-e261-45df-9cf6-b0b628084ef5",
   "metadata": {},
   "source": [
    "# Read Method"
   ]
  },
  {
   "cell_type": "code",
   "execution_count": 11,
   "id": "529762c1-703a-42dc-a463-b98a5d642fa8",
   "metadata": {},
   "outputs": [
    {
     "name": "stdout",
     "output_type": "stream",
     "text": [
      "0\n",
      "Pyth\n",
      "4\n",
      "on \n",
      "7\n"
     ]
    }
   ],
   "source": [
    "file = open(\"C:/Users/HP/Documents/msg.txt\",\"r\")\n",
    "print(file.tell())\n",
    "\n",
    "\n",
    "text = file.read(4)\n",
    "print(text)\n",
    "\n",
    "print(file.tell())\n",
    "text = file.read(3)\n",
    "print(text)\n",
    "\n",
    "print(file.tell())\n",
    "file.close()"
   ]
  },
  {
   "cell_type": "code",
   "execution_count": 16,
   "id": "150e4d49-09a3-4cf2-af4d-18d88f36eba4",
   "metadata": {},
   "outputs": [
    {
     "name": "stdout",
     "output_type": "stream",
     "text": [
      "Python was\n",
      " first released in 1991\n",
      "it is east to learn\n",
      "by\n",
      "\n"
     ]
    }
   ],
   "source": [
    "file = open(\"C:/Users/HP/Documents/msg.txt\",\"r\")\n",
    "text = file.read(10)\n",
    "print(text)\n",
    "text=file.read(-1)\n",
    "print(text)\n",
    "text = file.read(5)\n",
    "print(text)"
   ]
  },
  {
   "cell_type": "code",
   "execution_count": 17,
   "id": "9b7fe075-f470-42aa-8371-3f2039603084",
   "metadata": {},
   "outputs": [],
   "source": [
    "file.close()"
   ]
  },
  {
   "cell_type": "code",
   "execution_count": 20,
   "id": "5743ee9e-d6b3-4553-bfdd-06b7c4dc6fc9",
   "metadata": {},
   "outputs": [
    {
     "name": "stdout",
     "output_type": "stream",
     "text": [
      "Python was first released in 1991\n",
      "it is east to learn\n",
      "by\n"
     ]
    }
   ],
   "source": [
    "file = open(\"C:/Users/HP/Documents/msg.txt\",\"r\")\n",
    "text = file.read()\n",
    "print(text)\n",
    "file.close()"
   ]
  },
  {
   "cell_type": "code",
   "execution_count": 22,
   "id": "90ba5a0c-0874-448a-8e5b-08f80bab8875",
   "metadata": {},
   "outputs": [
    {
     "name": "stdout",
     "output_type": "stream",
     "text": [
      " firs\n"
     ]
    }
   ],
   "source": [
    "file = open(\"C:/Users/HP/Documents/msg.txt\",\"r\")\n",
    "file.seek(10)\n",
    "text = file.read(5)\n",
    "print(text)"
   ]
  },
  {
   "cell_type": "markdown",
   "id": "43a6aad6-f973-4323-81f7-21dc3a687096",
   "metadata": {},
   "source": [
    "# Readline Method"
   ]
  },
  {
   "cell_type": "code",
   "execution_count": 30,
   "id": "7d590577-358c-4c93-946c-f3eaf61b8f4b",
   "metadata": {},
   "outputs": [
    {
     "name": "stdout",
     "output_type": "stream",
     "text": [
      "Python was first released in 1991\n",
      "\n",
      "it is\n",
      " east to learn\n",
      "\n"
     ]
    }
   ],
   "source": [
    "file = open(\"C:/Users/HP/Documents/msg.txt\",\"r\")\n",
    "text_line = file.readline()\n",
    "print(text_line)\n",
    "\n",
    "\n",
    "text = file.read(5)\n",
    "print(text)\n",
    "\n",
    "text_line = file.readline()\n",
    "print(text_line)\n",
    "\n",
    "file.close()"
   ]
  },
  {
   "cell_type": "markdown",
   "id": "1eda2112-9f3d-4983-8f38-af681b74ba20",
   "metadata": {},
   "source": [
    "# Readlines()"
   ]
  },
  {
   "cell_type": "code",
   "execution_count": 31,
   "id": "fe3941e4-c662-4053-8394-a872cfdea8a7",
   "metadata": {},
   "outputs": [
    {
     "name": "stdout",
     "output_type": "stream",
     "text": [
      "['Python was first released in 1991\\n', 'it is east to learn\\n', 'by']\n"
     ]
    }
   ],
   "source": [
    "file = open(\"C:/Users/HP/Documents/msg.txt\",\"r\")\n",
    "list_line = file.readlines()\n",
    "print(list_line)\n",
    "file.close()"
   ]
  },
  {
   "cell_type": "code",
   "execution_count": 33,
   "id": "e92d6a18-0009-4d79-a59e-52cee5773b17",
   "metadata": {},
   "outputs": [
    {
     "name": "stdout",
     "output_type": "stream",
     "text": [
      "Python was first released in 1991\n",
      "it is east to learn\n",
      "by"
     ]
    }
   ],
   "source": [
    "file = open(\"C:/Users/HP/Documents/msg.txt\",\"r\")\n",
    "for line in file:\n",
    "    print(line,end=\"\")\n",
    "    \n",
    "file.close()\n",
    "    "
   ]
  },
  {
   "cell_type": "code",
   "execution_count": null,
   "id": "05b17378-dcd3-4a50-8dab-a1ac4a922259",
   "metadata": {},
   "outputs": [],
   "source": []
  }
 ],
 "metadata": {
  "kernelspec": {
   "display_name": "Python 3 (ipykernel)",
   "language": "python",
   "name": "python3"
  },
  "language_info": {
   "codemirror_mode": {
    "name": "ipython",
    "version": 3
   },
   "file_extension": ".py",
   "mimetype": "text/x-python",
   "name": "python",
   "nbconvert_exporter": "python",
   "pygments_lexer": "ipython3",
   "version": "3.9.13"
  }
 },
 "nbformat": 4,
 "nbformat_minor": 5
}
