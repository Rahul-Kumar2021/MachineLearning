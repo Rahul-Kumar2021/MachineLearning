{
 "cells": [
  {
   "cell_type": "markdown",
   "id": "bbd63020-d864-4047-9dc0-f6ec78e30988",
   "metadata": {},
   "source": [
    "#  Regular_Expression(Regex)\n",
    "- It is a technique that matches strings based on pattern\n",
    "- Python provides **standard module re** to work with regex"
   ]
  },
  {
   "cell_type": "code",
   "execution_count": 34,
   "id": "d3b90d66-f34b-4fa1-b3cb-bc9b33439a24",
   "metadata": {},
   "outputs": [],
   "source": [
    "import re"
   ]
  },
  {
   "cell_type": "code",
   "execution_count": 35,
   "id": "ccca676f-f281-4630-8f4d-0b7aec78244a",
   "metadata": {},
   "outputs": [
    {
     "name": "stdout",
     "output_type": "stream",
     "text": [
      "<callable_iterator object at 0x0000023C3E14D9D0>\n",
      "is 8 10 (8, 10)\n",
      "id 41 43 (41, 43)\n",
      "it 57 59 (57, 59)\n",
      "ir 65 67 (65, 67)\n",
      "in 79 81 (79, 81)\n",
      "i  88 90 (88, 90)\n",
      "i1 104 106 (104, 106)\n",
      "i@ 108 110 (108, 110)\n",
      "______________________________________________\n"
     ]
    }
   ],
   "source": [
    "text = \"\"\" Python is a funny language created by Guido VAN Rossum.\n",
    "it was first released in 1991.\n",
    "i study python.\n",
    "i10,i@.\n",
    "\"\"\"\n",
    "\n",
    "# list = re.finditer(\"pattern\",\"where\")\n",
    "itr_matches = re.finditer(\"i.\",text)\n",
    "print(itr_matches)\n",
    "\n",
    "for match in itr_matches:\n",
    "    #print(match)\n",
    "    print(match.group(),match.start(),match.end(),match.span())\n",
    "print(\"______________________________________________\")\n",
    "\n"
   ]
  },
  {
   "cell_type": "markdown",
   "id": "961dd341-e0cd-420d-bf69-2d83a70f7324",
   "metadata": {},
   "source": [
    "**re.findall()**\n",
    "- Returns a list of match where each match is of type str.\n",
    "- We can not get position of matches.\n",
    "\n",
    "**re.finditer()** \n",
    "- Returns a iterator of match where each match is of type match.\n",
    "- We can get position of matches."
   ]
  },
  {
   "cell_type": "code",
   "execution_count": 36,
   "id": "70578393-eb9a-42ad-aa80-41ed73e7e924",
   "metadata": {},
   "outputs": [
    {
     "name": "stdout",
     "output_type": "stream",
     "text": [
      "<re.Match object; span=(8, 10), match='is'>\n"
     ]
    }
   ],
   "source": [
    "match=re.search(\"i.\",text) # returns first match only as match type\n",
    "print(match)"
   ]
  },
  {
   "cell_type": "code",
   "execution_count": 38,
   "id": "31b46c8e-39ab-470c-b107-3fb15227ffa7",
   "metadata": {},
   "outputs": [
    {
     "name": "stdin",
     "output_type": "stream",
     "text": [
      "Enter mob num : 785458323\n"
     ]
    },
    {
     "name": "stdout",
     "output_type": "stream",
     "text": [
      "invalid\n"
     ]
    }
   ],
   "source": [
    "mob = input(\"Enter mob num :\")\n",
    "match= re.search(\"[6-9]\\d{9}\",mob)\n",
    "#print(match)\n",
    "if(match == None):\n",
    "    print(\"invalid\")\n",
    "else:\n",
    "    print(\"valid\")"
   ]
  },
  {
   "cell_type": "code",
   "execution_count": 39,
   "id": "44643f79-f7dc-4e51-8655-9f1d20480d11",
   "metadata": {},
   "outputs": [
    {
     "name": "stdin",
     "output_type": "stream",
     "text": [
      "Enter mob num : 65645466\n"
     ]
    },
    {
     "name": "stdout",
     "output_type": "stream",
     "text": [
      "invalid\n"
     ]
    }
   ],
   "source": [
    "mob = input(\"Enter mob num :\")\n",
    "match= re.match(\"[6-9]\\d{9}\",mob)# returns first match if found at 0 index\n",
    "#print(match)\n",
    "if(match == None):\n",
    "    print(\"invalid\")\n",
    "else:\n",
    "    print(\"valid\")"
   ]
  },
  {
   "cell_type": "code",
   "execution_count": 40,
   "id": "abbdedcd-5912-466e-9a1f-793e68d2ae55",
   "metadata": {},
   "outputs": [
    {
     "name": "stdin",
     "output_type": "stream",
     "text": [
      "Enter mob num : 67465667756\n"
     ]
    },
    {
     "name": "stdout",
     "output_type": "stream",
     "text": [
      "invalid\n"
     ]
    }
   ],
   "source": [
    "mob = input(\"Enter mob num :\")\n",
    "match= re.fullmatch(\"[6-9]\\d{9}\",mob)# returns a match if found in compelete str\n",
    "#print(match)\n",
    "if(match == None):\n",
    "    print(\"invalid\")\n",
    "else:\n",
    "    print(\"valid\")"
   ]
  },
  {
   "cell_type": "code",
   "execution_count": 41,
   "id": "9b918571-3e2e-4f95-b44a-db6350852041",
   "metadata": {},
   "outputs": [
    {
     "name": "stdout",
     "output_type": "stream",
     "text": [
      "None\n"
     ]
    }
   ],
   "source": [
    "match = re.match(\"i[r]\",\"abcde\")\n",
    "print(match)"
   ]
  },
  {
   "cell_type": "markdown",
   "id": "6bcb7588-4e66-4ef3-8b9a-a68baae02ac8",
   "metadata": {},
   "source": [
    "# Text Cleaning"
   ]
  },
  {
   "cell_type": "code",
   "execution_count": 42,
   "id": "acdea303-5662-428f-b527-b01a32bc32ea",
   "metadata": {},
   "outputs": [
    {
     "data": {
      "text/plain": [
       "'rshul ku@mar_'"
      ]
     },
     "execution_count": 42,
     "metadata": {},
     "output_type": "execute_result"
    }
   ],
   "source": [
    "s = \"rs$hul ku@mar_\"\n",
    "s.replace('$','')"
   ]
  },
  {
   "cell_type": "code",
   "execution_count": 43,
   "id": "405ec009-6d3e-47a2-a9d3-8e642c7223a6",
   "metadata": {},
   "outputs": [
    {
     "name": "stdout",
     "output_type": "stream",
     "text": [
      "rs$hul ku@mar_\n",
      "rshul kumar\n"
     ]
    }
   ],
   "source": [
    "# sub() - subtitue\n",
    "s2 = re.sub('[^a-zA-Z ]','',s)\n",
    "print(s)\n",
    "print(s2)\n"
   ]
  },
  {
   "cell_type": "code",
   "execution_count": 44,
   "id": "6a201f81-7b13-444d-b523-ca22b9eca907",
   "metadata": {},
   "outputs": [
    {
     "name": "stdout",
     "output_type": "stream",
     "text": [
      "abcde\n"
     ]
    }
   ],
   "source": [
    "s3 = \"ab_c d$e%\"\n",
    "s4 = \"c_a^hj$#r\"\n",
    "res = re.sub(\"[^a-z]\",'',s3)\n",
    "print(res)"
   ]
  },
  {
   "cell_type": "code",
   "execution_count": 45,
   "id": "b7f23b60-26dc-4f87-afaf-21f6bb0d6faf",
   "metadata": {},
   "outputs": [
    {
     "name": "stdout",
     "output_type": "stream",
     "text": [
      "abcde\n"
     ]
    }
   ],
   "source": [
    "compiled_p = re.compile(\"[^a-z]\")\n",
    "print(compiled_p.sub('',s1))"
   ]
  },
  {
   "cell_type": "code",
   "execution_count": 46,
   "id": "89181987-2d99-4335-945d-fe41688520a0",
   "metadata": {},
   "outputs": [
    {
     "name": "stdout",
     "output_type": "stream",
     "text": [
      "('rshul kumar', 3)\n"
     ]
    }
   ],
   "source": [
    "tup = re.subn('[^a-zA-Z ]','',s)\n",
    "print(tup)"
   ]
  },
  {
   "cell_type": "code",
   "execution_count": null,
   "id": "79a35f28-4a77-4ed3-86d6-20c7efd3ee54",
   "metadata": {},
   "outputs": [],
   "source": []
  }
 ],
 "metadata": {
  "kernelspec": {
   "display_name": "Python 3 (ipykernel)",
   "language": "python",
   "name": "python3"
  },
  "language_info": {
   "codemirror_mode": {
    "name": "ipython",
    "version": 3
   },
   "file_extension": ".py",
   "mimetype": "text/x-python",
   "name": "python",
   "nbconvert_exporter": "python",
   "pygments_lexer": "ipython3",
   "version": "3.9.13"
  }
 },
 "nbformat": 4,
 "nbformat_minor": 5
}
