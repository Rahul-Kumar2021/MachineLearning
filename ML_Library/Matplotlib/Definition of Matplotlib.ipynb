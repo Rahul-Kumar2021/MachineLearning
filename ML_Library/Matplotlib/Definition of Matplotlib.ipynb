{
 "cells": [
  {
   "cell_type": "markdown",
   "id": "af3f9312",
   "metadata": {},
   "source": [
    "# Matplotlib"
   ]
  },
  {
   "cell_type": "raw",
   "id": "fd7fb1c9",
   "metadata": {},
   "source": [
    "WD 10 AM Statistics\n",
    "Material details\n",
    "18_July(Line_chart_2,bar_chart)\n",
    "\n",
    "\n",
    "18_july.pdf\n",
    "PDF\n",
    "\n",
    "18_july.ipynb\n",
    "Binary File\n",
    "\n",
    "color_abb.txt\n",
    "Text\n",
    "\n",
    "linestyle.txt\n",
    "Text\n",
    "\n",
    "marker.txt\n",
    "Text\n",
    "\n",
    "matplot.txt\n",
    "Text\n",
    "Class comments\n",
    "\n",
    "Add class comment…\n",
    "\n",
    "Matplotlib:\n",
    "-----------\n",
    ">it is a data visualization package in python ,introduced in 2003.\n",
    ">we may plot different graphs like scatter,line,bar,histogram,pie etc.\n",
    ">pyplot is a module of matplotlib package.\n",
    ">matplot.pyplot modules contains set of functions to plot different types of graphs.\n",
    "\n",
    "\n",
    "plt.plot():\n",
    "-----------\n",
    "x=[]\n",
    "y=[]\n",
    "color='b'\n",
    "linestyle='--'\n",
    "marker='o'\n",
    "markerfacecolor='red'\n",
    "markersize=12\n",
    "markeredgecolor='k'\n",
    "markeredgewidth=2,\n",
    "linewidth=3\n",
    "\n",
    "overs=[0,5,10,15,20]\n",
    "r1=[0,40,70,120,180]\n",
    "r2=[0,50,67,100,130]\n",
    "plt.plot(overs,r1,'b-',overs,r2,'y-')\n",
    "plt.xlabel('Overs',fontdict={'size':30,'c':'b'})\n",
    "plt.ylabel('runs')\n",
    "plt.legend(['India','Aus'])\n",
    "plt.grid(color='grey',linestyle='-',linewidth=1)\n",
    "plt.axis([0,20,0,200])\n",
    "plt.show()\n",
    "\n",
    "\n",
    "plt.scatter():\n",
    "-------------\n",
    "x=[]\n",
    "y=[]\n",
    "c='r' or sequence\n",
    "marker='s',\n",
    "s=200,\n",
    "edgecolor='k',\n",
    "linewidth=2\n",
    "\n",
    "\n",
    "\n",
    "plt.hist():\n",
    "----------\n",
    "x=[]\n",
    "bins=int(no of bins) or sequence of int([0,10,20,30,,,,,])\n",
    "edgecolor='k'\n",
    "\n",
    "plt.bar()\n",
    "----------\n",
    "x=['male','female']\n",
    "height=[20,8]\n",
    "width=.8(default)\n",
    "color=['g','b'],\n",
    "linewidth=1,\n",
    "edgecolor='k'\n",
    "plt.text(2,6,'Python',color='green',size=20)\n",
    "\n",
    "plt.pie():\n",
    "----------\n",
    "x=[10,11,8],\n",
    "labels=['A','B','C'],\n",
    "startangle=90\n",
    "explode=(.1,0,0)\n",
    "autopct='%.2f',\n",
    "wedgeprops={'linewidth':1,'edgecolor':'k'}\n",
    "\n",
    "\n",
    "\n",
    "Multiple graph in a figure:\n",
    "---------------------------\n",
    "\n",
    "plt.figure(figsize=(8,4))\n",
    "\n",
    "plt.subplot(2,2,1)\n",
    "plt.plot([1,2],[1,2])\n",
    "\n",
    "plt.subplot(2,2,2)\n",
    "plt.plot([1,2],[1,2],c='r')\n",
    "\n",
    "plt.subplot(2,2,4)\n",
    "plt.plot([1,2],[1,2],c='b')\n",
    "\n",
    "matplot.txt\n",
    "Displaying matplot.txt."
   ]
  },
  {
   "cell_type": "code",
   "execution_count": 2,
   "id": "55349b82",
   "metadata": {},
   "outputs": [],
   "source": [
    "import matplotlib.pyplot as plt"
   ]
  },
  {
   "cell_type": "markdown",
   "id": "8a588599",
   "metadata": {},
   "source": [
    "# color_abb"
   ]
  },
  {
   "cell_type": "raw",
   "id": "0e0103f8",
   "metadata": {},
   "source": [
    "The following color abbreviations are supported:\n",
    "\n",
    "==========  ========\n",
    "character   color\n",
    "==========  ========\n",
    "'b'         blue\n",
    "'g'         green\n",
    "'r'         red\n",
    "'c'         cyan\n",
    "'m'         magenta\n",
    "'y'         yellow\n",
    "'k'         black\n",
    "'w'         white"
   ]
  },
  {
   "cell_type": "markdown",
   "id": "cb7db482",
   "metadata": {},
   "source": [
    "# linestyle."
   ]
  },
  {
   "cell_type": "raw",
   "id": "8f8af92e",
   "metadata": {},
   "source": [
    "\n",
    "``'-'``             solid line style\n",
    "``'--'``            dashed line style\n",
    "``'-.'``            dash-dot line style\n",
    "``':'``             dotted line style\n",
    "linestyle.txt\n",
    "Displaying linestyle.txt."
   ]
  },
  {
   "cell_type": "markdown",
   "id": "9056deb7",
   "metadata": {},
   "source": [
    "# Marker"
   ]
  },
  {
   "cell_type": "raw",
   "id": "7e976c6a",
   "metadata": {},
   "source": [
    "# ``'.'``        point marker\n",
    "``','``          pixel marker\n",
    "``'o'``          circle marker\n",
    "``'v'``          triangle_down marker\n",
    "``'^'``          triangle_up marker\n",
    "``'<'``          triangle_left marker\n",
    "``'>'``          triangle_right marker\n",
    "``'1'``          tri_down marker\n",
    "``'2'``          tri_up marker\n",
    "``'3'``          tri_left marker\n",
    "``'4'``          tri_right marker\n",
    "``'s'``          square marker\n",
    "``'p'``          pentagon marker\n",
    "``'*'``          star marker\n",
    "``'h'``          hexagon1 marker\n",
    "``'H'``          hexagon2 marker\n",
    "``'+'``          plus marker\n",
    "``'x'``          x marker\n",
    "``'D'``          diamond marker\n",
    "``'d'``          thin_diamond marker\n",
    "``'|'``          vline marker\n",
    "``'_'``          hline marker\n",
    "marker.txt\n",
    "Displaying linestyle.txt."
   ]
  },
  {
   "cell_type": "raw",
   "id": "83782f96",
   "metadata": {},
   "source": [
    "#commonly used charts/visuals\n",
    "-----------------------------\n",
    ">line chart\n",
    ">bar chart\n",
    ">histogram\n",
    ">pie chart\n",
    ">scatter chart\n",
    ">box blot\n",
    ">join plot\n",
    ">heat map\n",
    "etc."
   ]
  },
  {
   "cell_type": "code",
   "execution_count": 3,
   "id": "1bfa9e6c",
   "metadata": {},
   "outputs": [
    {
     "data": {
      "image/png": "[encoded data removed]",
      "text/plain": [
       "<Figure size 640x480 with 1 Axes>"
      ]
     },
     "metadata": {},
     "output_type": "display_data"
    }
   ],
   "source": [
    "#line chart\n",
    "over=[5,10,15,20]\n",
    "runs=[50,70,125,240]\n",
    "plt.plot(over,runs)\n",
    "plt.xticks(range(0,22,2))\n",
    "plt.yticks(range(0,250,20))\n",
    "plt.xlabel(\"Overs\")\n",
    "plt.ylabel(\"Runs\")\n",
    "plt.show()"
   ]
  },
  {
   "cell_type": "code",
   "execution_count": null,
   "id": "52a40ac5",
   "metadata": {},
   "outputs": [],
   "source": []
  },
  {
   "cell_type": "code",
   "execution_count": null,
   "id": "0b0654b7",
   "metadata": {},
   "outputs": [],
   "source": []
  }
 ],
 "metadata": {
  "kernelspec": {
   "display_name": "Python 3 (ipykernel)",
   "language": "python",
   "name": "python3"
  },
  "language_info": {
   "codemirror_mode": {
    "name": "ipython",
    "version": 3
   },
   "file_extension": ".py",
   "mimetype": "text/x-python",
   "name": "python",
   "nbconvert_exporter": "python",
   "pygments_lexer": "ipython3",
   "version": "3.9.13"
  }
 },
 "nbformat": 4,
 "nbformat_minor": 5
}
