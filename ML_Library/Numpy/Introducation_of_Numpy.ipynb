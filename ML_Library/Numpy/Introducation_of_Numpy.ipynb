{
 "cells": [
  {
   "cell_type": "markdown",
   "id": "d41881c8",
   "metadata": {},
   "source": [
    "# 🐍🐍🐍🐍🐍🐍🐍🐍🐍🐍                Numpy          🐍🐍🐍🐍🐍 🐍🐍🐍🐍🐍"
   ]
  },
  {
   "cell_type": "raw",
   "id": "2275d3fb",
   "metadata": {},
   "source": [
    "    👨🏾‍💻 Numpy : Numpy is a python Package which stands for \" Numeric Python \".\n",
    "              : Numpy is a python library used for working with arrays.\n",
    "                it also has funcation for working in domain of linear algebra.\n",
    "    \n",
    "    👨🏾‍💻 This was created in 2005 by Travis Oliphant.\n",
    "    \n",
    "    👨🏾‍💻 Using Numpy We can perform the follwing funcations:\n",
    "\n",
    "        1. Mathematical and logic calculation on Array.\n",
    "        \n",
    "        2. Fouier Transforms and routines for shape mamipulation.\n",
    "        \n",
    "        3. It has built in funcation for Liner Algebra random number generation.\n",
    "        \n",
    "        4. Used for scientific calcaluations.\n",
    "        \n",
    "        5. It is faster than Python List.\n",
    "        \n",
    "        6. It is fast beacause it is associated with C Programing.\n",
    "\n",
    "\n",
    "\n",
    "    👨🏾‍💻 Numpy : Numpy is often called as an alternate for MatLab\n",
    "              Programming Platform designed specifically for\n",
    "              enginers and scientistis for Data analysis ,\n",
    "              Developing Algroithms , Create Models And Application etc.\n",
    "              \n",
    "\n",
    "              \n",
    "    👨🏾‍💻 Numpy is used with package like Scipy(Scientific Python) and Mat-Plotlib \n",
    "       (Plotting Libary) and this makes it capable to replace MATLAB.\n",
    "\n",
    "\n",
    "\n",
    "\n",
    "    👨🏾‍💻  1 Dimensional Array is referred to as Vector.\n",
    "\n",
    "    👨🏾‍💻  2 Dimensional Array is referred to as Matrix.\n",
    "\n",
    "    👨🏾‍💻  3 Dimensional Array is referred to as Tensor."
   ]
  },
  {
   "cell_type": "markdown",
   "id": "77325121",
   "metadata": {},
   "source": [
    "# 🐍🐍🐍🐍🐍🐍🐍🐍🐍🐍 Installing NumPy 🐍🐍🐍🐍🐍🐍🐍🐍🐍🐍"
   ]
  },
  {
   "cell_type": "raw",
   "id": "d0e6651c",
   "metadata": {},
   "source": [
    "👨🏾‍💻 Anaconda(https://www.anaconda.com) is a free Python distribuation for Scipy stack . It is also available for Linux and Mac.\n",
    "\n",
    "👨🏾‍💻 Canopy, Python (x,y) may also be used for the same but i will use Anaconda .\n",
    "\n",
    "👨🏾‍💻 Download and install Anaconda and finish it.\n",
    "\n",
    "👨🏾‍💻 Afetr installation go to start menu and click on \"Anaconda Navgiator\".\n",
    " \n",
    "👨🏾‍💻 This comes with many options like jupyter Notebook, Spyder, Vs Code etc.\n",
    "\n",
    "👨🏾‍💻 Here we will use Jupyter Notebook."
   ]
  },
  {
   "cell_type": "code",
   "execution_count": 2,
   "id": "07377a30",
   "metadata": {},
   "outputs": [],
   "source": [
    "import numpy as np"
   ]
  },
  {
   "cell_type": "code",
   "execution_count": 3,
   "id": "19c36a77",
   "metadata": {},
   "outputs": [
    {
     "data": {
      "text/plain": [
       "'1.21.5'"
      ]
     },
     "execution_count": 3,
     "metadata": {},
     "output_type": "execute_result"
    }
   ],
   "source": [
    "version = np.__version__\n",
    "version"
   ]
  },
  {
   "cell_type": "code",
   "execution_count": null,
   "id": "203db279",
   "metadata": {},
   "outputs": [],
   "source": []
  }
 ],
 "metadata": {
  "kernelspec": {
   "display_name": "Python 3 (ipykernel)",
   "language": "python",
   "name": "python3"
  },
  "language_info": {
   "codemirror_mode": {
    "name": "ipython",
    "version": 3
   },
   "file_extension": ".py",
   "mimetype": "text/x-python",
   "name": "python",
   "nbconvert_exporter": "python",
   "pygments_lexer": "ipython3",
   "version": "3.9.13"
  }
 },
 "nbformat": 4,
 "nbformat_minor": 5
}
